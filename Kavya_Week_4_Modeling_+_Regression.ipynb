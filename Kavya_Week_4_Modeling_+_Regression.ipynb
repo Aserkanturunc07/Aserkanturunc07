{
  "nbformat": 4,
  "nbformat_minor": 0,
  "metadata": {
    "colab": {
      "provenance": []
    },
    "kernelspec": {
      "name": "python3",
      "display_name": "Python 3"
    }
  },
  "cells": [
    {
      "cell_type": "markdown",
      "metadata": {
        "id": "JH2cwT2zRf6V"
      },
      "source": [
        "#**Week 4: Modeling + Regression**"
      ]
    },
    {
      "cell_type": "markdown",
      "metadata": {
        "id": "2oaeBwgBRn8a"
      },
      "source": [
        "Our goal for this week is to create a few basic models based on our dataset, and introduce regression. One choice of model would be to ignore any relationships between variables, and predict the same number for each individual – i.e., predicting a constant. We call this constant a summary statistic because it summarizes the data in our sample, and the model is known as a constant model. \n",
        "\n",
        "Let's see how it works!"
      ]
    },
    {
      "cell_type": "code",
      "metadata": {
        "id": "kS6bcF3fJC8B"
      },
      "source": [
        "import numpy as np \n",
        "import pandas as pd \n",
        "\n",
        "import matplotlib.pyplot as plt\n",
        "import seaborn as sns\n",
        "\n",
        "url = 'https://github.com/millenopan/Cardiovascular-Health-Project/blob/main/processed-cleveland.csv?raw=true'\n",
        "hd = pd.read_csv(url)\n",
        "hd.target = hd.target.replace({2:1, 3:1, 4:1}) \n",
        "url = 'https://github.com/millenopan/Cardiovascular-Health-Project/blob/main/heart-failure.csv?raw=true'\n",
        "hf = pd.read_csv(url)"
      ],
      "execution_count": null,
      "outputs": []
    },
    {
      "cell_type": "markdown",
      "metadata": {
        "id": "dXhoCjYe7Lky"
      },
      "source": [
        "For this introduction, let's start with the heart failure dataset."
      ]
    },
    {
      "cell_type": "code",
      "metadata": {
        "id": "3yMemyZTNwdJ",
        "colab": {
          "base_uri": "https://localhost:8080/",
          "height": 443
        },
        "outputId": "054141bc-0349-4113-c364-cad13dac6705"
      },
      "source": [
        "hf"
      ],
      "execution_count": null,
      "outputs": [
        {
          "output_type": "execute_result",
          "data": {
            "text/html": [
              "<div>\n",
              "<style scoped>\n",
              "    .dataframe tbody tr th:only-of-type {\n",
              "        vertical-align: middle;\n",
              "    }\n",
              "\n",
              "    .dataframe tbody tr th {\n",
              "        vertical-align: top;\n",
              "    }\n",
              "\n",
              "    .dataframe thead th {\n",
              "        text-align: right;\n",
              "    }\n",
              "</style>\n",
              "<table border=\"1\" class=\"dataframe\">\n",
              "  <thead>\n",
              "    <tr style=\"text-align: right;\">\n",
              "      <th></th>\n",
              "      <th>age</th>\n",
              "      <th>anaemia</th>\n",
              "      <th>creatinine_phosphokinase</th>\n",
              "      <th>diabetes</th>\n",
              "      <th>ejection_fraction</th>\n",
              "      <th>high_blood_pressure</th>\n",
              "      <th>platelets</th>\n",
              "      <th>serum_creatinine</th>\n",
              "      <th>serum_sodium</th>\n",
              "      <th>sex</th>\n",
              "      <th>smoking</th>\n",
              "      <th>time</th>\n",
              "      <th>DEATH_EVENT</th>\n",
              "    </tr>\n",
              "  </thead>\n",
              "  <tbody>\n",
              "    <tr>\n",
              "      <th>0</th>\n",
              "      <td>75.0</td>\n",
              "      <td>0</td>\n",
              "      <td>582</td>\n",
              "      <td>0</td>\n",
              "      <td>20</td>\n",
              "      <td>1</td>\n",
              "      <td>265000.00</td>\n",
              "      <td>1.9</td>\n",
              "      <td>130</td>\n",
              "      <td>1</td>\n",
              "      <td>0</td>\n",
              "      <td>4</td>\n",
              "      <td>1</td>\n",
              "    </tr>\n",
              "    <tr>\n",
              "      <th>1</th>\n",
              "      <td>55.0</td>\n",
              "      <td>0</td>\n",
              "      <td>7861</td>\n",
              "      <td>0</td>\n",
              "      <td>38</td>\n",
              "      <td>0</td>\n",
              "      <td>263358.03</td>\n",
              "      <td>1.1</td>\n",
              "      <td>136</td>\n",
              "      <td>1</td>\n",
              "      <td>0</td>\n",
              "      <td>6</td>\n",
              "      <td>1</td>\n",
              "    </tr>\n",
              "    <tr>\n",
              "      <th>2</th>\n",
              "      <td>65.0</td>\n",
              "      <td>0</td>\n",
              "      <td>146</td>\n",
              "      <td>0</td>\n",
              "      <td>20</td>\n",
              "      <td>0</td>\n",
              "      <td>162000.00</td>\n",
              "      <td>1.3</td>\n",
              "      <td>129</td>\n",
              "      <td>1</td>\n",
              "      <td>1</td>\n",
              "      <td>7</td>\n",
              "      <td>1</td>\n",
              "    </tr>\n",
              "    <tr>\n",
              "      <th>3</th>\n",
              "      <td>50.0</td>\n",
              "      <td>1</td>\n",
              "      <td>111</td>\n",
              "      <td>0</td>\n",
              "      <td>20</td>\n",
              "      <td>0</td>\n",
              "      <td>210000.00</td>\n",
              "      <td>1.9</td>\n",
              "      <td>137</td>\n",
              "      <td>1</td>\n",
              "      <td>0</td>\n",
              "      <td>7</td>\n",
              "      <td>1</td>\n",
              "    </tr>\n",
              "    <tr>\n",
              "      <th>4</th>\n",
              "      <td>65.0</td>\n",
              "      <td>1</td>\n",
              "      <td>160</td>\n",
              "      <td>1</td>\n",
              "      <td>20</td>\n",
              "      <td>0</td>\n",
              "      <td>327000.00</td>\n",
              "      <td>2.7</td>\n",
              "      <td>116</td>\n",
              "      <td>0</td>\n",
              "      <td>0</td>\n",
              "      <td>8</td>\n",
              "      <td>1</td>\n",
              "    </tr>\n",
              "    <tr>\n",
              "      <th>...</th>\n",
              "      <td>...</td>\n",
              "      <td>...</td>\n",
              "      <td>...</td>\n",
              "      <td>...</td>\n",
              "      <td>...</td>\n",
              "      <td>...</td>\n",
              "      <td>...</td>\n",
              "      <td>...</td>\n",
              "      <td>...</td>\n",
              "      <td>...</td>\n",
              "      <td>...</td>\n",
              "      <td>...</td>\n",
              "      <td>...</td>\n",
              "    </tr>\n",
              "    <tr>\n",
              "      <th>294</th>\n",
              "      <td>62.0</td>\n",
              "      <td>0</td>\n",
              "      <td>61</td>\n",
              "      <td>1</td>\n",
              "      <td>38</td>\n",
              "      <td>1</td>\n",
              "      <td>155000.00</td>\n",
              "      <td>1.1</td>\n",
              "      <td>143</td>\n",
              "      <td>1</td>\n",
              "      <td>1</td>\n",
              "      <td>270</td>\n",
              "      <td>0</td>\n",
              "    </tr>\n",
              "    <tr>\n",
              "      <th>295</th>\n",
              "      <td>55.0</td>\n",
              "      <td>0</td>\n",
              "      <td>1820</td>\n",
              "      <td>0</td>\n",
              "      <td>38</td>\n",
              "      <td>0</td>\n",
              "      <td>270000.00</td>\n",
              "      <td>1.2</td>\n",
              "      <td>139</td>\n",
              "      <td>0</td>\n",
              "      <td>0</td>\n",
              "      <td>271</td>\n",
              "      <td>0</td>\n",
              "    </tr>\n",
              "    <tr>\n",
              "      <th>296</th>\n",
              "      <td>45.0</td>\n",
              "      <td>0</td>\n",
              "      <td>2060</td>\n",
              "      <td>1</td>\n",
              "      <td>60</td>\n",
              "      <td>0</td>\n",
              "      <td>742000.00</td>\n",
              "      <td>0.8</td>\n",
              "      <td>138</td>\n",
              "      <td>0</td>\n",
              "      <td>0</td>\n",
              "      <td>278</td>\n",
              "      <td>0</td>\n",
              "    </tr>\n",
              "    <tr>\n",
              "      <th>297</th>\n",
              "      <td>45.0</td>\n",
              "      <td>0</td>\n",
              "      <td>2413</td>\n",
              "      <td>0</td>\n",
              "      <td>38</td>\n",
              "      <td>0</td>\n",
              "      <td>140000.00</td>\n",
              "      <td>1.4</td>\n",
              "      <td>140</td>\n",
              "      <td>1</td>\n",
              "      <td>1</td>\n",
              "      <td>280</td>\n",
              "      <td>0</td>\n",
              "    </tr>\n",
              "    <tr>\n",
              "      <th>298</th>\n",
              "      <td>50.0</td>\n",
              "      <td>0</td>\n",
              "      <td>196</td>\n",
              "      <td>0</td>\n",
              "      <td>45</td>\n",
              "      <td>0</td>\n",
              "      <td>395000.00</td>\n",
              "      <td>1.6</td>\n",
              "      <td>136</td>\n",
              "      <td>1</td>\n",
              "      <td>1</td>\n",
              "      <td>285</td>\n",
              "      <td>0</td>\n",
              "    </tr>\n",
              "  </tbody>\n",
              "</table>\n",
              "<p>299 rows × 13 columns</p>\n",
              "</div>"
            ],
            "text/plain": [
              "      age  anaemia  creatinine_phosphokinase  ...  smoking  time  DEATH_EVENT\n",
              "0    75.0        0                       582  ...        0     4            1\n",
              "1    55.0        0                      7861  ...        0     6            1\n",
              "2    65.0        0                       146  ...        1     7            1\n",
              "3    50.0        1                       111  ...        0     7            1\n",
              "4    65.0        1                       160  ...        0     8            1\n",
              "..    ...      ...                       ...  ...      ...   ...          ...\n",
              "294  62.0        0                        61  ...        1   270            0\n",
              "295  55.0        0                      1820  ...        0   271            0\n",
              "296  45.0        0                      2060  ...        0   278            0\n",
              "297  45.0        0                      2413  ...        1   280            0\n",
              "298  50.0        0                       196  ...        1   285            0\n",
              "\n",
              "[299 rows x 13 columns]"
            ]
          },
          "metadata": {
            "tags": []
          },
          "execution_count": 2
        }
      ]
    },
    {
      "cell_type": "markdown",
      "metadata": {
        "id": "oOssOK42RS1Q"
      },
      "source": [
        "-----------------------------"
      ]
    },
    {
      "cell_type": "markdown",
      "metadata": {
        "id": "BMiZdg1KRP9v"
      },
      "source": [
        "Let's begin by trying to see if we can come up with a good constant value to predict or summarize platelets in the individuals here. Let's set a basic number for now."
      ]
    },
    {
      "cell_type": "code",
      "metadata": {
        "id": "PIpvRAxjRKPw",
        "colab": {
          "base_uri": "https://localhost:8080/"
        },
        "outputId": "f167f22c-095b-44c9-98ef-ad8dd74185e1"
      },
      "source": [
        "platelets_guess = 300000\n",
        "platelets_guess"
      ],
      "execution_count": null,
      "outputs": [
        {
          "output_type": "execute_result",
          "data": {
            "text/plain": [
              "300000"
            ]
          },
          "metadata": {
            "tags": []
          },
          "execution_count": 3
        }
      ]
    },
    {
      "cell_type": "markdown",
      "metadata": {
        "id": "skYTdG2282tl"
      },
      "source": [
        "We now want to see how accurate our guess is. Let us first see how accurately our guess predicts the platelets for the first row of our dataset. In order to be able to do so, we need some metric of how “good” or “bad” our predictions are. This is where we introduce loss functions: numeric equations that can give us a value and measurement to provide us more insight on how to weigh/judge our guesses and decisions."
      ]
    },
    {
      "cell_type": "markdown",
      "metadata": {
        "id": "h1bJtYgD9PHk"
      },
      "source": [
        "We can start with two simple metrics: the squared loss and absolute loss. Much as the name implies, we'll be looking at the squared difference and absolute value difference for our chosen guess compared to actual values in our dataset."
      ]
    },
    {
      "cell_type": "code",
      "metadata": {
        "id": "WER-RoMX80TB",
        "colab": {
          "base_uri": "https://localhost:8080/"
        },
        "outputId": "e0c1a49e-6c8b-4dc4-edd7-058cd2be5085"
      },
      "source": [
        "first_platelets = hf[\"platelets\"][0]\n",
        "first_platelets"
      ],
      "execution_count": null,
      "outputs": [
        {
          "output_type": "execute_result",
          "data": {
            "text/plain": [
              "265000.0"
            ]
          },
          "metadata": {
            "tags": []
          },
          "execution_count": 4
        }
      ]
    },
    {
      "cell_type": "code",
      "metadata": {
        "id": "dIkcTv7J82_Q",
        "colab": {
          "base_uri": "https://localhost:8080/"
        },
        "outputId": "a4b824e9-db7a-4697-ab5d-43313367de8f"
      },
      "source": [
        "squared_error = (first_platelets-platelets_guess)**2\n",
        "squared_error"
      ],
      "execution_count": null,
      "outputs": [
        {
          "output_type": "execute_result",
          "data": {
            "text/plain": [
              "1225000000.0"
            ]
          },
          "metadata": {
            "tags": []
          },
          "execution_count": 5
        }
      ]
    },
    {
      "cell_type": "code",
      "metadata": {
        "id": "a74Fw1e89sk_",
        "colab": {
          "base_uri": "https://localhost:8080/"
        },
        "outputId": "7abfa3a9-6847-46dd-a1f3-a05597b75e05"
      },
      "source": [
        "absolute_error = abs(first_platelets-platelets_guess)\n",
        "absolute_error"
      ],
      "execution_count": null,
      "outputs": [
        {
          "output_type": "execute_result",
          "data": {
            "text/plain": [
              "35000.0"
            ]
          },
          "metadata": {
            "tags": []
          },
          "execution_count": 6
        }
      ]
    },
    {
      "cell_type": "markdown",
      "metadata": {
        "id": "XWp1zi-69xJF"
      },
      "source": [
        "We can see that the error values seem to be giving us a number, but its really difficult to actually extrapolate data and compare between these two. This means that our guess probably isn't great at capturing the first individual's platelets count. However, we want to find out how \"good\" or \"bad\" our model is on average for all values in the dataset. This leads us into, the root mean squared error and mean absolute error. The reason for using the root mean squared error instead of just the mean squared error is to ensure that the final error value is in the same units as the variable we're predicting."
      ]
    },
    {
      "cell_type": "code",
      "metadata": {
        "id": "XXDoCAMp-NiC",
        "colab": {
          "base_uri": "https://localhost:8080/"
        },
        "outputId": "15751dd3-4e17-4da1-864f-1539126de270"
      },
      "source": [
        "root_mean_squared_error = np.mean((hf[\"platelets\"]-platelets_guess)**2)**0.5\n",
        "root_mean_squared_error"
      ],
      "execution_count": null,
      "outputs": [
        {
          "output_type": "execute_result",
          "data": {
            "text/plain": [
              "104289.55156522471"
            ]
          },
          "metadata": {
            "tags": []
          },
          "execution_count": 7
        }
      ]
    },
    {
      "cell_type": "code",
      "metadata": {
        "id": "hmVbGzjV-R-m",
        "colab": {
          "base_uri": "https://localhost:8080/"
        },
        "outputId": "f161cf5a-99aa-45db-86e2-89f931ddfd4c"
      },
      "source": [
        "mean_absolute_error = np.mean(abs(hf[\"platelets\"]-platelets_guess))\n",
        "mean_absolute_error"
      ],
      "execution_count": null,
      "outputs": [
        {
          "output_type": "execute_result",
          "data": {
            "text/plain": [
              "79618.55936454848"
            ]
          },
          "metadata": {
            "tags": []
          },
          "execution_count": 8
        }
      ]
    },
    {
      "cell_type": "markdown",
      "metadata": {
        "id": "uDNySzZa-bL-"
      },
      "source": [
        "Both of these seem to be doing pretty poorly, so let's try a few different values: the mean and median of both datasets. Let's take a look."
      ]
    },
    {
      "cell_type": "code",
      "metadata": {
        "id": "D6y9LU9E-qXu"
      },
      "source": [
        "def root_mean_squared_error(actual, predicted):\n",
        "  return np.mean((actual-predicted)**2)**0.5"
      ],
      "execution_count": null,
      "outputs": []
    },
    {
      "cell_type": "code",
      "metadata": {
        "id": "ObvPlN55-rqf"
      },
      "source": [
        "def mean_absolute_error(actual, predicted):\n",
        "  return np.mean(abs(actual-predicted))"
      ],
      "execution_count": null,
      "outputs": []
    },
    {
      "cell_type": "code",
      "metadata": {
        "id": "srUX6hVN-s2B",
        "colab": {
          "base_uri": "https://localhost:8080/"
        },
        "outputId": "af50ab27-8c0a-43f5-a02b-82d46829f7ae"
      },
      "source": [
        "mean_val = np.mean(hf[\"platelets\"])\n",
        "actual_vals = hf[\"platelets\"]\n",
        "rmse_mean_val = root_mean_squared_error(actual_vals, mean_val)\n",
        "mae_mean_val = mean_absolute_error(actual_vals, mean_val)\n",
        "print(\"Mean Value, RMSE, MAE\")\n",
        "mean_val, rmse_mean_val, mae_mean_val"
      ],
      "execution_count": null,
      "outputs": [
        {
          "output_type": "stream",
          "text": [
            "Mean Value, RMSE, MAE\n"
          ],
          "name": "stdout"
        },
        {
          "output_type": "execute_result",
          "data": {
            "text/plain": [
              "(263358.02926421416, 97640.54765451424, 66909.44761803556)"
            ]
          },
          "metadata": {
            "tags": []
          },
          "execution_count": 11
        }
      ]
    },
    {
      "cell_type": "code",
      "metadata": {
        "id": "z0iBHkU1_ACE",
        "colab": {
          "base_uri": "https://localhost:8080/"
        },
        "outputId": "38c06fc4-20f2-4fea-ce35-a21e5da1f2a7"
      },
      "source": [
        "median_val = np.median(hf[\"platelets\"])\n",
        "actual_vals = hf[\"platelets\"]\n",
        "rmse_median_val = root_mean_squared_error(actual_vals, median_val)\n",
        "mae_median_val = mean_absolute_error(actual_vals, median_val)\n",
        "print(\"Median Value, RMSE, MAE\")\n",
        "median_val, rmse_median_val, mae_median_val"
      ],
      "execution_count": null,
      "outputs": [
        {
          "output_type": "stream",
          "text": [
            "Median Value, RMSE, MAE\n"
          ],
          "name": "stdout"
        },
        {
          "output_type": "execute_result",
          "data": {
            "text/plain": [
              "(262000.0, 97649.99124298953, 66902.51086956522)"
            ]
          },
          "metadata": {
            "tags": []
          },
          "execution_count": 12
        }
      ]
    },
    {
      "cell_type": "markdown",
      "metadata": {
        "id": "PwTCFUFhB8hm"
      },
      "source": [
        "The mean and median seem pretty close. Hmm, does this make sense? Let's take a look at the distribution."
      ]
    },
    {
      "cell_type": "code",
      "metadata": {
        "id": "EqYBA0gHCDOr",
        "colab": {
          "base_uri": "https://localhost:8080/",
          "height": 344
        },
        "outputId": "3d7dff71-6687-44d8-aec6-884bc592265c"
      },
      "source": [
        "sns.distplot(hf['platelets']);"
      ],
      "execution_count": null,
      "outputs": [
        {
          "output_type": "stream",
          "text": [
            "/usr/local/lib/python3.7/dist-packages/seaborn/distributions.py:2557: FutureWarning: `distplot` is a deprecated function and will be removed in a future version. Please adapt your code to use either `displot` (a figure-level function with similar flexibility) or `histplot` (an axes-level function for histograms).\n",
            "  warnings.warn(msg, FutureWarning)\n"
          ],
          "name": "stderr"
        },
        {
          "output_type": "display_data",
          "data": {
            "image/png": "[encoded data removed]",
            "text/plain": [
              "<Figure size 432x288 with 1 Axes>"
            ]
          },
          "metadata": {
            "tags": [],
            "needs_background": "light"
          }
        }
      ]
    },
    {
      "cell_type": "markdown",
      "metadata": {
        "id": "IMoVohTGCKOC"
      },
      "source": [
        "It seems to check out compared to the distribution of our data."
      ]
    },
    {
      "cell_type": "markdown",
      "metadata": {
        "id": "w0soHDsSCOg9"
      },
      "source": [
        "---------------------------------"
      ]
    },
    {
      "cell_type": "markdown",
      "metadata": {
        "id": "fxgziBHMAFhQ"
      },
      "source": [
        "In general, we decide which loss function we want to use to evaluate our model before we start and then tweak our model such that this value is minimized. We can see that the root mean squared error is lower for the mean cost, and the mean absolute error for the median cost. Hence, if we used the root mean squared error as our loss function, we would select the mean cost as our constant, and if we used the mean absolute error as our loss function, we would select the median cost as our constant.\n",
        "\n",
        "We can see that our error values are lower than before, which means our model has improved! The values are, however, still quite high. We should probably try bringing in other variables to contribute to making a model that is better at predicting platelets in individuals."
      ]
    },
    {
      "cell_type": "markdown",
      "metadata": {
        "id": "hKz6qtSfVmnu"
      },
      "source": [
        "-----------------------------------"
      ]
    },
    {
      "cell_type": "markdown",
      "metadata": {
        "id": "kpS6Nm5YVnqk"
      },
      "source": [
        "We will start by showcasing linear regression. Much as the name implies, a linear regression is a linear approach where we show a scalar relationship between our dependent and independent variables. A linear model is of the form: $y = a_0 + a_1x_1 + a_2x_2 + .. + a_nx_n$, where $x_i$ represents our independent variables and the $a_i$ are our coefficients. For this example, let's start by just using one independent variable. This model will be of the form $y = wx + c$ as a result."
      ]
    },
    {
      "cell_type": "code",
      "metadata": {
        "id": "ffQ3jbH3ASF6"
      },
      "source": [
        "from sklearn.linear_model import LinearRegression #linear regression from sklearn"
      ],
      "execution_count": null,
      "outputs": []
    },
    {
      "cell_type": "markdown",
      "metadata": {
        "id": "2-stzOkmWjqd"
      },
      "source": [
        "First, we want to divide our data into a training data and test data. We only have a finite amount of data on hand, so spliting this means we will be able to use the training data to train our model, and the test data to evaluate how well the model does on \"unseen\" data. We use the train_test_split function for this, and by keeping test_size as 0.2, we 80% of the data is used as training data, and 20% is used as test data."
      ]
    },
    {
      "cell_type": "code",
      "metadata": {
        "id": "IoiGqkiwWb_K"
      },
      "source": [
        "from sklearn.model_selection import train_test_split\n",
        "train, test = train_test_split(hf, test_size=0.2, random_state=85) #random_state basically prevents a random train and test split: Used for demo purposes for consistency"
      ],
      "execution_count": null,
      "outputs": []
    },
    {
      "cell_type": "code",
      "metadata": {
        "id": "ZpwPWuvRW4ZD"
      },
      "source": [
        "X_train = train.loc[:, [\"age\"]]\n",
        "y_train = train[\"platelets\"]\n",
        "X_test = test.loc[:, [\"age\"]]\n",
        "y_test = test[\"platelets\"]"
      ],
      "execution_count": null,
      "outputs": []
    },
    {
      "cell_type": "code",
      "metadata": {
        "id": "uMQqi6DUXC4P",
        "colab": {
          "base_uri": "https://localhost:8080/",
          "height": 1000
        },
        "outputId": "99aa6ad5-f143-474b-b273-c95e9a8782d0"
      },
      "source": [
        "display(X_train, y_train, X_test, y_test)"
      ],
      "execution_count": null,
      "outputs": [
        {
          "output_type": "display_data",
          "data": {
            "text/html": [
              "<div>\n",
              "<style scoped>\n",
              "    .dataframe tbody tr th:only-of-type {\n",
              "        vertical-align: middle;\n",
              "    }\n",
              "\n",
              "    .dataframe tbody tr th {\n",
              "        vertical-align: top;\n",
              "    }\n",
              "\n",
              "    .dataframe thead th {\n",
              "        text-align: right;\n",
              "    }\n",
              "</style>\n",
              "<table border=\"1\" class=\"dataframe\">\n",
              "  <thead>\n",
              "    <tr style=\"text-align: right;\">\n",
              "      <th></th>\n",
              "      <th>age</th>\n",
              "    </tr>\n",
              "  </thead>\n",
              "  <tbody>\n",
              "    <tr>\n",
              "      <th>291</th>\n",
              "      <td>60.0</td>\n",
              "    </tr>\n",
              "    <tr>\n",
              "      <th>90</th>\n",
              "      <td>70.0</td>\n",
              "    </tr>\n",
              "    <tr>\n",
              "      <th>106</th>\n",
              "      <td>55.0</td>\n",
              "    </tr>\n",
              "    <tr>\n",
              "      <th>197</th>\n",
              "      <td>65.0</td>\n",
              "    </tr>\n",
              "    <tr>\n",
              "      <th>261</th>\n",
              "      <td>62.0</td>\n",
              "    </tr>\n",
              "    <tr>\n",
              "      <th>...</th>\n",
              "      <td>...</td>\n",
              "    </tr>\n",
              "    <tr>\n",
              "      <th>83</th>\n",
              "      <td>79.0</td>\n",
              "    </tr>\n",
              "    <tr>\n",
              "      <th>52</th>\n",
              "      <td>60.0</td>\n",
              "    </tr>\n",
              "    <tr>\n",
              "      <th>51</th>\n",
              "      <td>53.0</td>\n",
              "    </tr>\n",
              "    <tr>\n",
              "      <th>196</th>\n",
              "      <td>45.0</td>\n",
              "    </tr>\n",
              "    <tr>\n",
              "      <th>160</th>\n",
              "      <td>66.0</td>\n",
              "    </tr>\n",
              "  </tbody>\n",
              "</table>\n",
              "<p>239 rows × 1 columns</p>\n",
              "</div>"
            ],
            "text/plain": [
              "      age\n",
              "291  60.0\n",
              "90   70.0\n",
              "106  55.0\n",
              "197  65.0\n",
              "261  62.0\n",
              "..    ...\n",
              "83   79.0\n",
              "52   60.0\n",
              "51   53.0\n",
              "196  45.0\n",
              "160  66.0\n",
              "\n",
              "[239 rows x 1 columns]"
            ]
          },
          "metadata": {
            "tags": []
          }
        },
        {
          "output_type": "display_data",
          "data": {
            "text/plain": [
              "291    133000.00\n",
              "90     249000.00\n",
              "106    263000.00\n",
              "197    259000.00\n",
              "261    283000.00\n",
              "         ...    \n",
              "83     172000.00\n",
              "52     263358.03\n",
              "51     418000.00\n",
              "196    263358.03\n",
              "160    242000.00\n",
              "Name: platelets, Length: 239, dtype: float64"
            ]
          },
          "metadata": {
            "tags": []
          }
        },
        {
          "output_type": "display_data",
          "data": {
            "text/html": [
              "<div>\n",
              "<style scoped>\n",
              "    .dataframe tbody tr th:only-of-type {\n",
              "        vertical-align: middle;\n",
              "    }\n",
              "\n",
              "    .dataframe tbody tr th {\n",
              "        vertical-align: top;\n",
              "    }\n",
              "\n",
              "    .dataframe thead th {\n",
              "        text-align: right;\n",
              "    }\n",
              "</style>\n",
              "<table border=\"1\" class=\"dataframe\">\n",
              "  <thead>\n",
              "    <tr style=\"text-align: right;\">\n",
              "      <th></th>\n",
              "      <th>age</th>\n",
              "    </tr>\n",
              "  </thead>\n",
              "  <tbody>\n",
              "    <tr>\n",
              "      <th>277</th>\n",
              "      <td>70.000</td>\n",
              "    </tr>\n",
              "    <tr>\n",
              "      <th>63</th>\n",
              "      <td>45.000</td>\n",
              "    </tr>\n",
              "    <tr>\n",
              "      <th>189</th>\n",
              "      <td>40.000</td>\n",
              "    </tr>\n",
              "    <tr>\n",
              "      <th>134</th>\n",
              "      <td>81.000</td>\n",
              "    </tr>\n",
              "    <tr>\n",
              "      <th>298</th>\n",
              "      <td>50.000</td>\n",
              "    </tr>\n",
              "    <tr>\n",
              "      <th>150</th>\n",
              "      <td>72.000</td>\n",
              "    </tr>\n",
              "    <tr>\n",
              "      <th>27</th>\n",
              "      <td>70.000</td>\n",
              "    </tr>\n",
              "    <tr>\n",
              "      <th>32</th>\n",
              "      <td>50.000</td>\n",
              "    </tr>\n",
              "    <tr>\n",
              "      <th>256</th>\n",
              "      <td>65.000</td>\n",
              "    </tr>\n",
              "    <tr>\n",
              "      <th>94</th>\n",
              "      <td>58.000</td>\n",
              "    </tr>\n",
              "    <tr>\n",
              "      <th>149</th>\n",
              "      <td>60.000</td>\n",
              "    </tr>\n",
              "    <tr>\n",
              "      <th>188</th>\n",
              "      <td>60.667</td>\n",
              "    </tr>\n",
              "    <tr>\n",
              "      <th>100</th>\n",
              "      <td>65.000</td>\n",
              "    </tr>\n",
              "    <tr>\n",
              "      <th>293</th>\n",
              "      <td>63.000</td>\n",
              "    </tr>\n",
              "    <tr>\n",
              "      <th>28</th>\n",
              "      <td>58.000</td>\n",
              "    </tr>\n",
              "    <tr>\n",
              "      <th>153</th>\n",
              "      <td>50.000</td>\n",
              "    </tr>\n",
              "    <tr>\n",
              "      <th>112</th>\n",
              "      <td>50.000</td>\n",
              "    </tr>\n",
              "    <tr>\n",
              "      <th>79</th>\n",
              "      <td>55.000</td>\n",
              "    </tr>\n",
              "    <tr>\n",
              "      <th>138</th>\n",
              "      <td>62.000</td>\n",
              "    </tr>\n",
              "    <tr>\n",
              "      <th>129</th>\n",
              "      <td>53.000</td>\n",
              "    </tr>\n",
              "    <tr>\n",
              "      <th>193</th>\n",
              "      <td>73.000</td>\n",
              "    </tr>\n",
              "    <tr>\n",
              "      <th>289</th>\n",
              "      <td>90.000</td>\n",
              "    </tr>\n",
              "    <tr>\n",
              "      <th>285</th>\n",
              "      <td>55.000</td>\n",
              "    </tr>\n",
              "    <tr>\n",
              "      <th>200</th>\n",
              "      <td>63.000</td>\n",
              "    </tr>\n",
              "    <tr>\n",
              "      <th>95</th>\n",
              "      <td>58.000</td>\n",
              "    </tr>\n",
              "    <tr>\n",
              "      <th>276</th>\n",
              "      <td>70.000</td>\n",
              "    </tr>\n",
              "    <tr>\n",
              "      <th>102</th>\n",
              "      <td>80.000</td>\n",
              "    </tr>\n",
              "    <tr>\n",
              "      <th>64</th>\n",
              "      <td>45.000</td>\n",
              "    </tr>\n",
              "    <tr>\n",
              "      <th>111</th>\n",
              "      <td>55.000</td>\n",
              "    </tr>\n",
              "    <tr>\n",
              "      <th>120</th>\n",
              "      <td>60.000</td>\n",
              "    </tr>\n",
              "    <tr>\n",
              "      <th>239</th>\n",
              "      <td>55.000</td>\n",
              "    </tr>\n",
              "    <tr>\n",
              "      <th>122</th>\n",
              "      <td>60.000</td>\n",
              "    </tr>\n",
              "    <tr>\n",
              "      <th>62</th>\n",
              "      <td>55.000</td>\n",
              "    </tr>\n",
              "    <tr>\n",
              "      <th>260</th>\n",
              "      <td>55.000</td>\n",
              "    </tr>\n",
              "    <tr>\n",
              "      <th>130</th>\n",
              "      <td>53.000</td>\n",
              "    </tr>\n",
              "    <tr>\n",
              "      <th>74</th>\n",
              "      <td>69.000</td>\n",
              "    </tr>\n",
              "    <tr>\n",
              "      <th>208</th>\n",
              "      <td>60.000</td>\n",
              "    </tr>\n",
              "    <tr>\n",
              "      <th>205</th>\n",
              "      <td>50.000</td>\n",
              "    </tr>\n",
              "    <tr>\n",
              "      <th>16</th>\n",
              "      <td>87.000</td>\n",
              "    </tr>\n",
              "    <tr>\n",
              "      <th>295</th>\n",
              "      <td>55.000</td>\n",
              "    </tr>\n",
              "    <tr>\n",
              "      <th>61</th>\n",
              "      <td>50.000</td>\n",
              "    </tr>\n",
              "    <tr>\n",
              "      <th>99</th>\n",
              "      <td>63.000</td>\n",
              "    </tr>\n",
              "    <tr>\n",
              "      <th>77</th>\n",
              "      <td>42.000</td>\n",
              "    </tr>\n",
              "    <tr>\n",
              "      <th>38</th>\n",
              "      <td>60.000</td>\n",
              "    </tr>\n",
              "    <tr>\n",
              "      <th>174</th>\n",
              "      <td>65.000</td>\n",
              "    </tr>\n",
              "    <tr>\n",
              "      <th>158</th>\n",
              "      <td>85.000</td>\n",
              "    </tr>\n",
              "    <tr>\n",
              "      <th>34</th>\n",
              "      <td>65.000</td>\n",
              "    </tr>\n",
              "    <tr>\n",
              "      <th>117</th>\n",
              "      <td>85.000</td>\n",
              "    </tr>\n",
              "    <tr>\n",
              "      <th>141</th>\n",
              "      <td>46.000</td>\n",
              "    </tr>\n",
              "    <tr>\n",
              "      <th>23</th>\n",
              "      <td>53.000</td>\n",
              "    </tr>\n",
              "    <tr>\n",
              "      <th>119</th>\n",
              "      <td>86.000</td>\n",
              "    </tr>\n",
              "    <tr>\n",
              "      <th>240</th>\n",
              "      <td>70.000</td>\n",
              "    </tr>\n",
              "    <tr>\n",
              "      <th>168</th>\n",
              "      <td>65.000</td>\n",
              "    </tr>\n",
              "    <tr>\n",
              "      <th>199</th>\n",
              "      <td>60.000</td>\n",
              "    </tr>\n",
              "    <tr>\n",
              "      <th>231</th>\n",
              "      <td>70.000</td>\n",
              "    </tr>\n",
              "    <tr>\n",
              "      <th>8</th>\n",
              "      <td>65.000</td>\n",
              "    </tr>\n",
              "    <tr>\n",
              "      <th>151</th>\n",
              "      <td>62.000</td>\n",
              "    </tr>\n",
              "    <tr>\n",
              "      <th>66</th>\n",
              "      <td>42.000</td>\n",
              "    </tr>\n",
              "    <tr>\n",
              "      <th>105</th>\n",
              "      <td>72.000</td>\n",
              "    </tr>\n",
              "    <tr>\n",
              "      <th>55</th>\n",
              "      <td>95.000</td>\n",
              "    </tr>\n",
              "  </tbody>\n",
              "</table>\n",
              "</div>"
            ],
            "text/plain": [
              "        age\n",
              "277  70.000\n",
              "63   45.000\n",
              "189  40.000\n",
              "134  81.000\n",
              "298  50.000\n",
              "150  72.000\n",
              "27   70.000\n",
              "32   50.000\n",
              "256  65.000\n",
              "94   58.000\n",
              "149  60.000\n",
              "188  60.667\n",
              "100  65.000\n",
              "293  63.000\n",
              "28   58.000\n",
              "153  50.000\n",
              "112  50.000\n",
              "79   55.000\n",
              "138  62.000\n",
              "129  53.000\n",
              "193  73.000\n",
              "289  90.000\n",
              "285  55.000\n",
              "200  63.000\n",
              "95   58.000\n",
              "276  70.000\n",
              "102  80.000\n",
              "64   45.000\n",
              "111  55.000\n",
              "120  60.000\n",
              "239  55.000\n",
              "122  60.000\n",
              "62   55.000\n",
              "260  55.000\n",
              "130  53.000\n",
              "74   69.000\n",
              "208  60.000\n",
              "205  50.000\n",
              "16   87.000\n",
              "295  55.000\n",
              "61   50.000\n",
              "99   63.000\n",
              "77   42.000\n",
              "38   60.000\n",
              "174  65.000\n",
              "158  85.000\n",
              "34   65.000\n",
              "117  85.000\n",
              "141  46.000\n",
              "23   53.000\n",
              "119  86.000\n",
              "240  70.000\n",
              "168  65.000\n",
              "199  60.000\n",
              "231  70.000\n",
              "8    65.000\n",
              "151  62.000\n",
              "66   42.000\n",
              "105  72.000\n",
              "55   95.000"
            ]
          },
          "metadata": {
            "tags": []
          }
        },
        {
          "output_type": "display_data",
          "data": {
            "text/plain": [
              "277     25100.00\n",
              "63     385000.00\n",
              "189    275000.00\n",
              "134    231000.00\n",
              "298    395000.00\n",
              "150    235000.00\n",
              "27     284000.00\n",
              "32     319000.00\n",
              "256    294000.00\n",
              "94     327000.00\n",
              "149    228000.00\n",
              "188    201000.00\n",
              "100    298000.00\n",
              "293    179000.00\n",
              "28     153000.00\n",
              "153    263358.03\n",
              "112    252000.00\n",
              "79     324000.00\n",
              "138    221000.00\n",
              "129    227000.00\n",
              "193    160000.00\n",
              "289    390000.00\n",
              "285    336000.00\n",
              "200     73000.00\n",
              "95     219000.00\n",
              "276    327000.00\n",
              "102    149000.00\n",
              "64     263358.03\n",
              "111    228000.00\n",
              "120    210000.00\n",
              "239    263358.03\n",
              "122    228000.00\n",
              "62     254000.00\n",
              "260    203000.00\n",
              "130    249000.00\n",
              "74     266000.00\n",
              "208    283000.00\n",
              "205    362000.00\n",
              "16     262000.00\n",
              "295    270000.00\n",
              "61     216000.00\n",
              "99     221000.00\n",
              "77     237000.00\n",
              "38     305000.00\n",
              "174    281000.00\n",
              "158    235000.00\n",
              "34     188000.00\n",
              "117    507000.00\n",
              "141    348000.00\n",
              "23     368000.00\n",
              "119    263358.03\n",
              "240    533000.00\n",
              "168    270000.00\n",
              "199    263358.03\n",
              "231    185000.00\n",
              "8      263358.03\n",
              "151    244000.00\n",
              "66     213000.00\n",
              "105    621000.00\n",
              "55     461000.00\n",
              "Name: platelets, dtype: float64"
            ]
          },
          "metadata": {
            "tags": []
          }
        }
      ]
    },
    {
      "cell_type": "code",
      "metadata": {
        "id": "7kMy3jo3XEFk",
        "colab": {
          "base_uri": "https://localhost:8080/"
        },
        "outputId": "294bd3d7-1b7b-4c1d-abe6-78f2b8e97e2b"
      },
      "source": [
        "model = LinearRegression() \n",
        "model.fit(X_train, y_train)"
      ],
      "execution_count": null,
      "outputs": [
        {
          "output_type": "execute_result",
          "data": {
            "text/plain": [
              "LinearRegression(copy_X=True, fit_intercept=True, n_jobs=None, normalize=False)"
            ]
          },
          "metadata": {
            "tags": []
          },
          "execution_count": 18
        }
      ]
    },
    {
      "cell_type": "markdown",
      "metadata": {
        "id": "GTLxk8TmXYD2"
      },
      "source": [
        "We can now use our model to predict the platelets count based on the age of the individual. Let's try using our model to predict the platelets for the training data and the test data. We can then use the rmse function that we created to evaluate our model."
      ]
    },
    {
      "cell_type": "code",
      "metadata": {
        "id": "OpL6Mx3eXVSU"
      },
      "source": [
        "y_pred_train = model.predict(X_train)\n",
        "y_pred_test = model.predict(X_test)"
      ],
      "execution_count": null,
      "outputs": []
    },
    {
      "cell_type": "code",
      "metadata": {
        "id": "97BcNeAyXgUm",
        "colab": {
          "base_uri": "https://localhost:8080/"
        },
        "outputId": "b0192a66-c322-4bfa-fc78-b6e896da6e43"
      },
      "source": [
        "training_error = root_mean_squared_error(y_train, y_pred_train)\n",
        "test_error = root_mean_squared_error(y_test, y_pred_test)\n",
        "print(\"The training error is \" + str(training_error) + \" and the test error is \" + str(test_error))"
      ],
      "execution_count": null,
      "outputs": [
        {
          "output_type": "stream",
          "text": [
            "The training error is 96952.0169697921 and the test error is 100507.31888341445\n"
          ],
          "name": "stdout"
        }
      ]
    },
    {
      "cell_type": "markdown",
      "metadata": {
        "id": "nEu-huXyZR0p"
      },
      "source": [
        "In this week's document, the error shown above will be described a bit more in detail for you to understand what is going on. Let's try testing our model on a sample!"
      ]
    },
    {
      "cell_type": "code",
      "metadata": {
        "id": "Mt0XFvLcYnAW",
        "colab": {
          "base_uri": "https://localhost:8080/",
          "height": 226
        },
        "outputId": "de643036-6794-4e17-8cdf-72492e9599ed"
      },
      "source": [
        "test.head()"
      ],
      "execution_count": null,
      "outputs": [
        {
          "output_type": "execute_result",
          "data": {
            "text/html": [
              "<div>\n",
              "<style scoped>\n",
              "    .dataframe tbody tr th:only-of-type {\n",
              "        vertical-align: middle;\n",
              "    }\n",
              "\n",
              "    .dataframe tbody tr th {\n",
              "        vertical-align: top;\n",
              "    }\n",
              "\n",
              "    .dataframe thead th {\n",
              "        text-align: right;\n",
              "    }\n",
              "</style>\n",
              "<table border=\"1\" class=\"dataframe\">\n",
              "  <thead>\n",
              "    <tr style=\"text-align: right;\">\n",
              "      <th></th>\n",
              "      <th>age</th>\n",
              "      <th>anaemia</th>\n",
              "      <th>creatinine_phosphokinase</th>\n",
              "      <th>diabetes</th>\n",
              "      <th>ejection_fraction</th>\n",
              "      <th>high_blood_pressure</th>\n",
              "      <th>platelets</th>\n",
              "      <th>serum_creatinine</th>\n",
              "      <th>serum_sodium</th>\n",
              "      <th>sex</th>\n",
              "      <th>smoking</th>\n",
              "      <th>time</th>\n",
              "      <th>DEATH_EVENT</th>\n",
              "    </tr>\n",
              "  </thead>\n",
              "  <tbody>\n",
              "    <tr>\n",
              "      <th>277</th>\n",
              "      <td>70.0</td>\n",
              "      <td>0</td>\n",
              "      <td>582</td>\n",
              "      <td>1</td>\n",
              "      <td>38</td>\n",
              "      <td>0</td>\n",
              "      <td>25100.0</td>\n",
              "      <td>1.10</td>\n",
              "      <td>140</td>\n",
              "      <td>1</td>\n",
              "      <td>0</td>\n",
              "      <td>246</td>\n",
              "      <td>0</td>\n",
              "    </tr>\n",
              "    <tr>\n",
              "      <th>63</th>\n",
              "      <td>45.0</td>\n",
              "      <td>0</td>\n",
              "      <td>582</td>\n",
              "      <td>0</td>\n",
              "      <td>35</td>\n",
              "      <td>0</td>\n",
              "      <td>385000.0</td>\n",
              "      <td>1.00</td>\n",
              "      <td>145</td>\n",
              "      <td>1</td>\n",
              "      <td>0</td>\n",
              "      <td>61</td>\n",
              "      <td>1</td>\n",
              "    </tr>\n",
              "    <tr>\n",
              "      <th>189</th>\n",
              "      <td>40.0</td>\n",
              "      <td>0</td>\n",
              "      <td>244</td>\n",
              "      <td>0</td>\n",
              "      <td>45</td>\n",
              "      <td>1</td>\n",
              "      <td>275000.0</td>\n",
              "      <td>0.90</td>\n",
              "      <td>140</td>\n",
              "      <td>0</td>\n",
              "      <td>0</td>\n",
              "      <td>174</td>\n",
              "      <td>0</td>\n",
              "    </tr>\n",
              "    <tr>\n",
              "      <th>134</th>\n",
              "      <td>81.0</td>\n",
              "      <td>0</td>\n",
              "      <td>4540</td>\n",
              "      <td>0</td>\n",
              "      <td>35</td>\n",
              "      <td>0</td>\n",
              "      <td>231000.0</td>\n",
              "      <td>1.18</td>\n",
              "      <td>137</td>\n",
              "      <td>1</td>\n",
              "      <td>1</td>\n",
              "      <td>107</td>\n",
              "      <td>0</td>\n",
              "    </tr>\n",
              "    <tr>\n",
              "      <th>298</th>\n",
              "      <td>50.0</td>\n",
              "      <td>0</td>\n",
              "      <td>196</td>\n",
              "      <td>0</td>\n",
              "      <td>45</td>\n",
              "      <td>0</td>\n",
              "      <td>395000.0</td>\n",
              "      <td>1.60</td>\n",
              "      <td>136</td>\n",
              "      <td>1</td>\n",
              "      <td>1</td>\n",
              "      <td>285</td>\n",
              "      <td>0</td>\n",
              "    </tr>\n",
              "  </tbody>\n",
              "</table>\n",
              "</div>"
            ],
            "text/plain": [
              "      age  anaemia  creatinine_phosphokinase  ...  smoking  time  DEATH_EVENT\n",
              "277  70.0        0                       582  ...        0   246            0\n",
              "63   45.0        0                       582  ...        0    61            1\n",
              "189  40.0        0                       244  ...        0   174            0\n",
              "134  81.0        0                      4540  ...        1   107            0\n",
              "298  50.0        0                       196  ...        1   285            0\n",
              "\n",
              "[5 rows x 13 columns]"
            ]
          },
          "metadata": {
            "tags": []
          },
          "execution_count": 21
        }
      ]
    },
    {
      "cell_type": "code",
      "metadata": {
        "id": "lyXhCU9KZaOp",
        "colab": {
          "base_uri": "https://localhost:8080/"
        },
        "outputId": "646c12a3-4e28-44c0-f74e-5d2bc3dd50d8"
      },
      "source": [
        "model.predict(X_test)[0] # use our model to predict the first entry"
      ],
      "execution_count": null,
      "outputs": [
        {
          "output_type": "execute_result",
          "data": {
            "text/plain": [
              "252911.34273178762"
            ]
          },
          "metadata": {
            "tags": []
          },
          "execution_count": 22
        }
      ]
    },
    {
      "cell_type": "code",
      "metadata": {
        "id": "6qOdCqrdZc0h",
        "colab": {
          "base_uri": "https://localhost:8080/"
        },
        "outputId": "d33f672a-a419-4120-f622-61218cb16a3d"
      },
      "source": [
        "model.predict(X_test)[1] # what about the second one?"
      ],
      "execution_count": null,
      "outputs": [
        {
          "output_type": "execute_result",
          "data": {
            "text/plain": [
              "274555.6232267873"
            ]
          },
          "metadata": {
            "tags": []
          },
          "execution_count": 23
        }
      ]
    },
    {
      "cell_type": "markdown",
      "metadata": {
        "id": "TE2jGnk5ZrrF"
      },
      "source": [
        "Hmm... that actually seems quite a bit off. Maybe we can do something to make our model better! As you work through the walkthrough notebook, don't forget that you can always apply these to the heart disease dataset as well!"
      ]
    },
    {
      "cell_type": "code",
      "metadata": {
        "id": "YzOROe1X0VWH"
      },
      "source": [
        "from sklearn.linear_model import LinearRegression #linear regression from sklearn\n",
        "from sklearn.model_selection import train_test_split\n",
        "train_e, test_e = train_test_split(hf, test_size=0.25,)\n"
      ],
      "execution_count": null,
      "outputs": []
    },
    {
      "cell_type": "code",
      "metadata": {
        "id": "0ZSGn-RK02ri"
      },
      "source": [
        "# training model predicted ejection fraction using age\n",
        "X_train_e = train_e.loc[:, [\"age\"]]\n",
        "y_train_e = train_e[\"ejection_fraction\"]\n",
        "X_test_e = test_e.loc[:, [\"age\"]]\n",
        "y_test_e = test_e[\"ejection_fraction\"]"
      ],
      "execution_count": null,
      "outputs": []
    },
    {
      "cell_type": "code",
      "metadata": {
        "colab": {
          "base_uri": "https://localhost:8080/"
        },
        "id": "px7K2T8R2cbI",
        "outputId": "994d2b45-03ad-42c6-9a1e-054ae1b78de0"
      },
      "source": [
        "model = LinearRegression() \n",
        "model.fit(X_train_e, y_train_e)"
      ],
      "execution_count": null,
      "outputs": [
        {
          "output_type": "execute_result",
          "data": {
            "text/plain": [
              "LinearRegression(copy_X=True, fit_intercept=True, n_jobs=None, normalize=False)"
            ]
          },
          "metadata": {
            "tags": []
          },
          "execution_count": 65
        }
      ]
    },
    {
      "cell_type": "code",
      "metadata": {
        "id": "wrioZuSV27a-"
      },
      "source": [
        "y_pred_train_e = model.predict(X_train_e)\n",
        "y_pred_test_e = model.predict(X_test_e)"
      ],
      "execution_count": null,
      "outputs": []
    },
    {
      "cell_type": "code",
      "metadata": {
        "colab": {
          "base_uri": "https://localhost:8080/"
        },
        "id": "SRea5Z-F3Bod",
        "outputId": "e290d378-3b0b-440f-d5fd-f9131e017216"
      },
      "source": [
        "training_error_e = root_mean_squared_error(y_train_e, y_pred_train_e)\n",
        "test_error_e = root_mean_squared_error(y_test_e, y_pred_test_e)\n",
        "print(\"The training error is \" + str(training_error_e) + \" and the test error is \" + str(test_error_e))\n"
      ],
      "execution_count": null,
      "outputs": [
        {
          "output_type": "stream",
          "text": [
            "The training error is 11.761190002114931 and the test error is 11.896160115068614\n"
          ],
          "name": "stdout"
        }
      ]
    },
    {
      "cell_type": "code",
      "metadata": {
        "colab": {
          "base_uri": "https://localhost:8080/"
        },
        "id": "v4oRbIoa407-",
        "outputId": "252e93dd-9746-491e-f62a-dfca9b260eb5"
      },
      "source": [
        "model.predict(X_test_e)[0]"
      ],
      "execution_count": null,
      "outputs": [
        {
          "output_type": "execute_result",
          "data": {
            "text/plain": [
              "38.43689122561294"
            ]
          },
          "metadata": {
            "tags": []
          },
          "execution_count": 29
        }
      ]
    },
    {
      "cell_type": "code",
      "metadata": {
        "colab": {
          "base_uri": "https://localhost:8080/",
          "height": 226
        },
        "id": "x9ria0LY45fH",
        "outputId": "683c0abc-d75d-4499-9420-b2962f8aa4c0"
      },
      "source": [
        "test_e.head()"
      ],
      "execution_count": null,
      "outputs": [
        {
          "output_type": "execute_result",
          "data": {
            "text/html": [
              "<div>\n",
              "<style scoped>\n",
              "    .dataframe tbody tr th:only-of-type {\n",
              "        vertical-align: middle;\n",
              "    }\n",
              "\n",
              "    .dataframe tbody tr th {\n",
              "        vertical-align: top;\n",
              "    }\n",
              "\n",
              "    .dataframe thead th {\n",
              "        text-align: right;\n",
              "    }\n",
              "</style>\n",
              "<table border=\"1\" class=\"dataframe\">\n",
              "  <thead>\n",
              "    <tr style=\"text-align: right;\">\n",
              "      <th></th>\n",
              "      <th>age</th>\n",
              "      <th>anaemia</th>\n",
              "      <th>creatinine_phosphokinase</th>\n",
              "      <th>diabetes</th>\n",
              "      <th>ejection_fraction</th>\n",
              "      <th>high_blood_pressure</th>\n",
              "      <th>platelets</th>\n",
              "      <th>serum_creatinine</th>\n",
              "      <th>serum_sodium</th>\n",
              "      <th>sex</th>\n",
              "      <th>smoking</th>\n",
              "      <th>time</th>\n",
              "      <th>DEATH_EVENT</th>\n",
              "    </tr>\n",
              "  </thead>\n",
              "  <tbody>\n",
              "    <tr>\n",
              "      <th>75</th>\n",
              "      <td>60.0</td>\n",
              "      <td>1</td>\n",
              "      <td>47</td>\n",
              "      <td>0</td>\n",
              "      <td>20</td>\n",
              "      <td>0</td>\n",
              "      <td>204000.0</td>\n",
              "      <td>0.7</td>\n",
              "      <td>139</td>\n",
              "      <td>1</td>\n",
              "      <td>1</td>\n",
              "      <td>73</td>\n",
              "      <td>1</td>\n",
              "    </tr>\n",
              "    <tr>\n",
              "      <th>17</th>\n",
              "      <td>45.0</td>\n",
              "      <td>0</td>\n",
              "      <td>582</td>\n",
              "      <td>0</td>\n",
              "      <td>14</td>\n",
              "      <td>0</td>\n",
              "      <td>166000.0</td>\n",
              "      <td>0.8</td>\n",
              "      <td>127</td>\n",
              "      <td>1</td>\n",
              "      <td>0</td>\n",
              "      <td>14</td>\n",
              "      <td>1</td>\n",
              "    </tr>\n",
              "    <tr>\n",
              "      <th>42</th>\n",
              "      <td>70.0</td>\n",
              "      <td>0</td>\n",
              "      <td>571</td>\n",
              "      <td>1</td>\n",
              "      <td>45</td>\n",
              "      <td>1</td>\n",
              "      <td>185000.0</td>\n",
              "      <td>1.2</td>\n",
              "      <td>139</td>\n",
              "      <td>1</td>\n",
              "      <td>1</td>\n",
              "      <td>33</td>\n",
              "      <td>1</td>\n",
              "    </tr>\n",
              "    <tr>\n",
              "      <th>6</th>\n",
              "      <td>75.0</td>\n",
              "      <td>1</td>\n",
              "      <td>246</td>\n",
              "      <td>0</td>\n",
              "      <td>15</td>\n",
              "      <td>0</td>\n",
              "      <td>127000.0</td>\n",
              "      <td>1.2</td>\n",
              "      <td>137</td>\n",
              "      <td>1</td>\n",
              "      <td>0</td>\n",
              "      <td>10</td>\n",
              "      <td>1</td>\n",
              "    </tr>\n",
              "    <tr>\n",
              "      <th>102</th>\n",
              "      <td>80.0</td>\n",
              "      <td>0</td>\n",
              "      <td>898</td>\n",
              "      <td>0</td>\n",
              "      <td>25</td>\n",
              "      <td>0</td>\n",
              "      <td>149000.0</td>\n",
              "      <td>1.1</td>\n",
              "      <td>144</td>\n",
              "      <td>1</td>\n",
              "      <td>1</td>\n",
              "      <td>87</td>\n",
              "      <td>0</td>\n",
              "    </tr>\n",
              "  </tbody>\n",
              "</table>\n",
              "</div>"
            ],
            "text/plain": [
              "      age  anaemia  creatinine_phosphokinase  ...  smoking  time  DEATH_EVENT\n",
              "75   60.0        1                        47  ...        1    73            1\n",
              "17   45.0        0                       582  ...        0    14            1\n",
              "42   70.0        0                       571  ...        1    33            1\n",
              "6    75.0        1                       246  ...        0    10            1\n",
              "102  80.0        0                       898  ...        1    87            0\n",
              "\n",
              "[5 rows x 13 columns]"
            ]
          },
          "metadata": {
            "tags": []
          },
          "execution_count": 30
        }
      ]
    },
    {
      "cell_type": "code",
      "metadata": {
        "colab": {
          "base_uri": "https://localhost:8080/"
        },
        "id": "8hSSQwVA9m8R",
        "outputId": "fef384d3-1d75-44c3-a58c-a11e399a9b32"
      },
      "source": [
        "test_e[\"smoking\"] = test_e[\"smoking\"].fillna(0)\n"
      ],
      "execution_count": null,
      "outputs": [
        {
          "output_type": "stream",
          "text": [
            "/usr/local/lib/python3.7/dist-packages/ipykernel_launcher.py:1: SettingWithCopyWarning: \n",
            "A value is trying to be set on a copy of a slice from a DataFrame.\n",
            "Try using .loc[row_indexer,col_indexer] = value instead\n",
            "\n",
            "See the caveats in the documentation: https://pandas.pydata.org/pandas-docs/stable/user_guide/indexing.html#returning-a-view-versus-a-copy\n",
            "  \"\"\"Entry point for launching an IPython kernel.\n"
          ],
          "name": "stderr"
        }
      ]
    },
    {
      "cell_type": "code",
      "metadata": {
        "colab": {
          "base_uri": "https://localhost:8080/"
        },
        "id": "_dTinkdt-hh5",
        "outputId": "4defdfdb-c09c-4617-8980-98eb428b526b"
      },
      "source": [
        "test_e[\"smoking\"].isnull()\n"
      ],
      "execution_count": null,
      "outputs": [
        {
          "output_type": "execute_result",
          "data": {
            "text/plain": [
              "75     False\n",
              "17     False\n",
              "42     False\n",
              "6      False\n",
              "102    False\n",
              "175    False\n",
              "18     False\n",
              "8      False\n",
              "23     False\n",
              "120    False\n",
              "130    False\n",
              "139    False\n",
              "9      False\n",
              "203    False\n",
              "133    False\n",
              "54     False\n",
              "295    False\n",
              "81     False\n",
              "271    False\n",
              "277    False\n",
              "135    False\n",
              "95     False\n",
              "11     False\n",
              "110    False\n",
              "99     False\n",
              "282    False\n",
              "197    False\n",
              "236    False\n",
              "137    False\n",
              "189    False\n",
              "265    False\n",
              "206    False\n",
              "141    False\n",
              "96     False\n",
              "117    False\n",
              "104    False\n",
              "181    False\n",
              "21     False\n",
              "27     False\n",
              "113    False\n",
              "259    False\n",
              "235    False\n",
              "168    False\n",
              "227    False\n",
              "193    False\n",
              "258    False\n",
              "26     False\n",
              "149    False\n",
              "276    False\n",
              "46     False\n",
              "251    False\n",
              "268    False\n",
              "142    False\n",
              "224    False\n",
              "61     False\n",
              "98     False\n",
              "230    False\n",
              "92     False\n",
              "280    False\n",
              "246    False\n",
              "Name: smoking, dtype: bool"
            ]
          },
          "metadata": {
            "tags": []
          },
          "execution_count": 32
        }
      ]
    },
    {
      "cell_type": "code",
      "metadata": {
        "id": "D6dilfby7qH1"
      },
      "source": [
        "# attemot to hot one encode, keeps on erroring out :(\n",
        "def hot_encode_diabetes(data):\n",
        "    \"\"\"\n",
        "    One-hot-encodes diabetes\n",
        "    \"\"\"\n",
        "    vec_enc = DictVectorizer()\n",
        "    vec_enc.fit(data[['diabetes']].to_dict(orient='records'))\n",
        "    diabetes_data = vec_enc.transform(data[['diabetes']].to_dict(orient='records')).toarray()\n",
        "    diabetes_cats = vec_enc.get_feature_names()\n",
        "    print(diabetes_cats)\n",
        "    diabetes = pd.DataFrame(diabetes_data, columns=diabetes_cats)\n",
        "    data = pd.concat([data, diabetes], axis=1)\n",
        "    data = data.drop(columns=diabetes_cats[0])\n",
        "    return data"
      ],
      "execution_count": null,
      "outputs": []
    },
    {
      "cell_type": "code",
      "metadata": {
        "id": "P3a3nJY69dsD"
      },
      "source": [
        "from sklearn.feature_extraction import DictVectorizer\n"
      ],
      "execution_count": null,
      "outputs": []
    },
    {
      "cell_type": "code",
      "metadata": {
        "colab": {
          "base_uri": "https://localhost:8080/",
          "height": 443
        },
        "id": "ozPqUN9B8e-1",
        "outputId": "88120dd6-3e1a-4845-b694-8646845f99d8"
      },
      "source": [
        "training_data_diabetes = hot_encode_diabetes(train_e)\n",
        "training_data_diabetes\n"
      ],
      "execution_count": null,
      "outputs": [
        {
          "output_type": "execute_result",
          "data": {
            "text/html": [
              "<div>\n",
              "<style scoped>\n",
              "    .dataframe tbody tr th:only-of-type {\n",
              "        vertical-align: middle;\n",
              "    }\n",
              "\n",
              "    .dataframe tbody tr th {\n",
              "        vertical-align: top;\n",
              "    }\n",
              "\n",
              "    .dataframe thead th {\n",
              "        text-align: right;\n",
              "    }\n",
              "</style>\n",
              "<table border=\"1\" class=\"dataframe\">\n",
              "  <thead>\n",
              "    <tr style=\"text-align: right;\">\n",
              "      <th></th>\n",
              "      <th>age</th>\n",
              "      <th>anaemia</th>\n",
              "      <th>creatinine_phosphokinase</th>\n",
              "      <th>ejection_fraction</th>\n",
              "      <th>high_blood_pressure</th>\n",
              "      <th>platelets</th>\n",
              "      <th>serum_creatinine</th>\n",
              "      <th>serum_sodium</th>\n",
              "      <th>sex</th>\n",
              "      <th>smoking</th>\n",
              "      <th>time</th>\n",
              "      <th>DEATH_EVENT</th>\n",
              "    </tr>\n",
              "  </thead>\n",
              "  <tbody>\n",
              "    <tr>\n",
              "      <th>0</th>\n",
              "      <td>75.0</td>\n",
              "      <td>0.0</td>\n",
              "      <td>582.0</td>\n",
              "      <td>20.0</td>\n",
              "      <td>1.0</td>\n",
              "      <td>265000.00</td>\n",
              "      <td>1.9</td>\n",
              "      <td>130.0</td>\n",
              "      <td>1.0</td>\n",
              "      <td>0.0</td>\n",
              "      <td>4.0</td>\n",
              "      <td>1.0</td>\n",
              "    </tr>\n",
              "    <tr>\n",
              "      <th>1</th>\n",
              "      <td>55.0</td>\n",
              "      <td>0.0</td>\n",
              "      <td>7861.0</td>\n",
              "      <td>38.0</td>\n",
              "      <td>0.0</td>\n",
              "      <td>263358.03</td>\n",
              "      <td>1.1</td>\n",
              "      <td>136.0</td>\n",
              "      <td>1.0</td>\n",
              "      <td>0.0</td>\n",
              "      <td>6.0</td>\n",
              "      <td>1.0</td>\n",
              "    </tr>\n",
              "    <tr>\n",
              "      <th>2</th>\n",
              "      <td>65.0</td>\n",
              "      <td>0.0</td>\n",
              "      <td>146.0</td>\n",
              "      <td>20.0</td>\n",
              "      <td>0.0</td>\n",
              "      <td>162000.00</td>\n",
              "      <td>1.3</td>\n",
              "      <td>129.0</td>\n",
              "      <td>1.0</td>\n",
              "      <td>1.0</td>\n",
              "      <td>7.0</td>\n",
              "      <td>1.0</td>\n",
              "    </tr>\n",
              "    <tr>\n",
              "      <th>3</th>\n",
              "      <td>50.0</td>\n",
              "      <td>1.0</td>\n",
              "      <td>111.0</td>\n",
              "      <td>20.0</td>\n",
              "      <td>0.0</td>\n",
              "      <td>210000.00</td>\n",
              "      <td>1.9</td>\n",
              "      <td>137.0</td>\n",
              "      <td>1.0</td>\n",
              "      <td>0.0</td>\n",
              "      <td>7.0</td>\n",
              "      <td>1.0</td>\n",
              "    </tr>\n",
              "    <tr>\n",
              "      <th>4</th>\n",
              "      <td>65.0</td>\n",
              "      <td>1.0</td>\n",
              "      <td>160.0</td>\n",
              "      <td>20.0</td>\n",
              "      <td>0.0</td>\n",
              "      <td>327000.00</td>\n",
              "      <td>2.7</td>\n",
              "      <td>116.0</td>\n",
              "      <td>0.0</td>\n",
              "      <td>0.0</td>\n",
              "      <td>8.0</td>\n",
              "      <td>1.0</td>\n",
              "    </tr>\n",
              "    <tr>\n",
              "      <th>...</th>\n",
              "      <td>...</td>\n",
              "      <td>...</td>\n",
              "      <td>...</td>\n",
              "      <td>...</td>\n",
              "      <td>...</td>\n",
              "      <td>...</td>\n",
              "      <td>...</td>\n",
              "      <td>...</td>\n",
              "      <td>...</td>\n",
              "      <td>...</td>\n",
              "      <td>...</td>\n",
              "      <td>...</td>\n",
              "    </tr>\n",
              "    <tr>\n",
              "      <th>293</th>\n",
              "      <td>63.0</td>\n",
              "      <td>1.0</td>\n",
              "      <td>103.0</td>\n",
              "      <td>35.0</td>\n",
              "      <td>0.0</td>\n",
              "      <td>179000.00</td>\n",
              "      <td>0.9</td>\n",
              "      <td>136.0</td>\n",
              "      <td>1.0</td>\n",
              "      <td>1.0</td>\n",
              "      <td>270.0</td>\n",
              "      <td>0.0</td>\n",
              "    </tr>\n",
              "    <tr>\n",
              "      <th>294</th>\n",
              "      <td>62.0</td>\n",
              "      <td>0.0</td>\n",
              "      <td>61.0</td>\n",
              "      <td>38.0</td>\n",
              "      <td>1.0</td>\n",
              "      <td>155000.00</td>\n",
              "      <td>1.1</td>\n",
              "      <td>143.0</td>\n",
              "      <td>1.0</td>\n",
              "      <td>1.0</td>\n",
              "      <td>270.0</td>\n",
              "      <td>0.0</td>\n",
              "    </tr>\n",
              "    <tr>\n",
              "      <th>296</th>\n",
              "      <td>45.0</td>\n",
              "      <td>0.0</td>\n",
              "      <td>2060.0</td>\n",
              "      <td>60.0</td>\n",
              "      <td>0.0</td>\n",
              "      <td>742000.00</td>\n",
              "      <td>0.8</td>\n",
              "      <td>138.0</td>\n",
              "      <td>0.0</td>\n",
              "      <td>0.0</td>\n",
              "      <td>278.0</td>\n",
              "      <td>0.0</td>\n",
              "    </tr>\n",
              "    <tr>\n",
              "      <th>297</th>\n",
              "      <td>45.0</td>\n",
              "      <td>0.0</td>\n",
              "      <td>2413.0</td>\n",
              "      <td>38.0</td>\n",
              "      <td>0.0</td>\n",
              "      <td>140000.00</td>\n",
              "      <td>1.4</td>\n",
              "      <td>140.0</td>\n",
              "      <td>1.0</td>\n",
              "      <td>1.0</td>\n",
              "      <td>280.0</td>\n",
              "      <td>0.0</td>\n",
              "    </tr>\n",
              "    <tr>\n",
              "      <th>298</th>\n",
              "      <td>50.0</td>\n",
              "      <td>0.0</td>\n",
              "      <td>196.0</td>\n",
              "      <td>45.0</td>\n",
              "      <td>0.0</td>\n",
              "      <td>395000.00</td>\n",
              "      <td>1.6</td>\n",
              "      <td>136.0</td>\n",
              "      <td>1.0</td>\n",
              "      <td>1.0</td>\n",
              "      <td>285.0</td>\n",
              "      <td>0.0</td>\n",
              "    </tr>\n",
              "  </tbody>\n",
              "</table>\n",
              "<p>287 rows × 12 columns</p>\n",
              "</div>"
            ],
            "text/plain": [
              "      age  anaemia  creatinine_phosphokinase  ...  smoking   time  DEATH_EVENT\n",
              "0    75.0      0.0                     582.0  ...      0.0    4.0          1.0\n",
              "1    55.0      0.0                    7861.0  ...      0.0    6.0          1.0\n",
              "2    65.0      0.0                     146.0  ...      1.0    7.0          1.0\n",
              "3    50.0      1.0                     111.0  ...      0.0    7.0          1.0\n",
              "4    65.0      1.0                     160.0  ...      0.0    8.0          1.0\n",
              "..    ...      ...                       ...  ...      ...    ...          ...\n",
              "293  63.0      1.0                     103.0  ...      1.0  270.0          0.0\n",
              "294  62.0      0.0                      61.0  ...      1.0  270.0          0.0\n",
              "296  45.0      0.0                    2060.0  ...      0.0  278.0          0.0\n",
              "297  45.0      0.0                    2413.0  ...      1.0  280.0          0.0\n",
              "298  50.0      0.0                     196.0  ...      1.0  285.0          0.0\n",
              "\n",
              "[287 rows x 12 columns]"
            ]
          },
          "metadata": {
            "tags": []
          },
          "execution_count": 55
        }
      ]
    },
    {
      "cell_type": "code",
      "metadata": {
        "id": "NMKJyTWqdRI-"
      },
      "source": [
        "# multilinear model predicting platlets \n",
        "X_train_ml = train_e[[\"age\",\"serum_creatinine\", \"serum_sodium\"]]\n",
        "y_train_ml = train_e[\"platelets\"]\n",
        "X_test_ml = test_e[[\"age\",\"serum_creatinine\", \"serum_sodium\"]]\n",
        "y_test_ml = test_E[\"platelets\"]"
      ],
      "execution_count": null,
      "outputs": []
    },
    {
      "cell_type": "code",
      "metadata": {
        "id": "CnA9Ckspg8Ne"
      },
      "source": [
        "model_ml = LinearRegression() \n",
        "model_ml.fit(X_train_ml, y_train_ml)\n",
        "y_pred_train_ml = model_ml.predict(X_train_ml)\n",
        "y_pred_test_ml = model_ml.predict(X_test_ml)"
      ],
      "execution_count": null,
      "outputs": []
    },
    {
      "cell_type": "code",
      "metadata": {
        "colab": {
          "base_uri": "https://localhost:8080/"
        },
        "id": "33urdaO2hgxc",
        "outputId": "65e5687d-f7f6-43ac-9ee4-115d60c44363"
      },
      "source": [
        "training_error_ml = root_mean_squared_error(y_train_ml, y_pred_train_ml)\n",
        "test_error_ml = root_mean_squared_error(y_test_ml, y_pred_test_ml)\n",
        "print(\"The training error is \" + str(training_error_ml) + \" and the test error is \" + str(test_error_ml))"
      ],
      "execution_count": null,
      "outputs": [
        {
          "output_type": "stream",
          "text": [
            "The training error is 96719.1060200278 and the test error is 100354.73073492778\n"
          ],
          "name": "stdout"
        }
      ]
    },
    {
      "cell_type": "code",
      "metadata": {
        "colab": {
          "base_uri": "https://localhost:8080/"
        },
        "id": "bW4n4L_OikMc",
        "outputId": "b04969e3-0179-4f24-f3dd-1e69a7eddf90"
      },
      "source": [
        "model_ml.predict(X_test_ml)[0]"
      ],
      "execution_count": null,
      "outputs": [
        {
          "output_type": "execute_result",
          "data": {
            "text/plain": [
              "259044.24025690663"
            ]
          },
          "metadata": {
            "tags": []
          },
          "execution_count": 59
        }
      ]
    },
    {
      "cell_type": "code",
      "metadata": {
        "colab": {
          "base_uri": "https://localhost:8080/",
          "height": 100
        },
        "id": "lG3Vwx7xiph2",
        "outputId": "103a5dce-952b-4e61-ae1e-f09d25b07eec"
      },
      "source": [
        "test_e.head(1) #model still off"
      ],
      "execution_count": null,
      "outputs": [
        {
          "output_type": "execute_result",
          "data": {
            "text/html": [
              "<div>\n",
              "<style scoped>\n",
              "    .dataframe tbody tr th:only-of-type {\n",
              "        vertical-align: middle;\n",
              "    }\n",
              "\n",
              "    .dataframe tbody tr th {\n",
              "        vertical-align: top;\n",
              "    }\n",
              "\n",
              "    .dataframe thead th {\n",
              "        text-align: right;\n",
              "    }\n",
              "</style>\n",
              "<table border=\"1\" class=\"dataframe\">\n",
              "  <thead>\n",
              "    <tr style=\"text-align: right;\">\n",
              "      <th></th>\n",
              "      <th>age</th>\n",
              "      <th>anaemia</th>\n",
              "      <th>creatinine_phosphokinase</th>\n",
              "      <th>diabetes</th>\n",
              "      <th>ejection_fraction</th>\n",
              "      <th>high_blood_pressure</th>\n",
              "      <th>platelets</th>\n",
              "      <th>serum_creatinine</th>\n",
              "      <th>serum_sodium</th>\n",
              "      <th>sex</th>\n",
              "      <th>smoking</th>\n",
              "      <th>time</th>\n",
              "      <th>DEATH_EVENT</th>\n",
              "    </tr>\n",
              "  </thead>\n",
              "  <tbody>\n",
              "    <tr>\n",
              "      <th>179</th>\n",
              "      <td>55.0</td>\n",
              "      <td>0</td>\n",
              "      <td>835</td>\n",
              "      <td>0</td>\n",
              "      <td>40</td>\n",
              "      <td>0</td>\n",
              "      <td>279000.0</td>\n",
              "      <td>0.7</td>\n",
              "      <td>140</td>\n",
              "      <td>1</td>\n",
              "      <td>1</td>\n",
              "      <td>147</td>\n",
              "      <td>0</td>\n",
              "    </tr>\n",
              "  </tbody>\n",
              "</table>\n",
              "</div>"
            ],
            "text/plain": [
              "      age  anaemia  creatinine_phosphokinase  ...  smoking  time  DEATH_EVENT\n",
              "179  55.0        0                       835  ...        1   147            0\n",
              "\n",
              "[1 rows x 13 columns]"
            ]
          },
          "metadata": {
            "tags": []
          },
          "execution_count": 82
        }
      ]
    },
    {
      "cell_type": "code",
      "metadata": {
        "id": "cMQ1UgUsi875"
      },
      "source": [
        "# another multilinear model with more features\n",
        "X_train_ml2 = train_e[[\"age\",\"serum_creatinine\", \"serum_sodium\", \"ejection_fraction\"]]\n",
        "y_train_ml2 = train_e[\"platelets\"]\n",
        "X_test_ml2 = test_e[[\"age\",\"serum_creatinine\", \"serum_sodium\", \"ejection_fraction\"]]\n",
        "y_test_ml2 = test_e[\"platelets\"]"
      ],
      "execution_count": null,
      "outputs": []
    },
    {
      "cell_type": "code",
      "metadata": {
        "id": "2Wa5aZfWjnXC"
      },
      "source": [
        "model_ml2 = LinearRegression() \n",
        "model_ml2.fit(X_train_ml2, y_train_ml2)\n",
        "y_pred_train_ml2 = model_ml2.predict(X_train_ml2)\n",
        "y_pred_test_ml2 = model_ml2.predict(X_test_ml2)"
      ],
      "execution_count": null,
      "outputs": []
    },
    {
      "cell_type": "code",
      "metadata": {
        "colab": {
          "base_uri": "https://localhost:8080/"
        },
        "id": "5NOdhOMTjnZb",
        "outputId": "33c7d962-8baf-4777-fe09-0ef4422479e5"
      },
      "source": [
        "training_error_ml2 = root_mean_squared_error(y_train_ml2, y_pred_train_ml2)\n",
        "test_error_ml2 = root_mean_squared_error(y_test_ml2, y_pred_test_ml2)\n",
        "print(\"The training error is \" + str(training_error_ml2) + \" and the test error is \" + str(test_error_ml2))"
      ],
      "execution_count": null,
      "outputs": [
        {
          "output_type": "stream",
          "text": [
            "The training error is 96674.25347749387 and the test error is 104967.6625010667\n"
          ],
          "name": "stdout"
        }
      ]
    },
    {
      "cell_type": "code",
      "metadata": {
        "colab": {
          "base_uri": "https://localhost:8080/"
        },
        "id": "6QB_SqevkENW",
        "outputId": "07c39fe2-91d5-4505-fe57-078879df1773"
      },
      "source": [
        "model_ml2.predict(X_test_ml2)[0]"
      ],
      "execution_count": null,
      "outputs": [
        {
          "output_type": "execute_result",
          "data": {
            "text/plain": [
              "283804.74079490977"
            ]
          },
          "metadata": {
            "tags": []
          },
          "execution_count": 89
        }
      ]
    },
    {
      "cell_type": "code",
      "metadata": {
        "colab": {
          "base_uri": "https://localhost:8080/",
          "height": 100
        },
        "id": "15POgkkFkISD",
        "outputId": "90caac4b-064e-4c10-a377-adda40ae5978"
      },
      "source": [
        "test_e.head(1) # closer but now over estimate"
      ],
      "execution_count": null,
      "outputs": [
        {
          "output_type": "execute_result",
          "data": {
            "text/html": [
              "<div>\n",
              "<style scoped>\n",
              "    .dataframe tbody tr th:only-of-type {\n",
              "        vertical-align: middle;\n",
              "    }\n",
              "\n",
              "    .dataframe tbody tr th {\n",
              "        vertical-align: top;\n",
              "    }\n",
              "\n",
              "    .dataframe thead th {\n",
              "        text-align: right;\n",
              "    }\n",
              "</style>\n",
              "<table border=\"1\" class=\"dataframe\">\n",
              "  <thead>\n",
              "    <tr style=\"text-align: right;\">\n",
              "      <th></th>\n",
              "      <th>age</th>\n",
              "      <th>anaemia</th>\n",
              "      <th>creatinine_phosphokinase</th>\n",
              "      <th>diabetes</th>\n",
              "      <th>ejection_fraction</th>\n",
              "      <th>high_blood_pressure</th>\n",
              "      <th>platelets</th>\n",
              "      <th>serum_creatinine</th>\n",
              "      <th>serum_sodium</th>\n",
              "      <th>sex</th>\n",
              "      <th>smoking</th>\n",
              "      <th>time</th>\n",
              "      <th>DEATH_EVENT</th>\n",
              "    </tr>\n",
              "  </thead>\n",
              "  <tbody>\n",
              "    <tr>\n",
              "      <th>179</th>\n",
              "      <td>55.0</td>\n",
              "      <td>0</td>\n",
              "      <td>835</td>\n",
              "      <td>0</td>\n",
              "      <td>40</td>\n",
              "      <td>0</td>\n",
              "      <td>279000.0</td>\n",
              "      <td>0.7</td>\n",
              "      <td>140</td>\n",
              "      <td>1</td>\n",
              "      <td>1</td>\n",
              "      <td>147</td>\n",
              "      <td>0</td>\n",
              "    </tr>\n",
              "  </tbody>\n",
              "</table>\n",
              "</div>"
            ],
            "text/plain": [
              "      age  anaemia  creatinine_phosphokinase  ...  smoking  time  DEATH_EVENT\n",
              "179  55.0        0                       835  ...        1   147            0\n",
              "\n",
              "[1 rows x 13 columns]"
            ]
          },
          "metadata": {
            "tags": []
          },
          "execution_count": 90
        }
      ]
    }
  ]
}