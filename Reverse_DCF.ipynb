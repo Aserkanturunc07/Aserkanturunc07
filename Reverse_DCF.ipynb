{
  "nbformat": 4,
  "nbformat_minor": 0,
  "metadata": {
    "colab": {
      "provenance": [],
      "authorship_tag": "ABX9TyNNPeXKcrurlpk5E6ODgkTz",
      "include_colab_link": true
    },
    "kernelspec": {
      "name": "python3",
      "display_name": "Python 3"
    },
    "language_info": {
      "name": "python"
    }
  },
  "cells": [
    {
      "cell_type": "markdown",
      "metadata": {
        "id": "view-in-github",
        "colab_type": "text"
      },
      "source": [
        "<a href=\"https://colab.research.google.com/github/Aserkanturunc07/My-projects/blob/main/Reverse_DCF.ipynb\" target=\"_parent\"><img src=\"https://colab.research.google.com/assets/colab-badge.svg\" alt=\"Open In Colab\"/></a>"
      ]
    },
    {
      "cell_type": "markdown",
      "source": [
        "Reverse DCF steps:\n",
        "- Get current price data\n",
        "- get free cash flow TTM of last 5 years\n",
        "- get average P/E and P/FCF ratios for the last 10 years\n",
        "- calculate the implied growth rate for the next 10 years (after 10 years just get the 5 year average P/FCF to calculate price)\n",
        "\n",
        "\n",
        "To do's:"
      ],
      "metadata": {
        "id": "NrLipMyhKkUC"
      }
    },
    {
      "cell_type": "code",
      "source": [
        "import yfinance as yf\n",
        "import numpy as np\n",
        "import pandas as pd\n",
        "\n",
        "# Function to get current share price\n",
        "def get_current_price(ticker):\n",
        "    stock = yf.Ticker(ticker)\n",
        "    price = stock.history(period=\"1d\")['Close'].iloc[-1]\n",
        "    return price\n",
        "\n",
        "# Function to get number of shares outstanding\n",
        "def get_shares_outstanding(ticker):\n",
        "    stock = yf.Ticker(ticker)\n",
        "    shares = stock.info['sharesOutstanding']\n",
        "    return shares\n",
        "\n",
        "# Function to get historic price data for the last 10 years\n",
        "def get_historic_price(ticker):\n",
        "    stock = yf.Ticker(ticker)\n",
        "    hist = stock.history(period=\"10y\")\n",
        "    return hist['Close']\n",
        "\n",
        "# Function to get TTM Free Cash Flow for the last 10 years\n",
        "def get_fcf(ticker):\n",
        "    stock = yf.Ticker(ticker)\n",
        "    cashflow = stock.cashflow\n",
        "    fcf = cashflow.loc['Free Cash Flow']\n",
        "    return fcf\n",
        "\n",
        "# Function to get net income (earnings)\n",
        "def get_net_income(ticker):\n",
        "    stock = yf.Ticker(ticker)\n",
        "    earnings = stock.financials.loc['Net Income']\n",
        "    return earnings\n",
        "\n",
        "# Function to calculate the implied growth rate using DCF\n",
        "def implied_growth_rate(price, fcf_per_share, r, N, terminal_value, shares_outstanding, buyback_rate, use_multiple=True):\n",
        "    def firm_value(g):\n",
        "        shares = shares_outstanding\n",
        "        FCFs = []\n",
        "        for t in range(1, N+1):\n",
        "            shares *= (1 - buyback_rate)\n",
        "            FCF = (fcf_per_share * (1 + g)**t) * shares\n",
        "            FCFs.append(FCF)\n",
        "        PV_FCFs = [FCF / (1 + r)**t for FCF, t in zip(FCFs, range(1, N+1))]\n",
        "        if use_multiple:\n",
        "            term_value = FCFs[-1] * terminal_value\n",
        "        else:\n",
        "            term_value = FCFs[-1] * (1 + terminal_value) / (r - terminal_value)\n",
        "        PV_terminal_value = term_value / (1 + r)**N\n",
        "        return sum(PV_FCFs) + PV_terminal_value\n",
        "\n",
        "    g_low = 0.00\n",
        "    g_high = 0.20  # Adjusted high value to 20% to allow for a reasonable range\n",
        "    tolerance = 1e-6\n",
        "\n",
        "    while g_high - g_low > tolerance:\n",
        "        g_mid = (g_high + g_low) / 2\n",
        "        value = firm_value(g_mid)\n",
        "        if value < price:\n",
        "            g_low = g_mid\n",
        "        else:\n",
        "            g_high = g_mid\n",
        "\n",
        "    return g_mid\n",
        "\n",
        "# Example usage\n",
        "ticker = \"NKE\"\n",
        "\n",
        "# Get current price\n",
        "current_price = get_current_price(ticker)\n",
        "print(f\"Current Price: {current_price}\")\n",
        "\n",
        "# Get number of shares outstanding\n",
        "shares_outstanding = 1508000000  # Manually set for testing, typically get from API\n",
        "print(f\"Shares Outstanding: {shares_outstanding}\")\n",
        "\n",
        "# Get historical prices for the last 10 years\n",
        "historical_prices = get_historic_price(ticker)\n",
        "print(historical_prices)\n",
        "\n",
        "# Get TTM Free Cash Flow for the last 10 years\n",
        "fcf = get_fcf(ticker)\n",
        "print(f\"Free Cash Flow:\\n{fcf}\")\n",
        "\n",
        "# Get net income (earnings)\n",
        "earnings = get_net_income(ticker)\n",
        "print(f\"Net Income:\\n{earnings}\")\n",
        "\n",
        "# Calculate FCF per share\n",
        "latest_fcf = fcf.dropna().iloc[0]  # Assuming the latest FCF value, dropping NaN values\n",
        "fcf_per_share = latest_fcf / shares_outstanding\n",
        "print(f\"FCF per Share: {fcf_per_share}\")\n",
        "\n",
        "# Set parameters\n",
        "r = 0.10  # Discount rate\n",
        "N = 10  # Forecast period in years\n",
        "multiple = 20  # FCF multiple after the 10th period\n",
        "gT = 0.03  # Terminal growth rate after the 10th period\n",
        "buyback_rate = 0.01  # Annual share buyback rate\n",
        "\n",
        "# Calculate implied growth rates\n",
        "implied_g_multiple = implied_growth_rate(current_price, fcf_per_share, r, N, multiple, shares_outstanding, buyback_rate, use_multiple=True)\n",
        "print(f\"The market's implied yearly growth rate using a P/FCF multiple of 20 is approximately {implied_g_multiple:.4f}\")\n",
        "\n",
        "implied_g_terminal = implied_growth_rate(current_price, fcf_per_share, r, N, gT, shares_outstanding, buyback_rate, use_multiple=False)\n",
        "print(f\"The market's implied yearly growth rate using a terminal growth rate of 3% is approximately {implied_g_terminal:.4f}\")\n"
      ],
      "metadata": {
        "colab": {
          "base_uri": "https://localhost:8080/"
        },
        "id": "12oDnOvgXXXO",
        "outputId": "05ff232b-e45b-4dab-fc5f-48fda5343186"
      },
      "execution_count": 26,
      "outputs": [
        {
          "output_type": "stream",
          "name": "stdout",
          "text": [
            "Current Price: 72.55999755859375\n",
            "Shares Outstanding: 1508000000\n",
            "Date\n",
            "2014-07-28 00:00:00-04:00    35.069794\n",
            "2014-07-29 00:00:00-04:00    34.935596\n",
            "2014-07-30 00:00:00-04:00    35.611057\n",
            "2014-07-31 00:00:00-04:00    34.501694\n",
            "2014-08-01 00:00:00-04:00    34.345131\n",
            "                               ...    \n",
            "2024-07-22 00:00:00-04:00    74.860001\n",
            "2024-07-23 00:00:00-04:00    73.400002\n",
            "2024-07-24 00:00:00-04:00    71.089996\n",
            "2024-07-25 00:00:00-04:00    71.410004\n",
            "2024-07-26 00:00:00-04:00    72.559998\n",
            "Name: Close, Length: 2517, dtype: float64\n",
            "Free Cash Flow:\n",
            "2024-05-31    6617000000.0\n",
            "2023-05-31    4872000000.0\n",
            "2022-05-31    4430000000.0\n",
            "2021-05-31    5962000000.0\n",
            "2020-05-31             NaN\n",
            "Name: Free Cash Flow, dtype: object\n",
            "Net Income:\n",
            "2024-05-31    5700000000.0\n",
            "2023-05-31    5070000000.0\n",
            "2022-05-31    6046000000.0\n",
            "2021-05-31    5727000000.0\n",
            "Name: Net Income, dtype: object\n",
            "FCF per Share: 4.387931034482759\n",
            "The market's implied yearly growth rate using a P/FCF multiple of 20 is approximately 0.0000\n",
            "The market's implied yearly growth rate using a terminal growth rate of 3% is approximately 0.0000\n"
          ]
        }
      ]
    },
    {
      "cell_type": "code",
      "source": [
        "print(shares_outstanding)"
      ],
      "metadata": {
        "colab": {
          "base_uri": "https://localhost:8080/"
        },
        "id": "TSf2scS3eCcF",
        "outputId": "dff89187-df6d-4665-8558-3618647ed2cf"
      },
      "execution_count": 22,
      "outputs": [
        {
          "output_type": "stream",
          "name": "stdout",
          "text": [
            "1508000000\n"
          ]
        }
      ]
    },
    {
      "cell_type": "code",
      "source": [],
      "metadata": {
        "id": "6BC3dAMwKXHk"
      },
      "execution_count": 1,
      "outputs": []
    },
    {
      "cell_type": "code",
      "source": [],
      "metadata": {
        "id": "EX9ns7v4W4qT"
      },
      "execution_count": null,
      "outputs": []
    }
  ]
}