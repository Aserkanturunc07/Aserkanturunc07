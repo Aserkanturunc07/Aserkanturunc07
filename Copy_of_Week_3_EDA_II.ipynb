{
  "nbformat": 4,
  "nbformat_minor": 0,
  "metadata": {
    "colab": {
      "provenance": []
    },
    "kernelspec": {
      "name": "python3",
      "display_name": "Python 3"
    }
  },
  "cells": [
    {
      "cell_type": "markdown",
      "metadata": {
        "id": "JH2cwT2zRf6V"
      },
      "source": [
        "#**Week 3: Exploratory Data Analysis (EDA) and Visualization II**"
      ]
    },
    {
      "cell_type": "markdown",
      "metadata": {
        "id": "2oaeBwgBRn8a"
      },
      "source": [
        "For this week, we'll be spending time exploring another set of data. Let's take a look."
      ]
    },
    {
      "cell_type": "code",
      "metadata": {
        "id": "kS6bcF3fJC8B"
      },
      "source": [
        "import numpy as np \n",
        "import pandas as pd \n",
        "\n",
        "import matplotlib.pyplot as plt\n",
        "import seaborn as sns\n",
        "\n",
        "url = 'https://github.com/millenopan/Cardiovascular-Health-Project/blob/main/processed-cleveland.csv?raw=true'\n",
        "hd = pd.read_csv(url)\n",
        "hd.target = hd.target.replace({2:1, 3:1, 4:1}) \n",
        "url = 'https://github.com/millenopan/Cardiovascular-Health-Project/blob/main/heart-failure.csv?raw=true'\n",
        "hf = pd.read_csv(url)"
      ],
      "execution_count": null,
      "outputs": []
    },
    {
      "cell_type": "markdown",
      "metadata": {
        "id": "lQ_gFGYYR2Om"
      },
      "source": [
        "The data has now been imported for you, where the CSV file is stored under the variable 'hf' for 'heart-failure'."
      ]
    },
    {
      "cell_type": "code",
      "metadata": {
        "colab": {
          "base_uri": "https://localhost:8080/",
          "height": 413
        },
        "id": "3yMemyZTNwdJ",
        "outputId": "5de3a46f-bced-41fa-b228-aaa4e11caca5"
      },
      "source": [
        "hf"
      ],
      "execution_count": null,
      "outputs": [
        {
          "output_type": "execute_result",
          "data": {
            "text/html": [
              "<div>\n",
              "<style scoped>\n",
              "    .dataframe tbody tr th:only-of-type {\n",
              "        vertical-align: middle;\n",
              "    }\n",
              "\n",
              "    .dataframe tbody tr th {\n",
              "        vertical-align: top;\n",
              "    }\n",
              "\n",
              "    .dataframe thead th {\n",
              "        text-align: right;\n",
              "    }\n",
              "</style>\n",
              "<table border=\"1\" class=\"dataframe\">\n",
              "  <thead>\n",
              "    <tr style=\"text-align: right;\">\n",
              "      <th></th>\n",
              "      <th>age</th>\n",
              "      <th>anaemia</th>\n",
              "      <th>creatinine_phosphokinase</th>\n",
              "      <th>diabetes</th>\n",
              "      <th>ejection_fraction</th>\n",
              "      <th>high_blood_pressure</th>\n",
              "      <th>platelets</th>\n",
              "      <th>serum_creatinine</th>\n",
              "      <th>serum_sodium</th>\n",
              "      <th>sex</th>\n",
              "      <th>smoking</th>\n",
              "      <th>time</th>\n",
              "      <th>DEATH_EVENT</th>\n",
              "    </tr>\n",
              "  </thead>\n",
              "  <tbody>\n",
              "    <tr>\n",
              "      <th>0</th>\n",
              "      <td>75.0</td>\n",
              "      <td>0</td>\n",
              "      <td>582</td>\n",
              "      <td>0</td>\n",
              "      <td>20</td>\n",
              "      <td>1</td>\n",
              "      <td>265000.00</td>\n",
              "      <td>1.9</td>\n",
              "      <td>130</td>\n",
              "      <td>1</td>\n",
              "      <td>0</td>\n",
              "      <td>4</td>\n",
              "      <td>1</td>\n",
              "    </tr>\n",
              "    <tr>\n",
              "      <th>1</th>\n",
              "      <td>55.0</td>\n",
              "      <td>0</td>\n",
              "      <td>7861</td>\n",
              "      <td>0</td>\n",
              "      <td>38</td>\n",
              "      <td>0</td>\n",
              "      <td>263358.03</td>\n",
              "      <td>1.1</td>\n",
              "      <td>136</td>\n",
              "      <td>1</td>\n",
              "      <td>0</td>\n",
              "      <td>6</td>\n",
              "      <td>1</td>\n",
              "    </tr>\n",
              "    <tr>\n",
              "      <th>2</th>\n",
              "      <td>65.0</td>\n",
              "      <td>0</td>\n",
              "      <td>146</td>\n",
              "      <td>0</td>\n",
              "      <td>20</td>\n",
              "      <td>0</td>\n",
              "      <td>162000.00</td>\n",
              "      <td>1.3</td>\n",
              "      <td>129</td>\n",
              "      <td>1</td>\n",
              "      <td>1</td>\n",
              "      <td>7</td>\n",
              "      <td>1</td>\n",
              "    </tr>\n",
              "    <tr>\n",
              "      <th>3</th>\n",
              "      <td>50.0</td>\n",
              "      <td>1</td>\n",
              "      <td>111</td>\n",
              "      <td>0</td>\n",
              "      <td>20</td>\n",
              "      <td>0</td>\n",
              "      <td>210000.00</td>\n",
              "      <td>1.9</td>\n",
              "      <td>137</td>\n",
              "      <td>1</td>\n",
              "      <td>0</td>\n",
              "      <td>7</td>\n",
              "      <td>1</td>\n",
              "    </tr>\n",
              "    <tr>\n",
              "      <th>4</th>\n",
              "      <td>65.0</td>\n",
              "      <td>1</td>\n",
              "      <td>160</td>\n",
              "      <td>1</td>\n",
              "      <td>20</td>\n",
              "      <td>0</td>\n",
              "      <td>327000.00</td>\n",
              "      <td>2.7</td>\n",
              "      <td>116</td>\n",
              "      <td>0</td>\n",
              "      <td>0</td>\n",
              "      <td>8</td>\n",
              "      <td>1</td>\n",
              "    </tr>\n",
              "    <tr>\n",
              "      <th>...</th>\n",
              "      <td>...</td>\n",
              "      <td>...</td>\n",
              "      <td>...</td>\n",
              "      <td>...</td>\n",
              "      <td>...</td>\n",
              "      <td>...</td>\n",
              "      <td>...</td>\n",
              "      <td>...</td>\n",
              "      <td>...</td>\n",
              "      <td>...</td>\n",
              "      <td>...</td>\n",
              "      <td>...</td>\n",
              "      <td>...</td>\n",
              "    </tr>\n",
              "    <tr>\n",
              "      <th>294</th>\n",
              "      <td>62.0</td>\n",
              "      <td>0</td>\n",
              "      <td>61</td>\n",
              "      <td>1</td>\n",
              "      <td>38</td>\n",
              "      <td>1</td>\n",
              "      <td>155000.00</td>\n",
              "      <td>1.1</td>\n",
              "      <td>143</td>\n",
              "      <td>1</td>\n",
              "      <td>1</td>\n",
              "      <td>270</td>\n",
              "      <td>0</td>\n",
              "    </tr>\n",
              "    <tr>\n",
              "      <th>295</th>\n",
              "      <td>55.0</td>\n",
              "      <td>0</td>\n",
              "      <td>1820</td>\n",
              "      <td>0</td>\n",
              "      <td>38</td>\n",
              "      <td>0</td>\n",
              "      <td>270000.00</td>\n",
              "      <td>1.2</td>\n",
              "      <td>139</td>\n",
              "      <td>0</td>\n",
              "      <td>0</td>\n",
              "      <td>271</td>\n",
              "      <td>0</td>\n",
              "    </tr>\n",
              "    <tr>\n",
              "      <th>296</th>\n",
              "      <td>45.0</td>\n",
              "      <td>0</td>\n",
              "      <td>2060</td>\n",
              "      <td>1</td>\n",
              "      <td>60</td>\n",
              "      <td>0</td>\n",
              "      <td>742000.00</td>\n",
              "      <td>0.8</td>\n",
              "      <td>138</td>\n",
              "      <td>0</td>\n",
              "      <td>0</td>\n",
              "      <td>278</td>\n",
              "      <td>0</td>\n",
              "    </tr>\n",
              "    <tr>\n",
              "      <th>297</th>\n",
              "      <td>45.0</td>\n",
              "      <td>0</td>\n",
              "      <td>2413</td>\n",
              "      <td>0</td>\n",
              "      <td>38</td>\n",
              "      <td>0</td>\n",
              "      <td>140000.00</td>\n",
              "      <td>1.4</td>\n",
              "      <td>140</td>\n",
              "      <td>1</td>\n",
              "      <td>1</td>\n",
              "      <td>280</td>\n",
              "      <td>0</td>\n",
              "    </tr>\n",
              "    <tr>\n",
              "      <th>298</th>\n",
              "      <td>50.0</td>\n",
              "      <td>0</td>\n",
              "      <td>196</td>\n",
              "      <td>0</td>\n",
              "      <td>45</td>\n",
              "      <td>0</td>\n",
              "      <td>395000.00</td>\n",
              "      <td>1.6</td>\n",
              "      <td>136</td>\n",
              "      <td>1</td>\n",
              "      <td>1</td>\n",
              "      <td>285</td>\n",
              "      <td>0</td>\n",
              "    </tr>\n",
              "  </tbody>\n",
              "</table>\n",
              "<p>299 rows × 13 columns</p>\n",
              "</div>"
            ],
            "text/plain": [
              "      age  anaemia  creatinine_phosphokinase  ...  smoking  time  DEATH_EVENT\n",
              "0    75.0        0                       582  ...        0     4            1\n",
              "1    55.0        0                      7861  ...        0     6            1\n",
              "2    65.0        0                       146  ...        1     7            1\n",
              "3    50.0        1                       111  ...        0     7            1\n",
              "4    65.0        1                       160  ...        0     8            1\n",
              "..    ...      ...                       ...  ...      ...   ...          ...\n",
              "294  62.0        0                        61  ...        1   270            0\n",
              "295  55.0        0                      1820  ...        0   271            0\n",
              "296  45.0        0                      2060  ...        0   278            0\n",
              "297  45.0        0                      2413  ...        1   280            0\n",
              "298  50.0        0                       196  ...        1   285            0\n",
              "\n",
              "[299 rows x 13 columns]"
            ]
          },
          "metadata": {
            "tags": []
          },
          "execution_count": 26
        }
      ]
    },
    {
      "cell_type": "code",
      "metadata": {
        "colab": {
          "base_uri": "https://localhost:8080/"
        },
        "id": "sDHzuMy2RAR9",
        "outputId": "d894339a-3ad3-4eaa-c3cf-7ebd623ee00d"
      },
      "source": [
        "hf.isna().sum()"
      ],
      "execution_count": null,
      "outputs": [
        {
          "output_type": "execute_result",
          "data": {
            "text/plain": [
              "age                         0\n",
              "anaemia                     0\n",
              "creatinine_phosphokinase    0\n",
              "diabetes                    0\n",
              "ejection_fraction           0\n",
              "high_blood_pressure         0\n",
              "platelets                   0\n",
              "serum_creatinine            0\n",
              "serum_sodium                0\n",
              "sex                         0\n",
              "smoking                     0\n",
              "time                        0\n",
              "DEATH_EVENT                 0\n",
              "dtype: int64"
            ]
          },
          "metadata": {
            "tags": []
          },
          "execution_count": 3
        }
      ]
    },
    {
      "cell_type": "markdown",
      "metadata": {
        "id": "oOssOK42RS1Q"
      },
      "source": [
        "-----------------------------"
      ]
    },
    {
      "cell_type": "markdown",
      "metadata": {
        "id": "BMiZdg1KRP9v"
      },
      "source": [
        "A lot of the skills and tools can be applied for this week's content as well, so for this walkthrough the majority of what is shown will be rather similar."
      ]
    },
    {
      "cell_type": "code",
      "metadata": {
        "colab": {
          "base_uri": "https://localhost:8080/",
          "height": 292
        },
        "id": "PIpvRAxjRKPw",
        "outputId": "1d195ffa-1d10-4aec-b7d3-15c95e02d523"
      },
      "source": [
        "hf.describe()"
      ],
      "execution_count": null,
      "outputs": [
        {
          "output_type": "execute_result",
          "data": {
            "text/html": [
              "<div>\n",
              "<style scoped>\n",
              "    .dataframe tbody tr th:only-of-type {\n",
              "        vertical-align: middle;\n",
              "    }\n",
              "\n",
              "    .dataframe tbody tr th {\n",
              "        vertical-align: top;\n",
              "    }\n",
              "\n",
              "    .dataframe thead th {\n",
              "        text-align: right;\n",
              "    }\n",
              "</style>\n",
              "<table border=\"1\" class=\"dataframe\">\n",
              "  <thead>\n",
              "    <tr style=\"text-align: right;\">\n",
              "      <th></th>\n",
              "      <th>age</th>\n",
              "      <th>anaemia</th>\n",
              "      <th>creatinine_phosphokinase</th>\n",
              "      <th>diabetes</th>\n",
              "      <th>ejection_fraction</th>\n",
              "      <th>high_blood_pressure</th>\n",
              "      <th>platelets</th>\n",
              "      <th>serum_creatinine</th>\n",
              "      <th>serum_sodium</th>\n",
              "      <th>sex</th>\n",
              "      <th>smoking</th>\n",
              "      <th>time</th>\n",
              "      <th>DEATH_EVENT</th>\n",
              "    </tr>\n",
              "  </thead>\n",
              "  <tbody>\n",
              "    <tr>\n",
              "      <th>count</th>\n",
              "      <td>299.000000</td>\n",
              "      <td>299.000000</td>\n",
              "      <td>299.000000</td>\n",
              "      <td>299.000000</td>\n",
              "      <td>299.000000</td>\n",
              "      <td>299.000000</td>\n",
              "      <td>299.000000</td>\n",
              "      <td>299.00000</td>\n",
              "      <td>299.000000</td>\n",
              "      <td>299.000000</td>\n",
              "      <td>299.00000</td>\n",
              "      <td>299.000000</td>\n",
              "      <td>299.00000</td>\n",
              "    </tr>\n",
              "    <tr>\n",
              "      <th>mean</th>\n",
              "      <td>60.833893</td>\n",
              "      <td>0.431438</td>\n",
              "      <td>581.839465</td>\n",
              "      <td>0.418060</td>\n",
              "      <td>38.083612</td>\n",
              "      <td>0.351171</td>\n",
              "      <td>263358.029264</td>\n",
              "      <td>1.39388</td>\n",
              "      <td>136.625418</td>\n",
              "      <td>0.648829</td>\n",
              "      <td>0.32107</td>\n",
              "      <td>130.260870</td>\n",
              "      <td>0.32107</td>\n",
              "    </tr>\n",
              "    <tr>\n",
              "      <th>std</th>\n",
              "      <td>11.894809</td>\n",
              "      <td>0.496107</td>\n",
              "      <td>970.287881</td>\n",
              "      <td>0.494067</td>\n",
              "      <td>11.834841</td>\n",
              "      <td>0.478136</td>\n",
              "      <td>97804.236869</td>\n",
              "      <td>1.03451</td>\n",
              "      <td>4.412477</td>\n",
              "      <td>0.478136</td>\n",
              "      <td>0.46767</td>\n",
              "      <td>77.614208</td>\n",
              "      <td>0.46767</td>\n",
              "    </tr>\n",
              "    <tr>\n",
              "      <th>min</th>\n",
              "      <td>40.000000</td>\n",
              "      <td>0.000000</td>\n",
              "      <td>23.000000</td>\n",
              "      <td>0.000000</td>\n",
              "      <td>14.000000</td>\n",
              "      <td>0.000000</td>\n",
              "      <td>25100.000000</td>\n",
              "      <td>0.50000</td>\n",
              "      <td>113.000000</td>\n",
              "      <td>0.000000</td>\n",
              "      <td>0.00000</td>\n",
              "      <td>4.000000</td>\n",
              "      <td>0.00000</td>\n",
              "    </tr>\n",
              "    <tr>\n",
              "      <th>25%</th>\n",
              "      <td>51.000000</td>\n",
              "      <td>0.000000</td>\n",
              "      <td>116.500000</td>\n",
              "      <td>0.000000</td>\n",
              "      <td>30.000000</td>\n",
              "      <td>0.000000</td>\n",
              "      <td>212500.000000</td>\n",
              "      <td>0.90000</td>\n",
              "      <td>134.000000</td>\n",
              "      <td>0.000000</td>\n",
              "      <td>0.00000</td>\n",
              "      <td>73.000000</td>\n",
              "      <td>0.00000</td>\n",
              "    </tr>\n",
              "    <tr>\n",
              "      <th>50%</th>\n",
              "      <td>60.000000</td>\n",
              "      <td>0.000000</td>\n",
              "      <td>250.000000</td>\n",
              "      <td>0.000000</td>\n",
              "      <td>38.000000</td>\n",
              "      <td>0.000000</td>\n",
              "      <td>262000.000000</td>\n",
              "      <td>1.10000</td>\n",
              "      <td>137.000000</td>\n",
              "      <td>1.000000</td>\n",
              "      <td>0.00000</td>\n",
              "      <td>115.000000</td>\n",
              "      <td>0.00000</td>\n",
              "    </tr>\n",
              "    <tr>\n",
              "      <th>75%</th>\n",
              "      <td>70.000000</td>\n",
              "      <td>1.000000</td>\n",
              "      <td>582.000000</td>\n",
              "      <td>1.000000</td>\n",
              "      <td>45.000000</td>\n",
              "      <td>1.000000</td>\n",
              "      <td>303500.000000</td>\n",
              "      <td>1.40000</td>\n",
              "      <td>140.000000</td>\n",
              "      <td>1.000000</td>\n",
              "      <td>1.00000</td>\n",
              "      <td>203.000000</td>\n",
              "      <td>1.00000</td>\n",
              "    </tr>\n",
              "    <tr>\n",
              "      <th>max</th>\n",
              "      <td>95.000000</td>\n",
              "      <td>1.000000</td>\n",
              "      <td>7861.000000</td>\n",
              "      <td>1.000000</td>\n",
              "      <td>80.000000</td>\n",
              "      <td>1.000000</td>\n",
              "      <td>850000.000000</td>\n",
              "      <td>9.40000</td>\n",
              "      <td>148.000000</td>\n",
              "      <td>1.000000</td>\n",
              "      <td>1.00000</td>\n",
              "      <td>285.000000</td>\n",
              "      <td>1.00000</td>\n",
              "    </tr>\n",
              "  </tbody>\n",
              "</table>\n",
              "</div>"
            ],
            "text/plain": [
              "              age     anaemia  ...        time  DEATH_EVENT\n",
              "count  299.000000  299.000000  ...  299.000000    299.00000\n",
              "mean    60.833893    0.431438  ...  130.260870      0.32107\n",
              "std     11.894809    0.496107  ...   77.614208      0.46767\n",
              "min     40.000000    0.000000  ...    4.000000      0.00000\n",
              "25%     51.000000    0.000000  ...   73.000000      0.00000\n",
              "50%     60.000000    0.000000  ...  115.000000      0.00000\n",
              "75%     70.000000    1.000000  ...  203.000000      1.00000\n",
              "max     95.000000    1.000000  ...  285.000000      1.00000\n",
              "\n",
              "[8 rows x 13 columns]"
            ]
          },
          "metadata": {
            "tags": []
          },
          "execution_count": 28
        }
      ]
    },
    {
      "cell_type": "markdown",
      "metadata": {
        "id": "NpYt1e1lSAjo"
      },
      "source": [
        "Let's start by looking at the distribution of age for this study."
      ]
    },
    {
      "cell_type": "code",
      "metadata": {
        "colab": {
          "base_uri": "https://localhost:8080/",
          "height": 350
        },
        "id": "OmLewL8GSElI",
        "outputId": "2bb94a26-65bc-4eaa-c7e8-3a353796f6ce"
      },
      "source": [
        "sns.distplot(hf['age']);"
      ],
      "execution_count": null,
      "outputs": [
        {
          "output_type": "stream",
          "text": [
            "/usr/local/lib/python3.7/dist-packages/seaborn/distributions.py:2557: FutureWarning:\n",
            "\n",
            "`distplot` is a deprecated function and will be removed in a future version. Please adapt your code to use either `displot` (a figure-level function with similar flexibility) or `histplot` (an axes-level function for histograms).\n",
            "\n"
          ],
          "name": "stderr"
        },
        {
          "output_type": "display_data",
          "data": {
            "image/png": "[encoded data removed]",
            "text/plain": [
              "<Figure size 432x288 with 1 Axes>"
            ]
          },
          "metadata": {
            "tags": [],
            "needs_background": "light"
          }
        }
      ]
    },
    {
      "cell_type": "markdown",
      "metadata": {
        "id": "PIt7yHmz8gIm"
      },
      "source": [
        "Notice that for this study, the distribution of age is a bit different compared to our previous dataset. Let's take a look at the numbers."
      ]
    },
    {
      "cell_type": "code",
      "metadata": {
        "colab": {
          "base_uri": "https://localhost:8080/"
        },
        "id": "Mm7dcvUpIOUx",
        "outputId": "a4d93f77-31be-4bf1-f92a-31dd83c31f4b"
      },
      "source": [
        "hf['age'].describe()"
      ],
      "execution_count": null,
      "outputs": [
        {
          "output_type": "execute_result",
          "data": {
            "text/plain": [
              "count    299.000000\n",
              "mean      60.833893\n",
              "std       11.894809\n",
              "min       40.000000\n",
              "25%       51.000000\n",
              "50%       60.000000\n",
              "75%       70.000000\n",
              "max       95.000000\n",
              "Name: age, dtype: float64"
            ]
          },
          "metadata": {
            "tags": []
          },
          "execution_count": 30
        }
      ]
    },
    {
      "cell_type": "code",
      "metadata": {
        "colab": {
          "base_uri": "https://localhost:8080/"
        },
        "id": "aemNfXLxIcgK",
        "outputId": "8ce2447e-a431-4105-cfb2-c56fc0d169c3"
      },
      "source": [
        "hd['age'].describe()"
      ],
      "execution_count": null,
      "outputs": [
        {
          "output_type": "execute_result",
          "data": {
            "text/plain": [
              "count    303.000000\n",
              "mean      54.438944\n",
              "std        9.038662\n",
              "min       29.000000\n",
              "25%       48.000000\n",
              "50%       56.000000\n",
              "75%       61.000000\n",
              "max       77.000000\n",
              "Name: age, dtype: float64"
            ]
          },
          "metadata": {
            "tags": []
          },
          "execution_count": 31
        }
      ]
    },
    {
      "cell_type": "markdown",
      "metadata": {
        "id": "Pq6RXm8aJ4AV"
      },
      "source": [
        "--------------------------------"
      ]
    },
    {
      "cell_type": "markdown",
      "metadata": {
        "id": "mIbWop2uJ5Ye"
      },
      "source": [
        "Let's explore how gender might affect the age at which heart failure happens for these people."
      ]
    },
    {
      "cell_type": "code",
      "metadata": {
        "colab": {
          "base_uri": "https://localhost:8080/",
          "height": 438
        },
        "id": "NP35nI5aSHSl",
        "outputId": "75b44c2a-e63e-421f-fcf3-956d9e8f94af"
      },
      "source": [
        "f= plt.figure(figsize=(15,5))\n",
        "hff = hf.copy() #excuse my slightly wonky variable naming\n",
        "hff = hff[hff.DEATH_EVENT == 1]\n",
        "hff_m = hff[hff.sex == 1]\n",
        "hff_f = hff[hff.sex == 0]\n",
        "\n",
        "ax=f.add_subplot(121)\n",
        "\n",
        "sns.distplot(hff_m[\"age\"],color='r',ax=ax)\n",
        "ax.set_title('Age distribution of heart failure for men')\n",
        "\n",
        "ax=f.add_subplot(122)\n",
        "sns.distplot(hff_f[\"age\"],color='g',ax=ax)\n",
        "ax.set_title('Age distribution of heart failure for women');"
      ],
      "execution_count": null,
      "outputs": [
        {
          "output_type": "stream",
          "text": [
            "/usr/local/lib/python3.7/dist-packages/seaborn/distributions.py:2557: FutureWarning: `distplot` is a deprecated function and will be removed in a future version. Please adapt your code to use either `displot` (a figure-level function with similar flexibility) or `histplot` (an axes-level function for histograms).\n",
            "  warnings.warn(msg, FutureWarning)\n",
            "/usr/local/lib/python3.7/dist-packages/seaborn/distributions.py:2557: FutureWarning: `distplot` is a deprecated function and will be removed in a future version. Please adapt your code to use either `displot` (a figure-level function with similar flexibility) or `histplot` (an axes-level function for histograms).\n",
            "  warnings.warn(msg, FutureWarning)\n"
          ],
          "name": "stderr"
        },
        {
          "output_type": "display_data",
          "data": {
            "image/png": "[encoded data removed]",
            "text/plain": [
              "<Figure size 1080x360 with 2 Axes>"
            ]
          },
          "metadata": {
            "tags": [],
            "needs_background": "light"
          }
        }
      ]
    },
    {
      "cell_type": "markdown",
      "metadata": {
        "id": "cbgglFfC8zS9"
      },
      "source": [
        "Let's take a closer look at the distributions above with their quantitative values."
      ]
    },
    {
      "cell_type": "code",
      "metadata": {
        "colab": {
          "base_uri": "https://localhost:8080/"
        },
        "id": "-pUyKE48lfZl",
        "outputId": "ebdefd55-b38d-46ae-c190-47344afa8f4e"
      },
      "source": [
        "print(\"Age of heart failure for men:\")\n",
        "hff_m[\"age\"].describe()"
      ],
      "execution_count": null,
      "outputs": [
        {
          "output_type": "stream",
          "text": [
            "Age of heart failure for men:\n"
          ],
          "name": "stdout"
        },
        {
          "output_type": "execute_result",
          "data": {
            "text/plain": [
              "count    62.000000\n",
              "mean     66.881726\n",
              "std      13.482374\n",
              "min      45.000000\n",
              "25%      58.250000\n",
              "50%      66.500000\n",
              "75%      75.000000\n",
              "max      95.000000\n",
              "Name: age, dtype: float64"
            ]
          },
          "metadata": {
            "tags": []
          },
          "execution_count": 33
        }
      ]
    },
    {
      "cell_type": "code",
      "metadata": {
        "colab": {
          "base_uri": "https://localhost:8080/"
        },
        "id": "s90GKwOqlnr9",
        "outputId": "87bc7c95-77b3-482c-bfd2-e7260cfed3de"
      },
      "source": [
        "print(\"Age of heart failure for women:\")\n",
        "hff_f[\"age\"].describe()"
      ],
      "execution_count": null,
      "outputs": [
        {
          "output_type": "stream",
          "text": [
            "Age of heart failure for women:\n"
          ],
          "name": "stdout"
        },
        {
          "output_type": "execute_result",
          "data": {
            "text/plain": [
              "count    34.000000\n",
              "mean     62.176471\n",
              "std      12.327527\n",
              "min      42.000000\n",
              "25%      50.750000\n",
              "50%      60.000000\n",
              "75%      70.000000\n",
              "max      95.000000\n",
              "Name: age, dtype: float64"
            ]
          },
          "metadata": {
            "tags": []
          },
          "execution_count": 34
        }
      ]
    },
    {
      "cell_type": "markdown",
      "metadata": {
        "id": "mOkctJ_5KWuB"
      },
      "source": [
        "Although we see that age is somewhat similar overall, the distribution is different, and the most important part of this is that we have nearly double the amount of heart failures in our dataset for men compared to women. This seems to suggest that although the age at which heart failure occurs is similar, the overall frequency of this happening is likely much higher for men mostly across the ages."
      ]
    },
    {
      "cell_type": "markdown",
      "metadata": {
        "id": "XKMeL2SgLI8w"
      },
      "source": [
        "--------------------------"
      ]
    },
    {
      "cell_type": "markdown",
      "metadata": {
        "id": "wHn2FLf59IOo"
      },
      "source": [
        "Since the title of the research paper this dataset came from suggests that serum creatinine is closely related to heart failure, and we can see that from calling hf.corr(), let's see if we can try to provide new visualizations to highlight this relationship."
      ]
    },
    {
      "cell_type": "code",
      "metadata": {
        "colab": {
          "base_uri": "https://localhost:8080/",
          "height": 542
        },
        "id": "tlnxVWu7oKXC",
        "outputId": "c753bf17-194e-4440-82a6-58af3d09327e"
      },
      "source": [
        "import plotly.graph_objs as go\n",
        "import plotly.figure_factory as ff  # you might want to explore a bit more on plotly as well for different visualization techniques!\n",
        "\n",
        "hfn_s = hf[hf.DEATH_EVENT == 0]['serum_creatinine']\n",
        "hff_s = hf[hf.DEATH_EVENT == 1]['serum_creatinine']\n",
        "hist = [hfn_s, hff_s]\n",
        "group_labels = ['No Heart Failure', 'Heart Failure']\n",
        "fig = ff.create_distplot(hist, group_labels, bin_size=0.25)\n",
        "fig.update_layout(title_text=\"Serum Creatinine on Heart Failure Survival\")"
      ],
      "execution_count": null,
      "outputs": [
        {
          "output_type": "display_data",
          "data": {
            "text/html": [
              "<html>\n",
              "<head><meta charset=\"utf-8\" /></head>\n",
              "<body>\n",
              "    <div>\n",
              "            <script src=\"https://cdnjs.cloudflare.com/ajax/libs/mathjax/2.7.5/MathJax.js?config=TeX-AMS-MML_SVG\"></script><script type=\"text/javascript\">if (window.MathJax) {MathJax.Hub.Config({SVG: {font: \"STIX-Web\"}});}</script>\n",
              "                <script type=\"text/javascript\">window.PlotlyConfig = {MathJaxConfig: 'local'};</script>\n",
              "        <script src=\"https://cdn.plot.ly/plotly-latest.min.js\"></script>    \n",
              "            <div id=\"b415044b-eac0-4ed0-9e26-2fb1aaa3d9ef\" class=\"plotly-graph-div\" style=\"height:525px; width:100%;\"></div>\n",
              "            <script type=\"text/javascript\">\n",
              "                \n",
              "                    window.PLOTLYENV=window.PLOTLYENV || {};\n",
              "                    \n",
              "                if (document.getElementById(\"b415044b-eac0-4ed0-9e26-2fb1aaa3d9ef\")) {\n",
              "                    Plotly.newPlot(\n",
              "                        'b415044b-eac0-4ed0-9e26-2fb1aaa3d9ef',\n",
              "                        [{\"autobinx\": false, \"histnorm\": \"probability density\", \"legendgroup\": \"No Heart Failure\", \"marker\": {\"color\": \"rgb(31, 119, 180)\"}, \"name\": \"No Heart Failure\", \"opacity\": 0.7, \"type\": \"histogram\", \"x\": [1.0, 1.3, 0.8, 1.2, 2.3, 1.0, 2.7, 0.6, 1.1, 1.18, 0.8, 0.9, 1.3, 0.8, 1.2, 0.6, 0.9, 1.7, 1.18, 1.8, 0.7, 1.1, 0.8, 0.7, 1.1, 0.8, 1.0, 1.18, 0.7, 1.0, 1.3, 1.1, 1.2, 1.1, 1.1, 1.18, 1.1, 1.0, 2.3, 1.3, 0.9, 1.1, 1.3, 1.2, 1.6, 1.2, 1.0, 0.7, 3.2, 0.9, 1.5, 1.0, 0.75, 0.9, 1.3, 0.8, 0.7, 3.4, 0.7, 6.1, 1.18, 1.3, 1.18, 1.18, 0.9, 2.1, 1.0, 0.8, 0.9, 0.9, 0.9, 0.7, 0.7, 1.0, 0.9, 0.9, 0.9, 1.18, 0.8, 1.7, 1.4, 1.0, 1.3, 1.1, 1.2, 0.8, 0.9, 0.7, 1.0, 0.8, 1.5, 0.9, 1.1, 0.8, 0.9, 1.0, 1.0, 1.0, 1.2, 0.7, 0.9, 1.0, 0.9, 2.1, 1.5, 0.7, 1.18, 1.18, 0.8, 1.0, 1.8, 0.7, 1.0, 0.9, 3.5, 0.7, 1.0, 0.8, 0.9, 1.0, 0.8, 1.0, 0.8, 1.4, 0.8, 1.3, 0.9, 1.1, 0.7, 1.1, 1.1, 0.8, 1.0, 1.4, 1.3, 1.0, 5.0, 1.2, 1.1, 0.9, 1.4, 1.1, 1.1, 1.1, 1.2, 1.0, 1.18, 1.3, 1.3, 1.1, 0.9, 1.8, 1.4, 2.4, 1.0, 1.2, 0.5, 0.8, 1.0, 1.2, 1.0, 1.0, 1.7, 1.0, 0.8, 0.7, 1.0, 0.7, 1.0, 1.2, 0.9, 1.7, 0.9, 1.0, 1.6, 0.9, 1.2, 0.7, 1.0, 0.8, 1.1, 1.1, 0.7, 1.3, 1.0, 2.7, 3.8, 1.1, 0.8, 1.2, 1.7, 1.0, 1.1, 0.9, 0.8, 1.4, 1.0, 0.9, 1.1, 1.2, 0.8, 1.4, 1.6], \"xaxis\": \"x\", \"xbins\": {\"end\": 6.1, \"size\": 0.25, \"start\": 0.5}, \"yaxis\": \"y\"}, {\"autobinx\": false, \"histnorm\": \"probability density\", \"legendgroup\": \"Heart Failure\", \"marker\": {\"color\": \"rgb(255, 127, 14)\"}, \"name\": \"Heart Failure\", \"opacity\": 0.7, \"type\": \"histogram\", \"x\": [1.9, 1.1, 1.3, 1.9, 2.7, 2.1, 1.2, 1.1, 1.5, 9.4, 4.0, 0.9, 1.1, 1.1, 1.3, 0.9, 0.8, 1.0, 1.9, 1.6, 0.9, 1.83, 1.9, 1.0, 1.3, 5.8, 1.2, 1.83, 3.0, 1.0, 1.0, 3.5, 1.0, 1.0, 3.0, 1.83, 1.2, 1.2, 1.1, 1.9, 0.9, 0.6, 4.4, 1.0, 1.0, 1.4, 6.8, 1.0, 2.2, 2.0, 1.1, 1.3, 1.0, 2.3, 1.0, 2.9, 1.3, 1.0, 1.2, 1.83, 1.0, 1.2, 0.7, 2.5, 1.0, 1.7, 1.7, 1.2, 1.3, 1.83, 3.7, 2.1, 1.1, 1.7, 1.83, 2.5, 0.9, 1.1, 1.3, 2.4, 1.0, 1.2, 2.5, 1.2, 1.5, 0.6, 2.1, 1.6, 1.8, 1.6, 9.0, 1.83, 1.7, 1.1, 1.4, 1.83], \"xaxis\": \"x\", \"xbins\": {\"end\": 9.4, \"size\": 0.25, \"start\": 0.6}, \"yaxis\": \"y\"}, {\"legendgroup\": \"No Heart Failure\", \"marker\": {\"color\": \"rgb(31, 119, 180)\"}, \"mode\": \"lines\", \"name\": \"No Heart Failure\", \"showlegend\": false, \"type\": \"scatter\", \"x\": [0.5, 0.5112, 0.5224, 0.5336, 0.5448, 0.556, 0.5671999999999999, 0.5784, 0.5896, 0.6008, 0.612, 0.6232, 0.6344, 0.6456, 0.6568, 0.668, 0.6792, 0.6904, 0.7016, 0.7128, 0.724, 0.7352, 0.7464, 0.7575999999999999, 0.7687999999999999, 0.78, 0.7912, 0.8024, 0.8136, 0.8248, 0.8360000000000001, 0.8472, 0.8584, 0.8695999999999999, 0.8808, 0.892, 0.9032, 0.9144, 0.9256, 0.9368, 0.948, 0.9592, 0.9703999999999999, 0.9816, 0.9927999999999999, 1.004, 1.0151999999999999, 1.0264, 1.0375999999999999, 1.0488, 1.06, 1.0712, 1.0824, 1.0936, 1.1048, 1.116, 1.1272, 1.1383999999999999, 1.1496, 1.1608, 1.1720000000000002, 1.1831999999999998, 1.1944, 1.2056, 1.2168, 1.228, 1.2391999999999999, 1.2504, 1.2616, 1.2728, 1.284, 1.2952, 1.3064, 1.3175999999999999, 1.3288, 1.3399999999999999, 1.3512, 1.3624, 1.3736, 1.3847999999999998, 1.396, 1.4072, 1.4184, 1.4295999999999998, 1.4407999999999999, 1.452, 1.4632, 1.4744, 1.4855999999999998, 1.4968, 1.5079999999999998, 1.5191999999999999, 1.5303999999999998, 1.5415999999999999, 1.5528, 1.564, 1.5751999999999997, 1.5863999999999998, 1.5976, 1.6088, 1.62, 1.6311999999999998, 1.6423999999999999, 1.6536, 1.6648, 1.676, 1.6871999999999998, 1.6984, 1.7096, 1.7207999999999999, 1.732, 1.7431999999999999, 1.7544, 1.7655999999999998, 1.7768, 1.788, 1.7992, 1.8103999999999998, 1.8215999999999999, 1.8328, 1.844, 1.8551999999999997, 1.8663999999999998, 1.8776, 1.8888, 1.9, 1.9111999999999998, 1.9223999999999999, 1.9336, 1.9447999999999999, 1.956, 1.9671999999999998, 1.9784, 1.9895999999999998, 2.0008, 2.012, 2.0232, 2.0343999999999998, 2.0456, 2.0568, 2.068, 2.0791999999999997, 2.0904, 2.1016, 2.1128, 2.124, 2.1351999999999998, 2.1464, 2.1576, 2.1688, 2.1799999999999997, 2.1912, 2.2024, 2.2136, 2.2248, 2.2359999999999998, 2.2472, 2.2584, 2.2695999999999996, 2.2808, 2.292, 2.3032, 2.3144, 2.3255999999999997, 2.3368, 2.348, 2.3591999999999995, 2.3704, 2.3815999999999997, 2.3928000000000003, 2.404, 2.4151999999999996, 2.4264, 2.4375999999999998, 2.4488, 2.46, 2.4711999999999996, 2.4824, 2.4936, 2.5048, 2.5159999999999996, 2.5271999999999997, 2.5383999999999998, 2.5496, 2.5607999999999995, 2.572, 2.5831999999999997, 2.5944000000000003, 2.6056, 2.6167999999999996, 2.628, 2.6391999999999998, 2.6503999999999994, 2.6616, 2.6727999999999996, 2.684, 2.6952, 2.7063999999999995, 2.7176, 2.7287999999999997, 2.74, 2.7512, 2.7623999999999995, 2.7736, 2.7847999999999997, 2.796, 2.8072, 2.8183999999999996, 2.8296, 2.8407999999999998, 2.852, 2.8632, 2.8743999999999996, 2.8855999999999997, 2.8968, 2.908, 2.9192, 2.9303999999999997, 2.9415999999999998, 2.9528, 2.964, 2.9751999999999996, 2.9863999999999997, 2.9976, 3.0088, 3.02, 3.0311999999999997, 3.0423999999999998, 3.0536, 3.0647999999999995, 3.076, 3.0871999999999997, 3.0984, 3.1096, 3.1207999999999996, 3.132, 3.1431999999999998, 3.1543999999999994, 3.1656, 3.1767999999999996, 3.188, 3.1992, 3.2103999999999995, 3.2216, 3.2327999999999997, 3.244, 3.2552, 3.2663999999999995, 3.2776, 3.2887999999999997, 3.3, 3.3112, 3.3223999999999996, 3.3336, 3.3447999999999998, 3.356, 3.3672, 3.3783999999999996, 3.3895999999999997, 3.4008, 3.412, 3.4232, 3.4343999999999997, 3.4455999999999998, 3.4568, 3.468, 3.4791999999999996, 3.4903999999999997, 3.5016, 3.5128, 3.524, 3.5351999999999997, 3.5463999999999998, 3.5576, 3.5687999999999995, 3.58, 3.5911999999999997, 3.6024, 3.6136, 3.6247999999999996, 3.636, 3.6471999999999998, 3.6583999999999994, 3.6696, 3.6807999999999996, 3.692, 3.7032, 3.7143999999999995, 3.7256, 3.7367999999999997, 3.748, 3.7592, 3.7703999999999995, 3.7816, 3.7927999999999997, 3.804, 3.8152, 3.8263999999999996, 3.8376, 3.8487999999999998, 3.86, 3.8712, 3.8823999999999996, 3.8935999999999997, 3.9048, 3.916, 3.9272, 3.9383999999999997, 3.9495999999999998, 3.9608, 3.972, 3.9831999999999996, 3.9943999999999997, 4.005599999999999, 4.0168, 4.0280000000000005, 4.039199999999999, 4.0504, 4.0616, 4.072799999999999, 4.084, 4.0952, 4.1064, 4.1175999999999995, 4.1288, 4.14, 4.151199999999999, 4.1624, 4.1736, 4.184799999999999, 4.196, 4.2072, 4.218399999999999, 4.2296, 4.2408, 4.251999999999999, 4.263199999999999, 4.2744, 4.2856000000000005, 4.296799999999999, 4.308, 4.3192, 4.330399999999999, 4.3416, 4.3528, 4.363999999999999, 4.3751999999999995, 4.3864, 4.3976, 4.408799999999999, 4.42, 4.4312000000000005, 4.442399999999999, 4.4536, 4.4648, 4.475999999999999, 4.4872, 4.4984, 4.5096, 4.5207999999999995, 4.531999999999999, 4.5432, 4.554399999999999, 4.5656, 4.5767999999999995, 4.587999999999999, 4.5992, 4.610399999999999, 4.621599999999999, 4.6328000000000005, 4.644, 4.6552, 4.666399999999999, 4.677599999999999, 4.6888000000000005, 4.7, 4.7112, 4.7223999999999995, 4.733599999999999, 4.744800000000001, 4.756, 4.7672, 4.7783999999999995, 4.789599999999999, 4.800799999999999, 4.812, 4.8232, 4.8344, 4.845599999999999, 4.856799999999999, 4.868, 4.8792, 4.8904, 4.901599999999999, 4.912799999999999, 4.924, 4.9352, 4.9464, 4.957599999999999, 4.968799999999999, 4.98, 4.9912, 5.0024, 5.013599999999999, 5.024799999999999, 5.036, 5.0472, 5.0584, 5.069599999999999, 5.080799999999999, 5.092, 5.1032, 5.1144, 5.1255999999999995, 5.136799999999999, 5.148, 5.1592, 5.1704, 5.1815999999999995, 5.192799999999999, 5.204, 5.215199999999999, 5.2264, 5.2376, 5.248799999999999, 5.26, 5.271199999999999, 5.2824, 5.2936, 5.304799999999999, 5.316, 5.3271999999999995, 5.3384, 5.3496, 5.360799999999999, 5.372, 5.3831999999999995, 5.394399999999999, 5.4056, 5.416799999999999, 5.428, 5.4392, 5.450399999999999, 5.4616, 5.472799999999999, 5.484, 5.4952, 5.506399999999999, 5.5176, 5.5287999999999995, 5.54, 5.5512, 5.562399999999999, 5.5736, 5.5847999999999995, 5.596, 5.6072, 5.618399999999999, 5.629599999999999, 5.6408, 5.652, 5.6632, 5.6743999999999994, 5.685599999999999, 5.6968, 5.708, 5.7192, 5.7303999999999995, 5.741599999999999, 5.7528, 5.764, 5.7752, 5.7863999999999995, 5.797599999999999, 5.808799999999999, 5.82, 5.8312, 5.8424, 5.853599999999999, 5.864799999999999, 5.876, 5.8872, 5.8984, 5.909599999999999, 5.920799999999999, 5.932, 5.9432, 5.9544, 5.965599999999999, 5.976799999999999, 5.988, 5.9992, 6.0104, 6.021599999999999, 6.032799999999999, 6.044, 6.0552, 6.0664, 6.0775999999999994, 6.088799999999999], \"xaxis\": \"x\", \"y\": [0.3014834645290926, 0.3208491530739787, 0.34089090728026883, 0.3615860333121477, 0.3829078697151174, 0.404825787365794, 0.42730521929638715, 0.45030772073718495, 0.473791059375576, 0.4977093354854148, 0.5220131312420331, 0.5466496882118586, 0.5715631116970538, 0.5966946003300557, 0.6219826990547787, 0.6473635734046965, 0.6727713027958081, 0.6981381903969524, 0.723395087022545, 0.7484717264136118, 0.7732970692320267, 0.7977996530881791, 0.8219079459525976, 0.8455507003636672, 0.8686573059340573, 0.8911581377730959, 0.912984898577873, 0.9340709522969354, 0.9543516474336963, 0.9737646282268821, 0.9922501321188589, 1.0097512720955206, 1.026214302650016, 1.0415888682841832, 1.0558282336135332, 1.0688894942823064, 1.0807337680230296, 1.091326365309921, 1.1006369391566968, 1.10863961369808, 1.1153130912709586, 1.1206407377772756, 1.124610646168359, 1.1272156779409794, 1.12845348258174, 1.1283264949401597, 1.1268419105548828, 1.1240116390033112, 1.1198522353954807, 1.1143848101891953, 1.1076349175675024, 1.0996324226922665, 1.0904113482300533, 1.0800097006388905, 1.0684692768072734, 1.0558354517489705, 1.0421569481787487, 1.0274855889233385, 1.0118760332576353, 0.9953854983963726, 0.9780734675141945, 0.9600013858098398, 0.9412323462706021, 0.92183076692868, 0.901862061528596, 0.8813923056421147, 0.8604879003710493, 0.8392152358665328, 0.8176403569633107, 0.7958286332770843, 0.7738444361398946, 0.7517508247512944, 0.7296092439003007, 0.7074792355635791, 0.6854181666088346, 0.6634809747281957, 0.641719934595254, 0.6201844460816537, 0.5989208461860037, 0.5779722461210587, 0.5573783947762875, 0.5371755695248848, 0.5173964950794884, 0.4980702908226158, 0.47922244674952785, 0.46087482786661826, 0.4430457065913286, 0.425749822404185, 0.40899846771396436, 0.3927995986173274, 0.3771579689687353, 0.3620752859290811, 0.34755038493600415, 0.33357942183890293, 0.3201560797704885, 0.30727178818708245, 0.2949159514042334, 0.28307618388440253, 0.2717385495008232, 0.2608878020068359, 0.25050762398319704, 0.24058086161643874, 0.23108975277822835, 0.22201614602692968, 0.21334170833581362, 0.205048119564656, 0.19711725192911256, 0.1895313329814926, 0.1822730908927569, 0.1753258811142044, 0.16867379379340727, 0.16230174161743408, 0.1561955280522897, 0.15034189623572947, 0.1447285590564639, 0.1393442112116873, 0.1341785242727543, 0.12922212600200408, 0.12446656534906105, 0.11990426470989238, 0.1155284611545752, 0.11133313841891161, 0.10731295151016983, 0.1034631457985165, 0.09977947245390302, 0.0962581020447795, 0.09289553804203893, 0.08968853187157416, 0.08663400103481154, 0.08372895167185823, 0.08097040678016346, 0.0783553411266073, 0.07588062370664499, 0.07354296841441801, 0.07133889339642618, 0.06926468937208312, 0.0673163970206391, 0.06548979335867043, 0.06378038686833794, 0.062183420986278076, 0.06069388542824774, 0.05930653470702739, 0.05801591310167663, 0.056816385255722995, 0.055702171520503926, 0.05466738711762394, 0.05370608417084773, 0.05281229565208776, 0.05198008029739785, 0.05120356757595673, 0.0504770018364961, 0.04979478481006975, 0.049151515713869914, 0.04854202827637863, 0.047961424087818345, 0.04740510177000224, 0.04686878155462846, 0.04634852495720748, 0.045840749333599294, 0.04534223720603195, 0.0448501403440352, 0.044361978681535075, 0.04387563424308445, 0.04338934033859164, 0.04290166636574018, 0.04241149863148496, 0.04191801766750931, 0.041420672568448336, 0.04091915292520972, 0.04041335895818745, 0.03990337047606059, 0.03938941529484335, 0.03887183774873359, 0.03835106790913946, 0.03782759210128411, 0.03730192526946442, 0.03677458569306082, 0.03624607249667238, 0.03571684633041645, 0.03518731352180321, 0.03465781392020329, 0.03412861257040798, 0.03359989526495139, 0.033071767937563744, 0.03254425977427728, 0.03201732983620787, 0.03149087691072728, 0.0309647522373729, 0.03043877469300186, 0.029912747968790218, 0.029386479230873428, 0.028859798727617188, 0.02833257979032082, 0.027804758670879, 0.027276353669544503, 0.026747483028105725, 0.026218381097868556, 0.02568941233686197, 0.025161082745470496, 0.024634048412778855, 0.02410912091567637, 0.02358726938741856, 0.023069619150018743, 0.02255744688361946, 0.02205217238397404, 0.021555347034498223, 0.021068639190305376, 0.02059381673663034, 0.02013272714168907, 0.019687275373159018, 0.01925940008718102, 0.01885104852844353, 0.0184641505991441, 0.018100592563347343, 0.017762190851656593, 0.017450666419621143, 0.01716762009259341, 0.01691450930069317, 0.016692626571189244, 0.01650308010315038, 0.01634677670192809, 0.016224407300253985, 0.016136435239818663, 0.016083087433474804, 0.016064348474958183, 0.01607995771142165, 0.016129409245199074, 0.016211954785977672, 0.016326609233720774, 0.016472158836834512, 0.016647171739622157, 0.016850010708247834, 0.017078847805289968, 0.017331680769400202, 0.01760635084833512, 0.017900561830315034, 0.01821190001979315, 0.018537854908717375, 0.018875840302614525, 0.0192232156716599, 0.01957730750966778, 0.01993543049801141, 0.02029490828627399, 0.020653093716421666, 0.02100738833204307, 0.021355261028371604, 0.02169426571215777, 0.02202205785285675, 0.022336409818004076, 0.022635224896140636, 0.022916549920367277, 0.023178586414782088, 0.023419700194963845, 0.023638429362626567, 0.02383349064391284, 0.024003784030844008, 0.024148395696495926, 0.024266599166768044, 0.024357854745341925, 0.024421807203680077, 0.024458281764704982, 0.02446727842702496, 0.024448964696040843, 0.024403666808676432, 0.024331859559430753, 0.024234154856475953, 0.024111289157073872, 0.023964109951063434, 0.023793561478957784, 0.02360066988666022, 0.023386528031357656, 0.023152280162224613, 0.022899106704683998, 0.022628209377732023, 0.022340796869965613, 0.022038071291300546, 0.021721215603927996, 0.021391382217960032, 0.021049682914745578, 0.02069718023441947, 0.02033488043443772, 0.019963728093327682, 0.01958460239941221, 0.01919831512870928, 0.018805610280451055, 0.01840716530363735, 0.018003593814645526, 0.017595449675032567, 0.01718323227110225, 0.016767392813278426, 0.016348341454434766, 0.01592645501254806, 0.015502085074688733, 0.015075566256607865, 0.014647224395023037, 0.014217384457998127, 0.013786377972244189, 0.013354549784288187, 0.012922263994698353, 0.012489908930230834, 0.01205790104711829, 0.011626687688934819, 0.011196748653695222, 0.010768596556225852, 0.010342776002547328, 0.009919861622250182, 0.009500455031904135, 0.009085180826792293, 0.008674681719171646, 0.00826961295842189, 0.007870636181562803, 0.007478412851531933, 0.007093597445279045, 0.006716830554230861, 0.006348732056200133, 0.005989894510648412, 0.005640876918737543, 0.0053021989762695705, 0.004974335931915022, 0.004657714145598961, 0.0043527074231051325, 0.0040596341834148834, 0.0037787554955528145, 0.0035102740022656944, 0.003254333729164771, 0.0030110207604181266, 0.002780364746021604, 0.002562341191375486, 0.002356874467542912, 0.002163841470294929, 0.001983075847911088, 0.001814372711696836, 0.0016574937392332919, 0.0015121725783752587, 0.0013781204597985142, 0.0012550319272735407, 0.001142590597596103, 0.00104047486600162, 0.0009483634776955235, 0.0008659408916167758, 0.0007929023684949372, 0.0007289587214652551, 0.0006738406737957758, 0.0006273027745112, 0.000589126828757131, 0.0005591248055568751, 0.0005371411911280867, 0.0005230547611363389, 0.0005167797501878575, 0.0005182664015522264, 0.0005275008846280404, 0.0005445045721094821, 0.0005693326732803684, 0.0006020722244610151, 0.0006428394424682488, 0.0006917764521193981, 0.0007490474044019841, 0.0008148340080084499, 0.0008893305035414452, 0.0009727381168408293, 0.0010652590355486572, 0.0011670899611563288, 0.001278415297274639, 0.0013994000436030715, 0.0015301824738823766, 0.001670866684795461, 0.0018215151111067689, 0.0019821411100482433, 0.002152701724801424, 0.0023330907426105116, 0.002523132167312323, 0.002722574228614962, 0.0029310840510426072, 0.0031482431038678594, 0.0033735435493859292, 0.00360638560040623, 0.0038460759887640073, 0.004091827634959825, 0.0043427605947690935, 0.004597904341937743, 0.004856201427087534, 0.005116512531959196, 0.005377622915452807, 0.005638250223989198, 0.005897053613964409, 0.006152644109013354, 0.006403596089977466, 0.006648459791457018, 0.0068857746561914, 0.007114083377827211, 0.007331946444444882, 0.007537956980032229, 0.007730755669368875, 0.007909045543902895, 0.008071606402464165, 0.008217308641274169, 0.00834512627278699, 0.00845414892243117, 0.008543592606204612, 0.008612809110086153, 0.00866129381403998, 0.008688691828579525, 0.008694802339910846, 0.008679581090003594, 0.008643140949889879, 0.00858575057737435, 0.008507831183433822, 0.008409951464167547, 0.00829282078651838, 0.008157280745443009, 0.00800429523713731, 0.007834939216760164, 0.0076503863293656315, 0.007451895619061399, 0.007240797533475482, 0.007018479448252718, 0.006786370939450504, 0.0065459290303964135, 0.006298623633953546, 0.006045923401455035, 0.005789282176145549, 0.005530126232212299, 0.005269842460870056, 0.005009767643001785, 0.00475117892409698, 0.0044952855822416055, 0.004243222154262438, 0.003996042959367686, 0.003754718034280498, 0.003520130469416619, 0.003293075112549538, 0.0030742585850096257, 0.002864300536095143, 0.002663736044276533, 0.002473019059128583, 0.002292526765839482, 0.0021225647446661473, 0.0019633727908181862, 0.0018151312558916195, 0.001677967770025069, 0.0015519642042653924, 0.0014371637350275846, 0.001333577876815644, 0.001241193355327057, 0.0011599787004783347, 0.0010898904475522583, 0.001030878844378693, 0.0009828929730317875, 0.0009458852057898178, 0.0009198149269100863, 0.0009046514639924575, 0.0009003761852330642, 0.0009069837316144009, 0.0009244823659646875, 0.0009528934337841943, 0.0009922499437227132, 0.0010425942885453209, 0.0011039751402855257, 0.001176443565989879, 0.0012600484229285435, 0.001354831104288169, 0.0014608197180650446, 0.0015780227930044205, 0.001706422615833856, 0.0018459683135409464, 0.001996568802859142, 0.0021580857362454966, 0.0023303265792491133, 0.0025130379580650115, 0.0027058994180356576, 0.0029085177337056355, 0.003120421908581677, 0.00334105899785509, 0.003569790879905354, 0.003805892092364484, 0.00404854883588155, 0.004296859233543052, 0.00454983491630453, 0.004806403984961325, 0.005065415377395493, 0.005325644646405757, 0.0055858011287512966, 0.0058445364605628205, 0.0061004543684903614, 0.00635212164040081, 0.006598080154664207, 0.006836859823644327, 0.007066992285502603, 0.007287025159373936, 0.0074955366628936815, 0.007691150378396282, 0.00787254994526528, 0.008038493451199573, 0.008187827294793807, 0.008319499295935005, 0.008432570839106871, 0.00852622784767494, 0.00859979040439793, 0.008652720854463933, 0.008684630251875693], \"yaxis\": \"y\"}, {\"legendgroup\": \"Heart Failure\", \"marker\": {\"color\": \"rgb(255, 127, 14)\"}, \"mode\": \"lines\", \"name\": \"Heart Failure\", \"showlegend\": false, \"type\": \"scatter\", \"x\": [0.6, 0.6175999999999999, 0.6352, 0.6527999999999999, 0.6704, 0.688, 0.7056, 0.7232, 0.7408, 0.7584, 0.776, 0.7936, 0.8112, 0.8288, 0.8464, 0.864, 0.8815999999999999, 0.8992, 0.9168000000000001, 0.9344, 0.952, 0.9696, 0.9872000000000001, 1.0048, 1.0224, 1.04, 1.0575999999999999, 1.0752000000000002, 1.0928, 1.1104, 1.1280000000000001, 1.1456, 1.1632, 1.1808, 1.1984, 1.216, 1.2336, 1.2511999999999999, 1.2688000000000001, 1.2864, 1.3039999999999998, 1.3216, 1.3392, 1.3568, 1.3744, 1.3920000000000001, 1.4096, 1.4272, 1.4448, 1.4624000000000001, 1.48, 1.4976, 1.5152, 1.5328, 1.5504000000000002, 1.568, 1.5856000000000001, 1.6032000000000002, 1.6208, 1.6383999999999999, 1.6560000000000001, 1.6736, 1.6911999999999998, 1.7088, 1.7264, 1.7439999999999998, 1.7616, 1.7792, 1.7968000000000002, 1.8144, 1.8319999999999999, 1.8496000000000001, 1.8672, 1.8848000000000003, 1.9024, 1.92, 1.9376000000000002, 1.9552, 1.9728000000000003, 1.9904000000000002, 2.008, 2.0256000000000003, 2.0432, 2.0608, 2.0784000000000002, 2.096, 2.1136, 2.1312, 2.1488, 2.1664, 2.184, 2.2016, 2.2192, 2.2368, 2.2544, 2.2720000000000002, 2.2896, 2.3072, 2.3248, 2.3424, 2.3600000000000003, 2.3776, 2.3952, 2.4128000000000003, 2.4304, 2.4480000000000004, 2.4656000000000002, 2.4832, 2.5008000000000004, 2.5184, 2.536, 2.5536000000000003, 2.5712, 2.5888, 2.6064000000000003, 2.624, 2.6416000000000004, 2.6592000000000002, 2.6768, 2.6944000000000004, 2.712, 2.7296000000000005, 2.7472000000000003, 2.7648, 2.7824, 2.8000000000000003, 2.8176000000000005, 2.8352000000000004, 2.8528000000000002, 2.8704, 2.888, 2.9056000000000006, 2.9232000000000005, 2.9408000000000003, 2.9584, 2.976, 2.9936000000000003, 3.0112000000000005, 3.0288000000000004, 3.0464, 3.064, 3.0816000000000003, 3.0992, 3.1168000000000005, 3.1344000000000003, 3.152, 3.1696000000000004, 3.1872000000000003, 3.2048, 3.2224000000000004, 3.24, 3.2576000000000005, 3.2752000000000003, 3.2928, 3.3104, 3.3280000000000003, 3.3456000000000006, 3.3632000000000004, 3.3808000000000002, 3.3984, 3.416, 3.4336000000000007, 3.4512000000000005, 3.4688000000000003, 3.4864, 3.5040000000000004, 3.5216000000000003, 3.5392000000000006, 3.5568000000000004, 3.5744000000000002, 3.5920000000000005, 3.6096000000000004, 3.6272, 3.6448000000000005, 3.6624000000000003, 3.6800000000000006, 3.6976000000000004, 3.7152000000000003, 3.7328, 3.7504000000000004, 3.7680000000000007, 3.7856000000000005, 3.8032000000000004, 3.8208, 3.8384, 3.8560000000000008, 3.8736000000000006, 3.8912000000000004, 3.9088000000000003, 3.9264, 3.9440000000000004, 3.9616000000000002, 3.9792000000000005, 3.9968000000000004, 4.0144, 4.032, 4.0496, 4.0672, 4.0848, 4.1024, 4.12, 4.1376, 4.1552, 4.1728, 4.1904, 4.208, 4.2256, 4.2432, 4.2608, 4.2783999999999995, 4.296, 4.3136, 4.3312, 4.3488, 4.3664, 4.384, 4.4016, 4.4192, 4.4368, 4.4544, 4.472, 4.4896, 4.5072, 4.5248, 4.542400000000001, 4.5600000000000005, 4.5776, 4.5952, 4.6128, 4.6304, 4.648, 4.6656, 4.6832, 4.7008, 4.7184, 4.736, 4.7536, 4.7712, 4.7888, 4.8064, 4.824, 4.8416, 4.8592, 4.8768, 4.8944, 4.912, 4.9296, 4.9472000000000005, 4.964799999999999, 4.9824, 5.0, 5.0176, 5.035200000000001, 5.0527999999999995, 5.0704, 5.088, 5.1056, 5.123200000000001, 5.1408, 5.1584, 5.175999999999999, 5.1936, 5.211200000000001, 5.2288, 5.2464, 5.263999999999999, 5.2816, 5.299200000000001, 5.3168, 5.3344000000000005, 5.351999999999999, 5.3696, 5.3872, 5.4048, 5.4224000000000006, 5.4399999999999995, 5.4576, 5.4752, 5.4928, 5.510400000000001, 5.528, 5.5456, 5.5632, 5.5808, 5.5984, 5.616, 5.6336, 5.6512, 5.6688, 5.6864, 5.704, 5.7216, 5.7392, 5.7568, 5.7744, 5.792, 5.8096, 5.8272, 5.8448, 5.8624, 5.88, 5.8976, 5.9152000000000005, 5.932799999999999, 5.9504, 5.968, 5.9856, 6.0032000000000005, 6.0207999999999995, 6.0384, 6.056, 6.0736, 6.091200000000001, 6.1088, 6.1264, 6.143999999999999, 6.1616, 6.179200000000001, 6.1968, 6.2144, 6.231999999999999, 6.2496, 6.267200000000001, 6.2848, 6.3024000000000004, 6.32, 6.3376, 6.3552, 6.3728, 6.3904000000000005, 6.408, 6.4256, 6.4432, 6.4608, 6.478400000000001, 6.496, 6.5136, 6.5312, 6.5488, 6.5664, 6.5840000000000005, 6.6016, 6.6192, 6.6368, 6.6544, 6.672000000000001, 6.6896, 6.7072, 6.7248, 6.7424, 6.760000000000001, 6.7776, 6.7952, 6.8128, 6.8304, 6.848000000000001, 6.8656, 6.8832, 6.9008, 6.9184, 6.936000000000001, 6.9536, 6.9712000000000005, 6.9887999999999995, 7.0064, 7.024000000000001, 7.0416, 7.059200000000001, 7.0767999999999995, 7.0944, 7.112000000000001, 7.1296, 7.147200000000001, 7.1648, 7.1824, 7.2, 7.2176, 7.235200000000001, 7.2528, 7.2704, 7.288, 7.3056, 7.3232, 7.3408, 7.3584000000000005, 7.376, 7.3936, 7.4112, 7.4288, 7.446400000000001, 7.464, 7.4816, 7.4992, 7.5168, 7.5344, 7.5520000000000005, 7.5696, 7.5872, 7.6048, 7.6224, 7.640000000000001, 7.6576, 7.6752, 7.6928, 7.7104, 7.728000000000001, 7.7456, 7.7632, 7.7808, 7.7984, 7.816000000000001, 7.8336, 7.8512, 7.8688, 7.8864, 7.904000000000001, 7.9216, 7.9392000000000005, 7.956799999999999, 7.9744, 7.992000000000001, 8.0096, 8.0272, 8.0448, 8.0624, 8.080000000000002, 8.0976, 8.115200000000002, 8.1328, 8.150400000000001, 8.168000000000001, 8.1856, 8.2032, 8.2208, 8.2384, 8.256, 8.2736, 8.291200000000002, 8.3088, 8.326400000000001, 8.344000000000001, 8.361600000000001, 8.3792, 8.3968, 8.4144, 8.432, 8.4496, 8.4672, 8.484800000000002, 8.502400000000002, 8.520000000000001, 8.537600000000001, 8.555200000000001, 8.5728, 8.5904, 8.608, 8.6256, 8.6432, 8.6608, 8.6784, 8.696, 8.7136, 8.731200000000001, 8.748800000000001, 8.7664, 8.784, 8.8016, 8.8192, 8.8368, 8.854400000000002, 8.872, 8.8896, 8.9072, 8.924800000000001, 8.942400000000001, 8.959999999999999, 8.9776, 8.9952, 9.0128, 9.030400000000002, 9.048, 9.0656, 9.0832, 9.100800000000001, 9.118400000000001, 9.136, 9.1536, 9.1712, 9.1888, 9.2064, 9.224, 9.2416, 9.2592, 9.276800000000001, 9.294400000000001, 9.312, 9.3296, 9.3472, 9.3648, 9.3824], \"xaxis\": \"x\", \"y\": [0.28121804685936147, 0.28836878696497353, 0.29549440525615434, 0.3025850571719844, 0.3096308199187334, 0.31662172041381015, 0.323547763735256, 0.3303989619454044, 0.3371653631537975, 0.34383708068184643, 0.3504043221899947, 0.35685741862739706, 0.36318685286428837, 0.3693832878683939, 0.37543759428883033, 0.3813408773140133, 0.38708450267409145, 0.3926601216633181, 0.39805969506355104, 0.4032755158566722, 0.4083002306210816, 0.41312685951552147, 0.4177488147622251, 0.42215991755070204, 0.4263544132933075, 0.4303269851739915, 0.4340727659422038, 0.4375873479147943, 0.4408667911597213, 0.44390762984647997, 0.4467068767592013, 0.44926202597932796, 0.45157105375550344, 0.4536324175887901, 0.4554450535714145, 0.4570083720268898, 0.45832225150850875, 0.45938703122171554, 0.460203501943812, 0.4607728955215971, 0.46109687303403485, 0.4611775117126777, 0.4610172907174333, 0.46061907586926965, 0.4599861034445834, 0.45912196313828424, 0.4580305803040457, 0.45671619758078413, 0.4551833560141835, 0.45343687578104086, 0.45148183662240343, 0.4493235580889408, 0.4469675796987713, 0.44441964110412907, 0.44168566235884044, 0.4387717243736509, 0.43568404964106405, 0.4324289833056082, 0.42901297464935817, 0.42544255905622846, 0.4217243405120548, 0.41786497469086786, 0.4138711526711145, 0.4097495853189463, 0.40550698836914567, 0.40115006822783905, 0.396685508514945, 0.3921199573583052, 0.38746001544577663, 0.3827122248361959, 0.37788305852512033, 0.372978910756648, 0.3680060880684282, 0.3629708010531812, 0.35787915681676247, 0.3527371521098809, 0.3475506671082005, 0.3423254598135258, 0.33706716104724355, 0.3317812700060598, 0.3264731503493237, 0.32114802678689186, 0.31581098213648495, 0.31046695481980946, 0.30512073676734786, 0.2997769717026037, 0.294440153777704, 0.2891146265335732, 0.2838045821593759, 0.278514061027513, 0.2732469514821601, 0.2680069898611015, 0.26279776073237693, 0.2576226973290779, 0.252485082167362, 0.2473880478344835, 0.24233457793526944, 0.2373275081870111, 0.23236952765417582, 0.227463180115657, 0.22261086555844262, 0.21781484179263114, 0.21307722618358288, 0.2083999974977481, 0.20378499785927956, 0.19923393481497279, 0.1947483835053722, 0.19032978894002592, 0.18597946837490595, 0.18169861378991972, 0.17748829446423797, 0.17334945964688753, 0.1692829413196858, 0.16528945704917175, 0.1613696129237057, 0.15752390657140825, 0.15375273025406822, 0.15005637403162364, 0.14643502899128152, 0.142888790534842, 0.13941766171731518, 0.13602155662947757, 0.13270030381664885, 0.12945364972563114, 0.1262812621715126, 0.12318273381584448, 0.1201575856475979, 0.11720527045827633, 0.1143251763026089, 0.11151662993637944, 0.10877890022314811, 0.10611120150190595, 0.1035126969080488, 0.10098250164047141, 0.09851968616805956, 0.0961232793693795, 0.09379227159993973, 0.09152561768200652, 0.08932223981259552, 0.08718103038592032, 0.08510085472725407, 0.083080553735838, 0.08111894643514213, 0.07921483242945304, 0.07736699426640348, 0.07557419970567907, 0.07383520389472731, 0.07214875145284005, 0.07051357846549001, 0.0689284143912617, 0.06739198388412407, 0.06590300853415083, 0.06446020853009306, 0.0630623042474515, 0.0617080177658852, 0.060396074319920647, 0.059125203687000125, 0.057894141516928524, 0.05670163060674639, 0.05554642212497538, 0.05442727678905553, 0.05334296599962869, 0.05229227293511147, 0.05127399360976642, 0.05028693789820902, 0.04932993052899723, 0.04840181204963762, 0.04750143976501693, 0.04662768865093188, 0.04577945224404741, 0.04495564350927467, 0.04415519568521818, 0.04337706310801367, 0.042620222013555434, 0.04188367131780938, 0.04116643337461712, 0.04046755471013022, 0.03978610673276602, 0.03912118641735636, 0.03847191696196239, 0.0378374484156585, 0.037216958275447354, 0.03660965205035113, 0.03601476379063594, 0.03543155658006871, 0.03485932298906902, 0.03429738548661293, 0.03374509680876201, 0.03320184028173216, 0.032667030097479344, 0.032140111539864735, 0.0316205611595626, 0.031107886895997097, 0.030601628144729116, 0.030101355768865475, 0.029606672053224696, 0.02911721060016892, 0.02863263616619133, 0.028152644438541402, 0.027676961751364648, 0.027205344741035184, 0.026737579940563805, 0.026273483313171492, 0.02581289972532495, 0.025355702359741394, 0.024901792069075907, 0.024451096671212466, 0.024003570187285092, 0.023559192023758058, 0.02311796610009354, 0.022679919923733464, 0.022245103614314258, 0.021813588879223095, 0.021385467942790632, 0.02096085243159409, 0.020539872218523828, 0.020122674228434747, 0.019709421208372595, 0.01930029046552453, 0.01889547257619776, 0.018495170069278963, 0.018099596087767695, 0.017708973032110928, 0.01732353118919215, 0.016943507350944503, 0.016569143426665985, 0.016200685053211178, 0.015838380207321156, 0.015482477824426914, 0.0151332264283234, 0.014790872776159028, 0.014455660523218523, 0.014127828911993856, 0.013807611490039125, 0.01349523486108727, 0.01319091747387221, 0.012894868453042945, 0.012607286476483072, 0.01232835870325112, 0.012058259756240142, 0.011797150763515219, 0.011545178462124737, 0.011302474367996071, 0.011069154015319285, 0.01084531626858996, 0.010631042710230803, 0.010426397106434372, 0.010231424953573138, 0.010046153107204766, 0.009870589495362065, 0.009704722917461753, 0.009548522929790745, 0.00940193981814062, 0.009264904657756659, 0.009137329460352756, 0.00901910740751858, 0.008910113169412894, 0.008810203307199227, 0.00871921675724138, 0.008636975394636282, 0.008563284673227322, 0.00849793433881123, 0.008440699211833295, 0.008391340035458347, 0.00834960438451453, 0.008315227630435443, 0.008287933956976376, 0.008267437421156487, 0.008253443053583078, 0.008245647992049236, 0.008243742642065, 0.008247411857788626, 0.008256336136668296, 0.008270192820990011, 0.008288657299455996, 0.008311404201889874, 0.008338108580182808, 0.008368447068659997, 0.008402099017157397, 0.008438747590258316, 0.008478080826344702, 0.00851979265037046, 0.008563583834561926, 0.008609162901592471, 0.008656246965161854, 0.008704562503335808, 0.008753846060462108, 0.008803844873975977, 0.008854317422934455, 0.008905033895674267, 0.0089557765745652, 0.009006340136429019, 0.009056531867804873, 0.009106171794864568, 0.009155092728407052, 0.009203140224988748, 0.009250172465866938, 0.009296060056044804, 0.009340685746301645, 0.009383944081666644, 0.009425740980343319, 0.009465993247609784, 0.00950462802970375, 0.00954158221314389, 0.00957680177533988, 0.009610241092695558, 0.009641862212711549, 0.009671634096842218, 0.009699531841054057, 0.009725535881166775, 0.009749631190133425, 0.009771806474430747, 0.009792053376684913, 0.009810365691551024, 0.009826738601700129, 0.009841167940541906, 0.009853649488032015, 0.009864178305578128, 0.009872748115673803, 0.009879350731456668, 0.00988397554091122, 0.009886609049921497, 0.009887234487828704, 0.009885831478570115, 0.009882375779871931, 0.009876839092347382, 0.009869188939716689, 0.009859388620723974, 0.00984739723268415, 0.009833169765955064, 0.00981665726800375, 0.009797807075125533, 0.009776563109286427, 0.009752866236999135, 0.009726654686614166, 0.009697864519917002, 0.00966643015347204, 0.00963228492474983, 0.009595361697718255, 0.009555593502273836, 0.00951291420163898, 0.009467259181656255, 0.009418566055773065, 0.009366775379429737, 0.0093118313675418, 0.00925368260880196, 0.0091922827706183, 0.009127591288650937, 0.00905957403510764, 0.008988203960206937, 0.008913461701512327, 0.008835336156179804, 0.008753825011538312, 0.008668935229836597, 0.008580683483433263, 0.008489096537177313, 0.008394211575217215, 0.008296076469983598, 0.008194749991608881, 0.008090301956570208, 0.007982813314866579, 0.00787237617556026, 0.007759093771022603, 0.007643080360720371, 0.007524461075855051, 0.007403371706622271, 0.007279958434284693, 0.007154377510648483, 0.007026794887896139, 0.006897385802053945, 0.006766334313659973, 0.006633832809444187, 0.006500081469036055, 0.006365287700875701, 0.006229665551620287, 0.006093435093410349, 0.005956821793388664, 0.0058200558698503595, 0.005683371639346545, 0.0055470068589674555, 0.005411202067897084, 0.0052761999321605385, 0.005142244596282494, 0.005009581045341195, 0.00487845448064188, 0.00474910971194908, 0.004621790568912681, 0.004496739334001777, 0.004374196198926257, 0.004254398746183779, 0.004137581457021756, 0.004023975246755095, 0.003913807028033858, 0.0038072993023143494, 0.003704669779456312, 0.0036061310250506875, 0.003511890134780567, 0.003422148434834488, 0.0033371012071300656, 0.003256937437868093, 0.0031818395877260372, 0.0031119833818161295, 0.00304753761737935, 0.0029886639870630605, 0.0029355169155379696, 0.002888243407150295, 0.002846982902277103, 0.0028118671400572818, 0.0027830200252067228, 0.0027605574966932133, 0.0027445873961437833, 0.0027352093339827696, 0.002732514551451773, 0.0027365857768407464, 0.0027474970744607668, 0.002765313685111476, 0.0027900918570371042, 0.002821878666622027, 0.0028607118283470166, 0.002906619493808295, 0.002959620039889608, 0.003019721846470785, 0.003086923064350568, 0.003161211374354811, 0.003242563738889891, 0.0033309461474826454, 0.0034263133581193196, 0.0035286086364545418, 0.0036377634952033523, 0.0037536974362546516, 0.003876317698247011, 0.004005519012530231, 0.004141183370590925, 0.004283179806151089, 0.0044313641952493325, 0.004585579077686803, 0.004745653503260772, 0.00491140290621891, 0.005082629011344485, 0.005259119775028828, 0.005440649364598803, 0.005626978179049505, 0.005817852914179272, 0.006013006674943442, 0.006212159137630167, 0.006415016764221247, 0.006621273071032572, 0.006830608953435552, 0.007042693068143498, 0.007257182274208903, 0.0074737221335205535, 0.007691947471215075, 0.007911482996030918, 0.008131943980234415, 0.00835293699834117, 0.008574060723445505, 0.008794906779557694, 0.009015060647937376, 0.009234102625004927, 0.009451608829012973, 0.00966715225227243, 0.009880303855352525, 0.010090633699317201, 0.010297712111721766, 0.010501110881779439, 0.010700404479816022, 0.010895171295869503, 0.011084994892057849, 0.01126946526313793, 0.011448180099510744, 0.01162074604679655, 0.011786779956008258, 0.01194591011829262, 0.01209777747819093, 0.012242036819388756, 0.012378357916984056, 0.012506426650399515, 0.012625946071201611, 0.012736637420262832, 0.01283824108891424, 0.012930517518982294, 0.013013248036885198, 0.013086235617276582, 0.013149305572069206, 0.01320230616104247, 0.013245109120636119, 0.01327761010795293, 0.013299729057434725, 0.013311410448134643, 0.013312623479981396, 0.013303362157914948, 0.013283645283265162, 0.013253516352240513, 0.013213043361891469, 0.013162318524407845, 0.013101457891098593, 0.013030600887882961, 0.012949909764589923, 0.01285956896081577, 0.012759784391524398], \"yaxis\": \"y\"}, {\"legendgroup\": \"No Heart Failure\", \"marker\": {\"color\": \"rgb(31, 119, 180)\", \"symbol\": \"line-ns-open\"}, \"mode\": \"markers\", \"name\": \"No Heart Failure\", \"showlegend\": false, \"type\": \"scatter\", \"x\": [1.0, 1.3, 0.8, 1.2, 2.3, 1.0, 2.7, 0.6, 1.1, 1.18, 0.8, 0.9, 1.3, 0.8, 1.2, 0.6, 0.9, 1.7, 1.18, 1.8, 0.7, 1.1, 0.8, 0.7, 1.1, 0.8, 1.0, 1.18, 0.7, 1.0, 1.3, 1.1, 1.2, 1.1, 1.1, 1.18, 1.1, 1.0, 2.3, 1.3, 0.9, 1.1, 1.3, 1.2, 1.6, 1.2, 1.0, 0.7, 3.2, 0.9, 1.5, 1.0, 0.75, 0.9, 1.3, 0.8, 0.7, 3.4, 0.7, 6.1, 1.18, 1.3, 1.18, 1.18, 0.9, 2.1, 1.0, 0.8, 0.9, 0.9, 0.9, 0.7, 0.7, 1.0, 0.9, 0.9, 0.9, 1.18, 0.8, 1.7, 1.4, 1.0, 1.3, 1.1, 1.2, 0.8, 0.9, 0.7, 1.0, 0.8, 1.5, 0.9, 1.1, 0.8, 0.9, 1.0, 1.0, 1.0, 1.2, 0.7, 0.9, 1.0, 0.9, 2.1, 1.5, 0.7, 1.18, 1.18, 0.8, 1.0, 1.8, 0.7, 1.0, 0.9, 3.5, 0.7, 1.0, 0.8, 0.9, 1.0, 0.8, 1.0, 0.8, 1.4, 0.8, 1.3, 0.9, 1.1, 0.7, 1.1, 1.1, 0.8, 1.0, 1.4, 1.3, 1.0, 5.0, 1.2, 1.1, 0.9, 1.4, 1.1, 1.1, 1.1, 1.2, 1.0, 1.18, 1.3, 1.3, 1.1, 0.9, 1.8, 1.4, 2.4, 1.0, 1.2, 0.5, 0.8, 1.0, 1.2, 1.0, 1.0, 1.7, 1.0, 0.8, 0.7, 1.0, 0.7, 1.0, 1.2, 0.9, 1.7, 0.9, 1.0, 1.6, 0.9, 1.2, 0.7, 1.0, 0.8, 1.1, 1.1, 0.7, 1.3, 1.0, 2.7, 3.8, 1.1, 0.8, 1.2, 1.7, 1.0, 1.1, 0.9, 0.8, 1.4, 1.0, 0.9, 1.1, 1.2, 0.8, 1.4, 1.6], \"xaxis\": \"x\", \"y\": [\"No Heart Failure\", \"No Heart Failure\", \"No Heart Failure\", \"No Heart Failure\", \"No Heart Failure\", \"No Heart Failure\", \"No Heart Failure\", \"No Heart Failure\", \"No Heart Failure\", \"No Heart Failure\", \"No Heart Failure\", \"No Heart Failure\", \"No Heart Failure\", \"No Heart Failure\", \"No Heart Failure\", \"No Heart Failure\", \"No Heart Failure\", \"No Heart Failure\", \"No Heart Failure\", \"No Heart Failure\", \"No Heart Failure\", \"No Heart Failure\", \"No Heart Failure\", \"No Heart Failure\", \"No Heart Failure\", \"No Heart Failure\", \"No Heart Failure\", \"No Heart Failure\", \"No Heart Failure\", \"No Heart Failure\", \"No Heart Failure\", \"No Heart Failure\", \"No Heart Failure\", \"No Heart Failure\", \"No Heart Failure\", \"No Heart Failure\", \"No Heart Failure\", \"No Heart Failure\", \"No Heart Failure\", \"No Heart Failure\", \"No Heart Failure\", \"No Heart Failure\", \"No Heart Failure\", \"No Heart Failure\", \"No Heart Failure\", \"No Heart Failure\", \"No Heart Failure\", \"No Heart Failure\", \"No Heart Failure\", \"No Heart Failure\", \"No Heart Failure\", \"No Heart Failure\", \"No Heart Failure\", \"No Heart Failure\", \"No Heart Failure\", \"No Heart Failure\", \"No Heart Failure\", \"No Heart Failure\", \"No Heart Failure\", \"No Heart Failure\", \"No Heart Failure\", \"No Heart Failure\", \"No Heart Failure\", \"No Heart Failure\", \"No Heart Failure\", \"No Heart Failure\", \"No Heart Failure\", \"No Heart Failure\", \"No Heart Failure\", \"No Heart Failure\", \"No Heart Failure\", \"No Heart Failure\", \"No Heart Failure\", \"No Heart Failure\", \"No Heart Failure\", \"No Heart Failure\", \"No Heart Failure\", \"No Heart Failure\", \"No Heart Failure\", \"No Heart Failure\", \"No Heart Failure\", \"No Heart Failure\", \"No Heart Failure\", \"No Heart Failure\", \"No Heart Failure\", \"No Heart Failure\", \"No Heart Failure\", \"No Heart Failure\", \"No Heart Failure\", \"No Heart Failure\", \"No Heart Failure\", \"No Heart Failure\", \"No Heart Failure\", \"No Heart Failure\", \"No Heart Failure\", \"No Heart Failure\", \"No Heart Failure\", \"No Heart Failure\", \"No Heart Failure\", \"No Heart Failure\", \"No Heart Failure\", \"No Heart Failure\", \"No Heart Failure\", \"No Heart Failure\", \"No Heart Failure\", \"No Heart Failure\", \"No Heart Failure\", \"No Heart Failure\", \"No Heart Failure\", \"No Heart Failure\", \"No Heart Failure\", \"No Heart Failure\", \"No Heart Failure\", \"No Heart Failure\", \"No Heart Failure\", \"No Heart Failure\", \"No Heart Failure\", \"No Heart Failure\", \"No Heart Failure\", \"No Heart Failure\", \"No Heart Failure\", \"No Heart Failure\", \"No Heart Failure\", \"No Heart Failure\", \"No Heart Failure\", \"No Heart Failure\", \"No Heart Failure\", \"No Heart Failure\", \"No Heart Failure\", \"No Heart Failure\", \"No Heart Failure\", \"No Heart Failure\", \"No Heart Failure\", \"No Heart Failure\", \"No Heart Failure\", \"No Heart Failure\", \"No Heart Failure\", \"No Heart Failure\", \"No Heart Failure\", \"No Heart Failure\", \"No Heart Failure\", \"No Heart Failure\", \"No Heart Failure\", \"No Heart Failure\", \"No Heart Failure\", \"No Heart Failure\", \"No Heart Failure\", \"No Heart Failure\", \"No Heart Failure\", \"No Heart Failure\", \"No Heart Failure\", \"No Heart Failure\", \"No Heart Failure\", \"No Heart Failure\", \"No Heart Failure\", \"No Heart Failure\", \"No Heart Failure\", \"No Heart Failure\", \"No Heart Failure\", \"No Heart Failure\", \"No Heart Failure\", \"No Heart Failure\", \"No Heart Failure\", \"No Heart Failure\", \"No Heart Failure\", \"No Heart Failure\", \"No Heart Failure\", \"No Heart Failure\", \"No Heart Failure\", \"No Heart Failure\", \"No Heart Failure\", \"No Heart Failure\", \"No Heart Failure\", \"No Heart Failure\", \"No Heart Failure\", \"No Heart Failure\", \"No Heart Failure\", \"No Heart Failure\", \"No Heart Failure\", \"No Heart Failure\", \"No Heart Failure\", \"No Heart Failure\", \"No Heart Failure\", \"No Heart Failure\", \"No Heart Failure\", \"No Heart Failure\", \"No Heart Failure\", \"No Heart Failure\", \"No Heart Failure\", \"No Heart Failure\", \"No Heart Failure\", \"No Heart Failure\", \"No Heart Failure\", \"No Heart Failure\", \"No Heart Failure\", \"No Heart Failure\", \"No Heart Failure\", \"No Heart Failure\", \"No Heart Failure\", \"No Heart Failure\", \"No Heart Failure\", \"No Heart Failure\", \"No Heart Failure\"], \"yaxis\": \"y2\"}, {\"legendgroup\": \"Heart Failure\", \"marker\": {\"color\": \"rgb(255, 127, 14)\", \"symbol\": \"line-ns-open\"}, \"mode\": \"markers\", \"name\": \"Heart Failure\", \"showlegend\": false, \"type\": \"scatter\", \"x\": [1.9, 1.1, 1.3, 1.9, 2.7, 2.1, 1.2, 1.1, 1.5, 9.4, 4.0, 0.9, 1.1, 1.1, 1.3, 0.9, 0.8, 1.0, 1.9, 1.6, 0.9, 1.83, 1.9, 1.0, 1.3, 5.8, 1.2, 1.83, 3.0, 1.0, 1.0, 3.5, 1.0, 1.0, 3.0, 1.83, 1.2, 1.2, 1.1, 1.9, 0.9, 0.6, 4.4, 1.0, 1.0, 1.4, 6.8, 1.0, 2.2, 2.0, 1.1, 1.3, 1.0, 2.3, 1.0, 2.9, 1.3, 1.0, 1.2, 1.83, 1.0, 1.2, 0.7, 2.5, 1.0, 1.7, 1.7, 1.2, 1.3, 1.83, 3.7, 2.1, 1.1, 1.7, 1.83, 2.5, 0.9, 1.1, 1.3, 2.4, 1.0, 1.2, 2.5, 1.2, 1.5, 0.6, 2.1, 1.6, 1.8, 1.6, 9.0, 1.83, 1.7, 1.1, 1.4, 1.83], \"xaxis\": \"x\", \"y\": [\"Heart Failure\", \"Heart Failure\", \"Heart Failure\", \"Heart Failure\", \"Heart Failure\", \"Heart Failure\", \"Heart Failure\", \"Heart Failure\", \"Heart Failure\", \"Heart Failure\", \"Heart Failure\", \"Heart Failure\", \"Heart Failure\", \"Heart Failure\", \"Heart Failure\", \"Heart Failure\", \"Heart Failure\", \"Heart Failure\", \"Heart Failure\", \"Heart Failure\", \"Heart Failure\", \"Heart Failure\", \"Heart Failure\", \"Heart Failure\", \"Heart Failure\", \"Heart Failure\", \"Heart Failure\", \"Heart Failure\", \"Heart Failure\", \"Heart Failure\", \"Heart Failure\", \"Heart Failure\", \"Heart Failure\", \"Heart Failure\", \"Heart Failure\", \"Heart Failure\", \"Heart Failure\", \"Heart Failure\", \"Heart Failure\", \"Heart Failure\", \"Heart Failure\", \"Heart Failure\", \"Heart Failure\", \"Heart Failure\", \"Heart Failure\", \"Heart Failure\", \"Heart Failure\", \"Heart Failure\", \"Heart Failure\", \"Heart Failure\", \"Heart Failure\", \"Heart Failure\", \"Heart Failure\", \"Heart Failure\", \"Heart Failure\", \"Heart Failure\", \"Heart Failure\", \"Heart Failure\", \"Heart Failure\", \"Heart Failure\", \"Heart Failure\", \"Heart Failure\", \"Heart Failure\", \"Heart Failure\", \"Heart Failure\", \"Heart Failure\", \"Heart Failure\", \"Heart Failure\", \"Heart Failure\", \"Heart Failure\", \"Heart Failure\", \"Heart Failure\", \"Heart Failure\", \"Heart Failure\", \"Heart Failure\", \"Heart Failure\", \"Heart Failure\", \"Heart Failure\", \"Heart Failure\", \"Heart Failure\", \"Heart Failure\", \"Heart Failure\", \"Heart Failure\", \"Heart Failure\", \"Heart Failure\", \"Heart Failure\", \"Heart Failure\", \"Heart Failure\", \"Heart Failure\", \"Heart Failure\", \"Heart Failure\", \"Heart Failure\", \"Heart Failure\", \"Heart Failure\", \"Heart Failure\", \"Heart Failure\"], \"yaxis\": \"y2\"}],\n",
              "                        {\"barmode\": \"overlay\", \"hovermode\": \"closest\", \"legend\": {\"traceorder\": \"reversed\"}, \"template\": {\"data\": {\"bar\": [{\"error_x\": {\"color\": \"#2a3f5f\"}, \"error_y\": {\"color\": \"#2a3f5f\"}, \"marker\": {\"line\": {\"color\": \"#E5ECF6\", \"width\": 0.5}}, \"type\": \"bar\"}], \"barpolar\": [{\"marker\": {\"line\": {\"color\": \"#E5ECF6\", \"width\": 0.5}}, \"type\": \"barpolar\"}], \"carpet\": [{\"aaxis\": {\"endlinecolor\": \"#2a3f5f\", \"gridcolor\": \"white\", \"linecolor\": \"white\", \"minorgridcolor\": \"white\", \"startlinecolor\": \"#2a3f5f\"}, \"baxis\": {\"endlinecolor\": \"#2a3f5f\", \"gridcolor\": \"white\", \"linecolor\": \"white\", \"minorgridcolor\": \"white\", \"startlinecolor\": \"#2a3f5f\"}, \"type\": \"carpet\"}], \"choropleth\": [{\"colorbar\": {\"outlinewidth\": 0, \"ticks\": \"\"}, \"type\": \"choropleth\"}], \"contour\": [{\"colorbar\": {\"outlinewidth\": 0, \"ticks\": \"\"}, \"colorscale\": [[0.0, \"#0d0887\"], [0.1111111111111111, \"#46039f\"], [0.2222222222222222, \"#7201a8\"], [0.3333333333333333, \"#9c179e\"], [0.4444444444444444, \"#bd3786\"], [0.5555555555555556, \"#d8576b\"], [0.6666666666666666, \"#ed7953\"], [0.7777777777777778, \"#fb9f3a\"], [0.8888888888888888, \"#fdca26\"], [1.0, \"#f0f921\"]], \"type\": \"contour\"}], \"contourcarpet\": [{\"colorbar\": {\"outlinewidth\": 0, \"ticks\": \"\"}, \"type\": \"contourcarpet\"}], \"heatmap\": [{\"colorbar\": {\"outlinewidth\": 0, \"ticks\": \"\"}, \"colorscale\": [[0.0, \"#0d0887\"], [0.1111111111111111, \"#46039f\"], [0.2222222222222222, \"#7201a8\"], [0.3333333333333333, \"#9c179e\"], [0.4444444444444444, \"#bd3786\"], [0.5555555555555556, \"#d8576b\"], [0.6666666666666666, \"#ed7953\"], [0.7777777777777778, \"#fb9f3a\"], [0.8888888888888888, \"#fdca26\"], [1.0, \"#f0f921\"]], \"type\": \"heatmap\"}], \"heatmapgl\": [{\"colorbar\": {\"outlinewidth\": 0, \"ticks\": \"\"}, \"colorscale\": [[0.0, \"#0d0887\"], [0.1111111111111111, \"#46039f\"], [0.2222222222222222, \"#7201a8\"], [0.3333333333333333, \"#9c179e\"], [0.4444444444444444, \"#bd3786\"], [0.5555555555555556, \"#d8576b\"], [0.6666666666666666, \"#ed7953\"], [0.7777777777777778, \"#fb9f3a\"], [0.8888888888888888, \"#fdca26\"], [1.0, \"#f0f921\"]], \"type\": \"heatmapgl\"}], \"histogram\": [{\"marker\": {\"colorbar\": {\"outlinewidth\": 0, \"ticks\": \"\"}}, \"type\": \"histogram\"}], \"histogram2d\": [{\"colorbar\": {\"outlinewidth\": 0, \"ticks\": \"\"}, \"colorscale\": [[0.0, \"#0d0887\"], [0.1111111111111111, \"#46039f\"], [0.2222222222222222, \"#7201a8\"], [0.3333333333333333, \"#9c179e\"], [0.4444444444444444, \"#bd3786\"], [0.5555555555555556, \"#d8576b\"], [0.6666666666666666, \"#ed7953\"], [0.7777777777777778, \"#fb9f3a\"], [0.8888888888888888, \"#fdca26\"], [1.0, \"#f0f921\"]], \"type\": \"histogram2d\"}], \"histogram2dcontour\": [{\"colorbar\": {\"outlinewidth\": 0, \"ticks\": \"\"}, \"colorscale\": [[0.0, \"#0d0887\"], [0.1111111111111111, \"#46039f\"], [0.2222222222222222, \"#7201a8\"], [0.3333333333333333, \"#9c179e\"], [0.4444444444444444, \"#bd3786\"], [0.5555555555555556, \"#d8576b\"], [0.6666666666666666, \"#ed7953\"], [0.7777777777777778, \"#fb9f3a\"], [0.8888888888888888, \"#fdca26\"], [1.0, \"#f0f921\"]], \"type\": \"histogram2dcontour\"}], \"mesh3d\": [{\"colorbar\": {\"outlinewidth\": 0, \"ticks\": \"\"}, \"type\": \"mesh3d\"}], \"parcoords\": [{\"line\": {\"colorbar\": {\"outlinewidth\": 0, \"ticks\": \"\"}}, \"type\": \"parcoords\"}], \"pie\": [{\"automargin\": true, \"type\": \"pie\"}], \"scatter\": [{\"marker\": {\"colorbar\": {\"outlinewidth\": 0, \"ticks\": \"\"}}, \"type\": \"scatter\"}], \"scatter3d\": [{\"line\": {\"colorbar\": {\"outlinewidth\": 0, \"ticks\": \"\"}}, \"marker\": {\"colorbar\": {\"outlinewidth\": 0, \"ticks\": \"\"}}, \"type\": \"scatter3d\"}], \"scattercarpet\": [{\"marker\": {\"colorbar\": {\"outlinewidth\": 0, \"ticks\": \"\"}}, \"type\": \"scattercarpet\"}], \"scattergeo\": [{\"marker\": {\"colorbar\": {\"outlinewidth\": 0, \"ticks\": \"\"}}, \"type\": \"scattergeo\"}], \"scattergl\": [{\"marker\": {\"colorbar\": {\"outlinewidth\": 0, \"ticks\": \"\"}}, \"type\": \"scattergl\"}], \"scattermapbox\": [{\"marker\": {\"colorbar\": {\"outlinewidth\": 0, \"ticks\": \"\"}}, \"type\": \"scattermapbox\"}], \"scatterpolar\": [{\"marker\": {\"colorbar\": {\"outlinewidth\": 0, \"ticks\": \"\"}}, \"type\": \"scatterpolar\"}], \"scatterpolargl\": [{\"marker\": {\"colorbar\": {\"outlinewidth\": 0, \"ticks\": \"\"}}, \"type\": \"scatterpolargl\"}], \"scatterternary\": [{\"marker\": {\"colorbar\": {\"outlinewidth\": 0, \"ticks\": \"\"}}, \"type\": \"scatterternary\"}], \"surface\": [{\"colorbar\": {\"outlinewidth\": 0, \"ticks\": \"\"}, \"colorscale\": [[0.0, \"#0d0887\"], [0.1111111111111111, \"#46039f\"], [0.2222222222222222, \"#7201a8\"], [0.3333333333333333, \"#9c179e\"], [0.4444444444444444, \"#bd3786\"], [0.5555555555555556, \"#d8576b\"], [0.6666666666666666, \"#ed7953\"], [0.7777777777777778, \"#fb9f3a\"], [0.8888888888888888, \"#fdca26\"], [1.0, \"#f0f921\"]], \"type\": \"surface\"}], \"table\": [{\"cells\": {\"fill\": {\"color\": \"#EBF0F8\"}, \"line\": {\"color\": \"white\"}}, \"header\": {\"fill\": {\"color\": \"#C8D4E3\"}, \"line\": {\"color\": \"white\"}}, \"type\": \"table\"}]}, \"layout\": {\"annotationdefaults\": {\"arrowcolor\": \"#2a3f5f\", \"arrowhead\": 0, \"arrowwidth\": 1}, \"coloraxis\": {\"colorbar\": {\"outlinewidth\": 0, \"ticks\": \"\"}}, \"colorscale\": {\"diverging\": [[0, \"#8e0152\"], [0.1, \"#c51b7d\"], [0.2, \"#de77ae\"], [0.3, \"#f1b6da\"], [0.4, \"#fde0ef\"], [0.5, \"#f7f7f7\"], [0.6, \"#e6f5d0\"], [0.7, \"#b8e186\"], [0.8, \"#7fbc41\"], [0.9, \"#4d9221\"], [1, \"#276419\"]], \"sequential\": [[0.0, \"#0d0887\"], [0.1111111111111111, \"#46039f\"], [0.2222222222222222, \"#7201a8\"], [0.3333333333333333, \"#9c179e\"], [0.4444444444444444, \"#bd3786\"], [0.5555555555555556, \"#d8576b\"], [0.6666666666666666, \"#ed7953\"], [0.7777777777777778, \"#fb9f3a\"], [0.8888888888888888, \"#fdca26\"], [1.0, \"#f0f921\"]], \"sequentialminus\": [[0.0, \"#0d0887\"], [0.1111111111111111, \"#46039f\"], [0.2222222222222222, \"#7201a8\"], [0.3333333333333333, \"#9c179e\"], [0.4444444444444444, \"#bd3786\"], [0.5555555555555556, \"#d8576b\"], [0.6666666666666666, \"#ed7953\"], [0.7777777777777778, \"#fb9f3a\"], [0.8888888888888888, \"#fdca26\"], [1.0, \"#f0f921\"]]}, \"colorway\": [\"#636efa\", \"#EF553B\", \"#00cc96\", \"#ab63fa\", \"#FFA15A\", \"#19d3f3\", \"#FF6692\", \"#B6E880\", \"#FF97FF\", \"#FECB52\"], \"font\": {\"color\": \"#2a3f5f\"}, \"geo\": {\"bgcolor\": \"white\", \"lakecolor\": \"white\", \"landcolor\": \"#E5ECF6\", \"showlakes\": true, \"showland\": true, \"subunitcolor\": \"white\"}, \"hoverlabel\": {\"align\": \"left\"}, \"hovermode\": \"closest\", \"mapbox\": {\"style\": \"light\"}, \"paper_bgcolor\": \"white\", \"plot_bgcolor\": \"#E5ECF6\", \"polar\": {\"angularaxis\": {\"gridcolor\": \"white\", \"linecolor\": \"white\", \"ticks\": \"\"}, \"bgcolor\": \"#E5ECF6\", \"radialaxis\": {\"gridcolor\": \"white\", \"linecolor\": \"white\", \"ticks\": \"\"}}, \"scene\": {\"xaxis\": {\"backgroundcolor\": \"#E5ECF6\", \"gridcolor\": \"white\", \"gridwidth\": 2, \"linecolor\": \"white\", \"showbackground\": true, \"ticks\": \"\", \"zerolinecolor\": \"white\"}, \"yaxis\": {\"backgroundcolor\": \"#E5ECF6\", \"gridcolor\": \"white\", \"gridwidth\": 2, \"linecolor\": \"white\", \"showbackground\": true, \"ticks\": \"\", \"zerolinecolor\": \"white\"}, \"zaxis\": {\"backgroundcolor\": \"#E5ECF6\", \"gridcolor\": \"white\", \"gridwidth\": 2, \"linecolor\": \"white\", \"showbackground\": true, \"ticks\": \"\", \"zerolinecolor\": \"white\"}}, \"shapedefaults\": {\"line\": {\"color\": \"#2a3f5f\"}}, \"ternary\": {\"aaxis\": {\"gridcolor\": \"white\", \"linecolor\": \"white\", \"ticks\": \"\"}, \"baxis\": {\"gridcolor\": \"white\", \"linecolor\": \"white\", \"ticks\": \"\"}, \"bgcolor\": \"#E5ECF6\", \"caxis\": {\"gridcolor\": \"white\", \"linecolor\": \"white\", \"ticks\": \"\"}}, \"title\": {\"x\": 0.05}, \"xaxis\": {\"automargin\": true, \"gridcolor\": \"white\", \"linecolor\": \"white\", \"ticks\": \"\", \"title\": {\"standoff\": 15}, \"zerolinecolor\": \"white\", \"zerolinewidth\": 2}, \"yaxis\": {\"automargin\": true, \"gridcolor\": \"white\", \"linecolor\": \"white\", \"ticks\": \"\", \"title\": {\"standoff\": 15}, \"zerolinecolor\": \"white\", \"zerolinewidth\": 2}}}, \"title\": {\"text\": \"Serum Creatinine on Heart Failure Survival\"}, \"xaxis\": {\"anchor\": \"y2\", \"domain\": [0.0, 1.0], \"zeroline\": false}, \"yaxis\": {\"anchor\": \"free\", \"domain\": [0.35, 1], \"position\": 0.0}, \"yaxis2\": {\"anchor\": \"x\", \"domain\": [0, 0.25], \"dtick\": 1, \"showticklabels\": false}},\n",
              "                        {\"responsive\": true}\n",
              "                    ).then(function(){\n",
              "                            \n",
              "var gd = document.getElementById('b415044b-eac0-4ed0-9e26-2fb1aaa3d9ef');\n",
              "var x = new MutationObserver(function (mutations, observer) {{\n",
              "        var display = window.getComputedStyle(gd).display;\n",
              "        if (!display || display === 'none') {{\n",
              "            console.log([gd, 'removed!']);\n",
              "            Plotly.purge(gd);\n",
              "            observer.disconnect();\n",
              "        }}\n",
              "}});\n",
              "\n",
              "// Listen for the removal of the full notebook cells\n",
              "var notebookContainer = gd.closest('#notebook-container');\n",
              "if (notebookContainer) {{\n",
              "    x.observe(notebookContainer, {childList: true});\n",
              "}}\n",
              "\n",
              "// Listen for the clearing of the current output cell\n",
              "var outputEl = gd.closest('.output');\n",
              "if (outputEl) {{\n",
              "    x.observe(outputEl, {childList: true});\n",
              "}}\n",
              "\n",
              "                        })\n",
              "                };\n",
              "                \n",
              "            </script>\n",
              "        </div>\n",
              "</body>\n",
              "</html>"
            ]
          },
          "metadata": {
            "tags": []
          }
        }
      ]
    },
    {
      "cell_type": "markdown",
      "metadata": {
        "id": "-T4-TL909XSY"
      },
      "source": [
        "It seems that an increase in serum creatinine relates closely with the increased chance of heart failure for the patients."
      ]
    },
    {
      "cell_type": "markdown",
      "metadata": {
        "id": "UIsielGdFamj"
      },
      "source": [
        "-------------------------"
      ]
    },
    {
      "cell_type": "markdown",
      "metadata": {
        "id": "2zv5FsbY-GQg"
      },
      "source": [
        "Finally, let's see how some categorical variables could potentially impact this, such as anaemia."
      ]
    },
    {
      "cell_type": "code",
      "metadata": {
        "colab": {
          "base_uri": "https://localhost:8080/"
        },
        "id": "K2LxsUNps3NW",
        "outputId": "fe56cb22-5635-45d3-92ac-eb808da7a307"
      },
      "source": [
        "base_ratio = hf['DEATH_EVENT'].value_counts(normalize=True)*100\n",
        "print(\"Percentage of patients with no heart failure: \" + str(round(base_ratio[0], 2)))\n",
        "print(\"Percentage of patients with heart failure: \" + str(round(base_ratio[1], 2)) + '\\n')\n",
        "\n",
        "anaemia = hf[(hf['anaemia'] == 1)]\n",
        "anaemia = anaemia['DEATH_EVENT'].value_counts(normalize=True)*100\n",
        "print(\"Percentage of patients with anaemia and no heart failure: \" + str(round(anaemia[0], 2)))\n",
        "print(\"Percentage of patients with anaemia and heart failure: \" + str(round(anaemia[1], 2)) + '\\n')\n",
        "\n",
        "no_anaemia = hf[(hf['anaemia'] == 0)]\n",
        "no_anaemia = no_anaemia['DEATH_EVENT'].value_counts(normalize=True)*100\n",
        "print(\"Percentage of patients with no anaemia and no heart failure: \" + str(round(no_anaemia[0], 2)))\n",
        "print(\"Percentage of patients with no anaemia and heart failure: \" + str(round(no_anaemia[1], 2)))"
      ],
      "execution_count": null,
      "outputs": [
        {
          "output_type": "stream",
          "text": [
            "Percentage of patients with no heart failure: 67.89\n",
            "Percentage of patients with heart failure: 32.11\n",
            "\n",
            "Percentage of patients with anaemia and no heart failure: 64.34\n",
            "Percentage of patients with anaemia and heart failure: 35.66\n",
            "\n",
            "Percentage of patients with no anaemia and no heart failure: 70.59\n",
            "Percentage of patients with no anaemia and heart failure: 29.41\n"
          ],
          "name": "stdout"
        }
      ]
    },
    {
      "cell_type": "markdown",
      "metadata": {
        "id": "_uDiA7vy-UaV"
      },
      "source": [
        "The data we've found here seems to make sense, as anemia is a condition where you have a deficiency in red blood cells."
      ]
    },
    {
      "cell_type": "code",
      "metadata": {
        "id": "fXe4d_ZkPOwb",
        "colab": {
          "base_uri": "https://localhost:8080/",
          "height": 439
        },
        "outputId": "577b70bd-cabb-4545-955c-bb45f396231b"
      },
      "source": [
        "hf"
      ],
      "execution_count": null,
      "outputs": [
        {
          "output_type": "execute_result",
          "data": {
            "text/html": [
              "<div>\n",
              "<style scoped>\n",
              "    .dataframe tbody tr th:only-of-type {\n",
              "        vertical-align: middle;\n",
              "    }\n",
              "\n",
              "    .dataframe tbody tr th {\n",
              "        vertical-align: top;\n",
              "    }\n",
              "\n",
              "    .dataframe thead th {\n",
              "        text-align: right;\n",
              "    }\n",
              "</style>\n",
              "<table border=\"1\" class=\"dataframe\">\n",
              "  <thead>\n",
              "    <tr style=\"text-align: right;\">\n",
              "      <th></th>\n",
              "      <th>age</th>\n",
              "      <th>anaemia</th>\n",
              "      <th>creatinine_phosphokinase</th>\n",
              "      <th>diabetes</th>\n",
              "      <th>ejection_fraction</th>\n",
              "      <th>high_blood_pressure</th>\n",
              "      <th>platelets</th>\n",
              "      <th>serum_creatinine</th>\n",
              "      <th>serum_sodium</th>\n",
              "      <th>sex</th>\n",
              "      <th>smoking</th>\n",
              "      <th>time</th>\n",
              "      <th>DEATH_EVENT</th>\n",
              "    </tr>\n",
              "  </thead>\n",
              "  <tbody>\n",
              "    <tr>\n",
              "      <th>0</th>\n",
              "      <td>75.0</td>\n",
              "      <td>0</td>\n",
              "      <td>582</td>\n",
              "      <td>0</td>\n",
              "      <td>20</td>\n",
              "      <td>1</td>\n",
              "      <td>265000.00</td>\n",
              "      <td>1.9</td>\n",
              "      <td>130</td>\n",
              "      <td>1</td>\n",
              "      <td>0</td>\n",
              "      <td>4</td>\n",
              "      <td>1</td>\n",
              "    </tr>\n",
              "    <tr>\n",
              "      <th>1</th>\n",
              "      <td>55.0</td>\n",
              "      <td>0</td>\n",
              "      <td>7861</td>\n",
              "      <td>0</td>\n",
              "      <td>38</td>\n",
              "      <td>0</td>\n",
              "      <td>263358.03</td>\n",
              "      <td>1.1</td>\n",
              "      <td>136</td>\n",
              "      <td>1</td>\n",
              "      <td>0</td>\n",
              "      <td>6</td>\n",
              "      <td>1</td>\n",
              "    </tr>\n",
              "    <tr>\n",
              "      <th>2</th>\n",
              "      <td>65.0</td>\n",
              "      <td>0</td>\n",
              "      <td>146</td>\n",
              "      <td>0</td>\n",
              "      <td>20</td>\n",
              "      <td>0</td>\n",
              "      <td>162000.00</td>\n",
              "      <td>1.3</td>\n",
              "      <td>129</td>\n",
              "      <td>1</td>\n",
              "      <td>1</td>\n",
              "      <td>7</td>\n",
              "      <td>1</td>\n",
              "    </tr>\n",
              "    <tr>\n",
              "      <th>3</th>\n",
              "      <td>50.0</td>\n",
              "      <td>1</td>\n",
              "      <td>111</td>\n",
              "      <td>0</td>\n",
              "      <td>20</td>\n",
              "      <td>0</td>\n",
              "      <td>210000.00</td>\n",
              "      <td>1.9</td>\n",
              "      <td>137</td>\n",
              "      <td>1</td>\n",
              "      <td>0</td>\n",
              "      <td>7</td>\n",
              "      <td>1</td>\n",
              "    </tr>\n",
              "    <tr>\n",
              "      <th>4</th>\n",
              "      <td>65.0</td>\n",
              "      <td>1</td>\n",
              "      <td>160</td>\n",
              "      <td>1</td>\n",
              "      <td>20</td>\n",
              "      <td>0</td>\n",
              "      <td>327000.00</td>\n",
              "      <td>2.7</td>\n",
              "      <td>116</td>\n",
              "      <td>0</td>\n",
              "      <td>0</td>\n",
              "      <td>8</td>\n",
              "      <td>1</td>\n",
              "    </tr>\n",
              "    <tr>\n",
              "      <th>...</th>\n",
              "      <td>...</td>\n",
              "      <td>...</td>\n",
              "      <td>...</td>\n",
              "      <td>...</td>\n",
              "      <td>...</td>\n",
              "      <td>...</td>\n",
              "      <td>...</td>\n",
              "      <td>...</td>\n",
              "      <td>...</td>\n",
              "      <td>...</td>\n",
              "      <td>...</td>\n",
              "      <td>...</td>\n",
              "      <td>...</td>\n",
              "    </tr>\n",
              "    <tr>\n",
              "      <th>294</th>\n",
              "      <td>62.0</td>\n",
              "      <td>0</td>\n",
              "      <td>61</td>\n",
              "      <td>1</td>\n",
              "      <td>38</td>\n",
              "      <td>1</td>\n",
              "      <td>155000.00</td>\n",
              "      <td>1.1</td>\n",
              "      <td>143</td>\n",
              "      <td>1</td>\n",
              "      <td>1</td>\n",
              "      <td>270</td>\n",
              "      <td>0</td>\n",
              "    </tr>\n",
              "    <tr>\n",
              "      <th>295</th>\n",
              "      <td>55.0</td>\n",
              "      <td>0</td>\n",
              "      <td>1820</td>\n",
              "      <td>0</td>\n",
              "      <td>38</td>\n",
              "      <td>0</td>\n",
              "      <td>270000.00</td>\n",
              "      <td>1.2</td>\n",
              "      <td>139</td>\n",
              "      <td>0</td>\n",
              "      <td>0</td>\n",
              "      <td>271</td>\n",
              "      <td>0</td>\n",
              "    </tr>\n",
              "    <tr>\n",
              "      <th>296</th>\n",
              "      <td>45.0</td>\n",
              "      <td>0</td>\n",
              "      <td>2060</td>\n",
              "      <td>1</td>\n",
              "      <td>60</td>\n",
              "      <td>0</td>\n",
              "      <td>742000.00</td>\n",
              "      <td>0.8</td>\n",
              "      <td>138</td>\n",
              "      <td>0</td>\n",
              "      <td>0</td>\n",
              "      <td>278</td>\n",
              "      <td>0</td>\n",
              "    </tr>\n",
              "    <tr>\n",
              "      <th>297</th>\n",
              "      <td>45.0</td>\n",
              "      <td>0</td>\n",
              "      <td>2413</td>\n",
              "      <td>0</td>\n",
              "      <td>38</td>\n",
              "      <td>0</td>\n",
              "      <td>140000.00</td>\n",
              "      <td>1.4</td>\n",
              "      <td>140</td>\n",
              "      <td>1</td>\n",
              "      <td>1</td>\n",
              "      <td>280</td>\n",
              "      <td>0</td>\n",
              "    </tr>\n",
              "    <tr>\n",
              "      <th>298</th>\n",
              "      <td>50.0</td>\n",
              "      <td>0</td>\n",
              "      <td>196</td>\n",
              "      <td>0</td>\n",
              "      <td>45</td>\n",
              "      <td>0</td>\n",
              "      <td>395000.00</td>\n",
              "      <td>1.6</td>\n",
              "      <td>136</td>\n",
              "      <td>1</td>\n",
              "      <td>1</td>\n",
              "      <td>285</td>\n",
              "      <td>0</td>\n",
              "    </tr>\n",
              "  </tbody>\n",
              "</table>\n",
              "<p>299 rows × 13 columns</p>\n",
              "</div>"
            ],
            "text/plain": [
              "      age  anaemia  creatinine_phosphokinase  ...  smoking  time  DEATH_EVENT\n",
              "0    75.0        0                       582  ...        0     4            1\n",
              "1    55.0        0                      7861  ...        0     6            1\n",
              "2    65.0        0                       146  ...        1     7            1\n",
              "3    50.0        1                       111  ...        0     7            1\n",
              "4    65.0        1                       160  ...        0     8            1\n",
              "..    ...      ...                       ...  ...      ...   ...          ...\n",
              "294  62.0        0                        61  ...        1   270            0\n",
              "295  55.0        0                      1820  ...        0   271            0\n",
              "296  45.0        0                      2060  ...        0   278            0\n",
              "297  45.0        0                      2413  ...        1   280            0\n",
              "298  50.0        0                       196  ...        1   285            0\n",
              "\n",
              "[299 rows x 13 columns]"
            ]
          },
          "metadata": {
            "tags": []
          },
          "execution_count": 7
        }
      ]
    },
    {
      "cell_type": "code",
      "metadata": {
        "id": "mshEbWqbPS71",
        "colab": {
          "base_uri": "https://localhost:8080/"
        },
        "outputId": "f0aa90bb-234d-4f53-f012-b5fee83ca8c1"
      },
      "source": [
        "hf[\"ejection_fraction\"].describe()"
      ],
      "execution_count": null,
      "outputs": [
        {
          "output_type": "execute_result",
          "data": {
            "text/plain": [
              "count    299.000000\n",
              "mean      38.083612\n",
              "std       11.834841\n",
              "min       14.000000\n",
              "25%       30.000000\n",
              "50%       38.000000\n",
              "75%       45.000000\n",
              "max       80.000000\n",
              "Name: ejection_fraction, dtype: float64"
            ]
          },
          "metadata": {
            "tags": []
          },
          "execution_count": 8
        }
      ]
    },
    {
      "cell_type": "code",
      "metadata": {
        "id": "TWVkXgWdPXhx",
        "colab": {
          "base_uri": "https://localhost:8080/",
          "height": 524
        },
        "outputId": "9347f8a4-564f-424f-8b3c-2a9c3ffe8fde"
      },
      "source": [
        "\n",
        "g= plt.figure(figsize=(15,5))\n",
        "\n",
        "death=hf[hf[\"DEATH_EVENT\"]==1]\n",
        "\n",
        "cx=g.add_subplot(121)\n",
        "sns.distplot(death['ejection_fraction'],bins=8,ax=cx)#ejection fraction distribution of people who had heart failure\n",
        "cx.set_title('ejection fraction distribution of people with heart failure')\n",
        "\n",
        "bx=g.add_subplot(122)\n",
        "alive=hf[hf[\"DEATH_EVENT\"]==0]\n",
        "\n",
        "sns.distplot(alive['ejection_fraction'],color='g',bins=8,ax=bx) #ejection fraction distribution of people who have not had heart failure\n",
        "bx.set_title('ejection fraction distribution of people without heart failure')\n"
      ],
      "execution_count": null,
      "outputs": [
        {
          "output_type": "stream",
          "text": [
            "/usr/local/lib/python3.7/dist-packages/seaborn/distributions.py:2557: FutureWarning:\n",
            "\n",
            "`distplot` is a deprecated function and will be removed in a future version. Please adapt your code to use either `displot` (a figure-level function with similar flexibility) or `histplot` (an axes-level function for histograms).\n",
            "\n",
            "/usr/local/lib/python3.7/dist-packages/seaborn/distributions.py:2557: FutureWarning:\n",
            "\n",
            "`distplot` is a deprecated function and will be removed in a future version. Please adapt your code to use either `displot` (a figure-level function with similar flexibility) or `histplot` (an axes-level function for histograms).\n",
            "\n"
          ],
          "name": "stderr"
        },
        {
          "output_type": "execute_result",
          "data": {
            "text/plain": [
              "Text(0.5, 1.0, 'ejection fraction distribution of people without heart failure')"
            ]
          },
          "metadata": {
            "tags": []
          },
          "execution_count": 44
        },
        {
          "output_type": "display_data",
          "data": {
            "image/png": "[encoded data removed]",
            "text/plain": [
              "<Figure size 1080x360 with 2 Axes>"
            ]
          },
          "metadata": {
            "tags": [],
            "needs_background": "light"
          }
        }
      ]
    },
    {
      "cell_type": "code",
      "metadata": {
        "id": "nvzRf1q6XFZH",
        "colab": {
          "base_uri": "https://localhost:8080/",
          "height": 523
        },
        "outputId": "bdd8be95-ea16-40ce-ae61-909ef6e25f2d"
      },
      "source": [
        "h=plt.figure(figsize=(15,5))\n",
        "\n",
        "\n",
        "dx=h.add_subplot(121)\n",
        "sns.distplot(death['platelets'],bins=8,ax=dx) #platelets distribution of people who had heart failure\n",
        "dx.set_title('platelets distribution of people with heart failure')\n",
        "\n",
        "ex=h.add_subplot(122)\n",
        "sns.distplot(alive['platelets'],color='g',bins=8,ax=ex) #platelets distribution of people who have not had heart failure\n",
        "ex.set_title('platelets distribution of people without heart failure')"
      ],
      "execution_count": null,
      "outputs": [
        {
          "output_type": "stream",
          "text": [
            "/usr/local/lib/python3.7/dist-packages/seaborn/distributions.py:2557: FutureWarning:\n",
            "\n",
            "`distplot` is a deprecated function and will be removed in a future version. Please adapt your code to use either `displot` (a figure-level function with similar flexibility) or `histplot` (an axes-level function for histograms).\n",
            "\n",
            "/usr/local/lib/python3.7/dist-packages/seaborn/distributions.py:2557: FutureWarning:\n",
            "\n",
            "`distplot` is a deprecated function and will be removed in a future version. Please adapt your code to use either `displot` (a figure-level function with similar flexibility) or `histplot` (an axes-level function for histograms).\n",
            "\n"
          ],
          "name": "stderr"
        },
        {
          "output_type": "execute_result",
          "data": {
            "text/plain": [
              "Text(0.5, 1.0, 'platelets distribution of people without heart failure')"
            ]
          },
          "metadata": {
            "tags": []
          },
          "execution_count": 45
        },
        {
          "output_type": "display_data",
          "data": {
            "image/png": "[encoded data removed]",
            "text/plain": [
              "<Figure size 1080x360 with 2 Axes>"
            ]
          },
          "metadata": {
            "tags": [],
            "needs_background": "light"
          }
        }
      ]
    },
    {
      "cell_type": "code",
      "metadata": {
        "id": "Yv0rd8zAPjeE",
        "colab": {
          "base_uri": "https://localhost:8080/"
        },
        "outputId": "ba932a12-b10e-4604-e84f-7ba01fc5183e"
      },
      "source": [
        "hf['platelets'].describe()\n"
      ],
      "execution_count": null,
      "outputs": [
        {
          "output_type": "execute_result",
          "data": {
            "text/plain": [
              "count       299.000000\n",
              "mean     263358.029264\n",
              "std       97804.236869\n",
              "min       25100.000000\n",
              "25%      212500.000000\n",
              "50%      262000.000000\n",
              "75%      303500.000000\n",
              "max      850000.000000\n",
              "Name: platelets, dtype: float64"
            ]
          },
          "metadata": {
            "tags": []
          },
          "execution_count": 46
        }
      ]
    },
    {
      "cell_type": "code",
      "metadata": {
        "id": "2n6WkFpqX5Ft"
      },
      "source": [],
      "execution_count": null,
      "outputs": []
    },
    {
      "cell_type": "code",
      "metadata": {
        "id": "vPbKdsGmUbJD",
        "colab": {
          "base_uri": "https://localhost:8080/",
          "height": 297
        },
        "outputId": "88554ce9-ffb2-4053-aceb-dec103810f5a"
      },
      "source": [
        "sns.scatterplot(data=hf,x='creatinine_phosphokinase',y='serum_creatinine')"
      ],
      "execution_count": null,
      "outputs": [
        {
          "output_type": "execute_result",
          "data": {
            "text/plain": [
              "<matplotlib.axes._subplots.AxesSubplot at 0x7f59df5da490>"
            ]
          },
          "metadata": {
            "tags": []
          },
          "execution_count": 40
        },
        {
          "output_type": "display_data",
          "data": {
            "image/png": "[encoded data removed]",
            "text/plain": [
              "<Figure size 432x288 with 1 Axes>"
            ]
          },
          "metadata": {
            "tags": [],
            "needs_background": "light"
          }
        }
      ]
    },
    {
      "cell_type": "code",
      "metadata": {
        "id": "iFiMs2FtVYpJ",
        "colab": {
          "base_uri": "https://localhost:8080/",
          "height": 297
        },
        "outputId": "e7fc8475-f03c-4649-801c-38f66cea6552"
      },
      "source": [
        "sns.scatterplot(data=hf,x='serum_sodium',y='serum_creatinine')"
      ],
      "execution_count": null,
      "outputs": [
        {
          "output_type": "execute_result",
          "data": {
            "text/plain": [
              "<matplotlib.axes._subplots.AxesSubplot at 0x7f59dff76cd0>"
            ]
          },
          "metadata": {
            "tags": []
          },
          "execution_count": 41
        },
        {
          "output_type": "display_data",
          "data": {
            "image/png": "[encoded data removed]",
            "text/plain": [
              "<Figure size 432x288 with 1 Axes>"
            ]
          },
          "metadata": {
            "tags": [],
            "needs_background": "light"
          }
        }
      ]
    },
    {
      "cell_type": "code",
      "metadata": {
        "id": "j_EyeuVaWfRw"
      },
      "source": [],
      "execution_count": null,
      "outputs": []
    }
  ]
}