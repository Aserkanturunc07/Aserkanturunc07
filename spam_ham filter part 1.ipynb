{
 "cells": [
  {
   "cell_type": "code",
   "execution_count": 1,
   "metadata": {
    "deletable": false,
    "editable": false
   },
   "outputs": [],
   "source": [
    "# Initialize Otter\n",
    "import otter\n",
    "grader = otter.Notebook(\"hw10.ipynb\")"
   ]
  },
  {
   "cell_type": "markdown",
   "metadata": {},
   "source": [
    "# Homework 10: Spam/Ham Classification - Build Your Own Model\n",
    "## Feature Engineering, Logistic Regression, Cross Validation\n",
    "## Due Date: Thursday 11/22, 11:59 PM PST\n",
    "\n",
    "**Collaboration Policy**\n",
    "\n",
    "Data science is a collaborative activity. While you may talk with others about\n",
    "the project, we ask that you **write your solutions individually**. If you do\n",
    "discuss the assignments with others please **include their names** at the top\n",
    "of your notebook."
   ]
  },
  {
   "cell_type": "markdown",
   "metadata": {},
   "source": [
    "**Collaborators**: *list collaborators here*"
   ]
  },
  {
   "cell_type": "markdown",
   "metadata": {
    "nbgrader": {
     "grade": false,
     "grade_id": "proj2",
     "locked": true,
     "schema_version": 2,
     "solution": false
    }
   },
   "source": [
    "## This Assignment\n",
    "In this homework, you will be building and improving on the concepts and functions that you implemented in homework 9 to create your own classifier to distinguish spam (junk or commercial or bulk) emails from ham (non-spam) emails. We will evaluate your work based on your model's accuracy and your written responses in this notebook.\n",
    "\n",
    "After this assignment, you should feel comfortable with the following:\n",
    "\n",
    "- Using `sklearn` libraries to process data and fit models\n",
    "- Validating the performance of your model and minimizing overfitting\n",
    "- Generating and analyzing precision-recall curves\n",
    "\n",
    "## Warning\n",
    "This is a **real world** dataset– the emails you are trying to classify are actual spam and legitimate emails. As a result, some of the spam emails may be in poor taste or be considered inappropriate. We think the benefit of working with realistic data outweighs these innapropriate emails, and wanted to give a warning at the beginning of the project so that you are made aware."
   ]
  },
  {
   "cell_type": "code",
   "execution_count": 2,
   "metadata": {},
   "outputs": [],
   "source": [
    "# Run this cell to suppress all FutureWarnings\n",
    "import warnings\n",
    "warnings.filterwarnings(\"ignore\", category=FutureWarning)"
   ]
  },
  {
   "cell_type": "markdown",
   "metadata": {},
   "source": [
    "## Score Breakdown\n",
    "Question | Points\n",
    "--- | ---\n",
    "1 | 6\n",
    "2 | 6\n",
    "3 | 3\n",
    "4 | 15\n",
    "Total | 30"
   ]
  },
  {
   "cell_type": "markdown",
   "metadata": {
    "nbgrader": {
     "grade": false,
     "grade_id": "p1",
     "locked": true,
     "schema_version": 2,
     "solution": false
    }
   },
   "source": [
    "## Setup and Recap\n",
    "\n",
    "Here we will provide a summary of the homework 9 to remind you of how we cleaned the data, explored it, and implemented methods that are going to be useful for building your own model."
   ]
  },
  {
   "cell_type": "code",
   "execution_count": 3,
   "metadata": {
    "ExecuteTime": {
     "end_time": "2019-04-03T20:17:41.341673Z",
     "start_time": "2019-04-03T20:17:41.330307Z"
    },
    "nbgrader": {
     "grade": false,
     "grade_id": "imports",
     "locked": true,
     "schema_version": 2,
     "solution": false
    }
   },
   "outputs": [],
   "source": [
    "import numpy as np\n",
    "import pandas as pd\n",
    "\n",
    "import matplotlib.pyplot as plt\n",
    "%matplotlib inline\n",
    "\n",
    "import seaborn as sns\n",
    "sns.set(style = \"whitegrid\", \n",
    "        color_codes = True,\n",
    "        font_scale = 1.5)"
   ]
  },
  {
   "cell_type": "markdown",
   "metadata": {
    "nbgrader": {
     "grade": false,
     "grade_id": "loading",
     "locked": true,
     "schema_version": 2,
     "solution": false
    }
   },
   "source": [
    "### Loading and Cleaning Data\n",
    "\n",
    "Remember that in email classification, our goal is to classify emails as spam or not spam (referred to as \"ham\") using features generated from the text in the email. \n",
    "\n",
    "The dataset consists of email messages and their labels (0 for ham, 1 for spam). Your labeled training dataset contains 8348 labeled examples, and the unlabeled test set contains 1000 unlabeled examples.\n",
    "\n",
    "Run the following cell to load in the data into DataFrames.\n",
    "\n",
    "The `train` DataFrame contains labeled data that you will use to train your model. It contains four columns:\n",
    "\n",
    "1. `id`: An identifier for the training example\n",
    "1. `subject`: The subject of the email\n",
    "1. `email`: The text of the email\n",
    "1. `spam`: 1 if the email is spam, 0 if the email is ham (not spam)\n",
    "\n",
    "The `test` DataFrame contains 1000 unlabeled emails. You will predict labels for these emails and submit your predictions to the autograder for evaluation."
   ]
  },
  {
   "cell_type": "code",
   "execution_count": 4,
   "metadata": {
    "ExecuteTime": {
     "end_time": "2019-04-03T20:17:42.181245Z",
     "start_time": "2019-04-03T20:17:41.343927Z"
    },
    "nbgrader": {
     "grade": false,
     "grade_id": "fetch-data",
     "locked": true,
     "schema_version": 2,
     "solution": false
    }
   },
   "outputs": [
    {
     "name": "stdout",
     "output_type": "stream",
     "text": [
      "Using version already downloaded: Mon Apr 19 17:09:25 2021\n",
      "MD5 hash of file: 0380c4cf72746622947b9ca5db9b8be8\n",
      "Using version already downloaded: Mon Apr 19 17:09:26 2021\n",
      "MD5 hash of file: a2e7abd8c7d9abf6e6fafc1d1f9ee6bf\n"
     ]
    }
   ],
   "source": [
    "from utils import fetch_and_cache_gdrive\n",
    "fetch_and_cache_gdrive('1SCASpLZFKCp2zek-toR3xeKX3DZnBSyp', 'train.csv')\n",
    "fetch_and_cache_gdrive('1ZDFo9OTF96B5GP2Nzn8P8-AL7CTQXmC0', 'test.csv')\n",
    "\n",
    "original_training_data = pd.read_csv('data/train.csv')\n",
    "test = pd.read_csv('data/test.csv')\n",
    "\n",
    "# Convert the emails to lower case as a first step to processing the text\n",
    "original_training_data['email'] = original_training_data['email'].str.lower()\n",
    "test['email'] = test['email'].str.lower()\n",
    "\n",
    "\n"
   ]
  },
  {
   "cell_type": "code",
   "execution_count": 5,
   "metadata": {},
   "outputs": [],
   "source": [
    "#Training/Validation Split\n",
    "#Recall that the training data we downloaded is all the data we have available for both \n",
    "#training models and validating the models that we train. We therefore \n",
    "#split the training data into separate training and validation datsets.\n",
    "#You will need this validation data to assess \n",
    "#the performance of your classifier once you are finished training.\n",
    "#As in homework 9, we set the seed (random_state) to 42. Do not modify this in the following questions, as our tests depend on this random seed."
   ]
  },
  {
   "cell_type": "code",
   "execution_count": 6,
   "metadata": {
    "ExecuteTime": {
     "end_time": "2019-04-03T20:17:42.203231Z",
     "start_time": "2019-04-03T20:17:42.185104Z"
    },
    "nbgrader": {
     "grade": false,
     "grade_id": "cell-b1fb39d9b651ca1b",
     "locked": false,
     "schema_version": 2,
     "solution": true
    }
   },
   "outputs": [
    {
     "name": "stdout",
     "output_type": "stream",
     "text": [
      "Before imputation:\n",
      "id         0\n",
      "subject    6\n",
      "email      0\n",
      "spam       0\n",
      "dtype: int64\n",
      "------------\n",
      "After imputation:\n",
      "id         0\n",
      "subject    0\n",
      "email      0\n",
      "spam       0\n",
      "dtype: int64\n"
     ]
    }
   ],
   "source": [
    "# Fill any missing or NAN values\n",
    "print('Before imputation:')\n",
    "print(original_training_data.isnull().sum())\n",
    "original_training_data = original_training_data.fillna('')\n",
    "print('------------')\n",
    "print('After imputation:')\n",
    "print(original_training_data.isnull().sum())"
   ]
  },
  {
   "cell_type": "markdown",
   "metadata": {},
   "source": [
    "### Training/Validation Split\n",
    "\n",
    "Recall that the training data we downloaded is all the data we have available for both training models and **validating** the models that we train. We therefore split the training data into separate training and validation datsets. You will need this **validation data** to assess the performance of your classifier once you are finished training. \n",
    "\n",
    "As in homework 9, we set the seed (random_state) to 42. **Do not modify this in the following questions, as our tests depend on this random seed.**"
   ]
  },
  {
   "cell_type": "code",
   "execution_count": 7,
   "metadata": {
    "ExecuteTime": {
     "end_time": "2019-04-03T20:17:42.317970Z",
     "start_time": "2019-04-03T20:17:42.294532Z"
    },
    "nbgrader": {
     "grade": false,
     "grade_id": "cell-873194ed3e686dfb",
     "locked": true,
     "schema_version": 2,
     "solution": false
    }
   },
   "outputs": [],
   "source": [
    "# This creates a 90/10 train-validation split on our labeled data\n",
    "from sklearn.model_selection import train_test_split\n",
    "train, val = train_test_split(original_training_data, test_size=0.1, random_state=42)\n",
    "\n",
    "# We must do this in order to preserve the ordering of emails to labels for words_in_texts\n",
    "train = train.reset_index(drop=True)"
   ]
  },
  {
   "cell_type": "code",
   "execution_count": 8,
   "metadata": {},
   "outputs": [
    {
     "data": {
      "text/plain": [
       "0.2601668404588113"
      ]
     },
     "execution_count": 8,
     "metadata": {},
     "output_type": "execute_result"
    }
   ],
   "source": [
    "np.mean(train.loc[train['spam']==1,'subject'].str.contains('!'))# compare spam and ham emails w respect to if they have"
   ]
  },
  {
   "cell_type": "code",
   "execution_count": 9,
   "metadata": {},
   "outputs": [
    {
     "data": {
      "text/plain": [
       "0.030563002680965148"
      ]
     },
     "execution_count": 9,
     "metadata": {},
     "output_type": "execute_result"
    }
   ],
   "source": [
    "np.mean(train.loc[train['spam']==0,'subject'].str.contains('!')) # Spam has a lot more ! in the subject portion"
   ]
  },
  {
   "cell_type": "code",
   "execution_count": 10,
   "metadata": {},
   "outputs": [],
   "source": [
    "spam_emails=train.loc[train['spam']==1,'email']"
   ]
  },
  {
   "cell_type": "code",
   "execution_count": 11,
   "metadata": {},
   "outputs": [
    {
     "name": "stdout",
     "output_type": "stream",
     "text": [
      "ham: \n",
      "['between', 'problem', 'better', 'people', 'computer', 'support', 'ilug@linux.ie\\n', 'windows', \"doesn't\", 'another', 'really', 'should', 'different', 'version', \"users'\", 'group:', 'http://www.linux.ie/mailman/listinfo/ilug', '(un)subscription', 'information.\\n', 'maintainer:', 'listmaster@linux.ie\\n', \"you're\", '-------------------------------------------------------\\n', 'sf.net', 'sponsored', '_______________________________________________\\n', 'mailing', 'things', 'server', 'system', 'network', 'rpm-list', '<rpm-list@freshrpms.net>\\n', 'http://lists.freshrpms.net/mailman/listinfo/rpm-list\\n', 'before', 'software', 'change', 'because', 'wrote:\\n', 'information', 'against', 'without', \"that's\", 'something', 'messages', 'message', 'content-type:', 'through', 'please', 'e-mail', '<table', 'cellpadding=0', 'cellspacing=0', 'border=0>\\n', '<tr><td', 'src=\"http://www.cnet.com/b.gif\"', 'width=1', 'width=10', 'bgcolor=\"#000000\"><img', 'width=\"100%\"', 'face=\"arial,', 'helvetica\"', 'type=\"hidden\"', 'face=\"ms', 'serif,', 'geneva\"', '</table>\\n', 'size=\"-1\">\\n', 'alt=\"\"', 'border=\"0\"', '<td><font', '</td>\\n', 'height=1></td>\\n', 'border=0', 'cellpadding=\"0\"', 'cellspacing=\"0\"', 'border=\"0\">\\n', 'width=\"1\"', 'height=\"1\"></td>\\n', 'width=\"10\"', 'src=\"http://home.cnet.com/b.gif\"', 'height=\"1\"', 'height=1', '</tr>\\n', 'height=\"10\"', 'address', 'src=\"http://www.zdnet.com/b.gif\"', 'helvetica,', 'border=3d\"0\"', 'width=3d\"1\"', 'security', '&nbsp;<a', 'internet', 'face=\"verdana,', 'target=\"_blank\"', 'valign=top>\\n', 'arial,', '=09=09=09=09=09<td', 'iiiiiiiiiiiiiiiiiiiiiiiiiiiiiiiiiiiiiiiiiiiiiiiiiiiiiiiiiiiiiiiiiiiiiiiiiiii\\n', '////////////////////////////////////////////////////////////////////////////\\n']\n",
      "spam: \n",
      "['content-type:', 'content-transfer-encoding:', 'business', 'within', 'contact', 'please', 'access', 'internet', 'million', 'credit', 'received', 'because', 'receive', 'through', 'e-mail', 'information', 'align=\"center\">\\n', '</tr>\\n', '</font>\\n', '</td>\\n', '</table>\\n', '<head>\\n', '</head>\\n', '<center>\\n', '<table', 'border=\"0\"', 'cellspacing=\"0\"', 'face=\"arial\"', 'size=\"2\"', '</font><font', 'following', '<p><font', '<b><font', '</center>\\n', 'face=\"arial,', '</body>\\n', '</html>\\n', 'grants', 'people', 'face=\"verdana\"><font', '<blockquote><font', 'government', 'should', 'simply', 'available', 'complete', 'program', 'number', 'without', 'software', 'special', 'service', 'marketing', 'financial', 'address', 'company', 'mailing', 'message', 'helvetica,', 'sans-serif\"', '</div>\\n', 'subject', 'report', 'remove', 'face=\"verdana,', 'arial,', 'style=\"font-size:', 'removed', '<html>\\n', 'align=3d\"center\">\\n', 'border=3d\"0\"', 'cellspacing=3d\"0\"', '<tbody>\\n', 'align=3d\"center\"', 'align=3d\"center\"><font', 'face=3d\"arial\"', 'size=3d\"2\"', 'type=3d\"text\"', 'width=3d\"100%\"', 'color:', 'online', '<input', 'insurance', 'face=3d\"arial,', 'width=3d\"550\"', '<tr>=20\\n', '<td><img', 'face=3d\"verdana,', 'width=3d\"15%\"', 'orders', 'face=arial', 'face=3darial', 'style=\"background-color:', 'addresses', 'face=3d\"tahoma\"', 'font-family:', '<td><font', 'sans-serif\"><font', '<option', '\\t\\t\\t\\t\\t\\t\\n']\n",
      "spam words: ['business', 'receive', 'please', 'insurance', 'credit', 'orders', 'government', 'financial', 'company', 'grants', 'number', 'within', 'online', 'simply', 'color:', '<center>\\n', 'report']\n",
      "ham words: ['really', 'because', 'message', 'better', 'support', \"that's\", \"doesn't\", 'between', 'would', 'while', 'since', 'after', 'their', 'think']\n"
     ]
    },
    {
     "data": {
      "text/plain": [
       "['date:',\n",
       " '\\nurl:',\n",
       " 'could',\n",
       " 'while',\n",
       " 'would',\n",
       " 'being',\n",
       " 'those',\n",
       " 'there',\n",
       " 'people',\n",
       " 'from:',\n",
       " 'which',\n",
       " 'think',\n",
       " 'first',\n",
       " 'windows',\n",
       " 'found',\n",
       " 'still',\n",
       " \"doesn't\",\n",
       " 'these',\n",
       " 'really',\n",
       " 'should',\n",
       " 'version',\n",
       " 'linux',\n",
       " \"don't\",\n",
       " 'where',\n",
       " 'about',\n",
       " 'might',\n",
       " \"you're\",\n",
       " 'email',\n",
       " '_______________________________________________\\n',\n",
       " 'mailing',\n",
       " 'list\\n',\n",
       " 'system',\n",
       " 'world',\n",
       " 'before',\n",
       " 'software',\n",
       " 'change',\n",
       " 'other',\n",
       " 'because',\n",
       " 'wrote:\\n',\n",
       " '2002,',\n",
       " 'information',\n",
       " 'their',\n",
       " 'without',\n",
       " \"that's\",\n",
       " 'using',\n",
       " 'something',\n",
       " 'since',\n",
       " 'message',\n",
       " \"can't\",\n",
       " 'through',\n",
       " 'please',\n",
       " 'e-mail',\n",
       " 'after',\n",
       " '<table',\n",
       " 'cellpadding=0',\n",
       " 'cellspacing=0',\n",
       " '<tr><td',\n",
       " 'src=\"http://www.cnet.com/b.gif\"',\n",
       " 'width=1',\n",
       " 'bgcolor=\"#000000\"><img',\n",
       " '<br>\\n',\n",
       " 'width=\"100%\"',\n",
       " '<font',\n",
       " 'face=\"arial,',\n",
       " 'helvetica\"',\n",
       " 'type=\"hidden\"',\n",
       " 'face=\"ms',\n",
       " 'serif,',\n",
       " 'geneva\"',\n",
       " '</table>\\n',\n",
       " 'size=\"-1\">\\n',\n",
       " 'alt=\"\"',\n",
       " 'border=\"0\"',\n",
       " '</td>\\n',\n",
       " 'height=1></td>\\n',\n",
       " 'border=0',\n",
       " 'cellpadding=\"0\"',\n",
       " 'cellspacing=\"0\"',\n",
       " 'border=\"0\">\\n',\n",
       " 'width=\"1\"',\n",
       " 'height=\"1\"></td>\\n',\n",
       " 'width=\"10\"',\n",
       " 'src=\"http://home.cnet.com/b.gif\"',\n",
       " 'height=\"1\"',\n",
       " '<tr>\\n',\n",
       " 'height=1',\n",
       " '</tr>\\n',\n",
       " 'src=\"http://www.zdnet.com/b.gif\"',\n",
       " 'helvetica,',\n",
       " 'right',\n",
       " 'border=3d\"0\"',\n",
       " 'width=3d\"1\"',\n",
       " '&nbsp;<a',\n",
       " 'internet',\n",
       " '\\t\\t\\t\\t\\n',\n",
       " 'face=\"verdana,',\n",
       " 'target=\"_blank\"',\n",
       " '=09=09=09=09=09<td',\n",
       " 'iiiiiiiiiiiiiiiiiiiiiiiiiiiiiiiiiiiiiiiiiiiiiiiiiiiiiiiiiiiiiiiiiiiiiiiiiiii\\n',\n",
       " '////////////////////////////////////////////////////////////////////////////\\n']"
      ]
     },
     "execution_count": 11,
     "metadata": {},
     "output_type": "execute_result"
    }
   ],
   "source": [
    "concat_emails=[]\n",
    "def get_all_emails(series):\n",
    "    for email in series:\n",
    "        concat_emails.append(email)\n",
    "get_all_emails(spam_emails)\n",
    "joined=''.join(concat_emails)\n",
    "csv_words=joined.split(' ')\n",
    "word_and_count={}\n",
    "def count_each_word(comma_sep_text):\n",
    "    for word in comma_sep_text:\n",
    "        if(len(word)>5 and word in word_and_count.keys()):\n",
    "            word_and_count[word]=word_and_count[word]+1\n",
    "        else:\n",
    "            word_and_count[word]=1\n",
    "word_and_count\n",
    "def getMax_100_keys(dict):\n",
    "    sorted=np.sort(list(dict.values()))\n",
    "    length=len(sorted)\n",
    "    max_vals=sorted[length-100:]\n",
    "    max_keys=[]\n",
    "    for key in dict.keys():\n",
    "        if dict[key]>=min(max_vals):\n",
    "            max_keys.append(key)\n",
    "    return max_keys\n",
    "count_each_word(csv_words)\n",
    "_100spams=getMax_100_keys(word_and_count)\n",
    "# I pick \"business\",\"please\",\"e-mail\",\"receive\",\"information\",\n",
    "#\"insurance\",\"credit\",\"orders\",\"government\",\"financial\"as my\n",
    "#spam identifying words \n",
    "spam_words=[\"business\",\"e-mail\",\"receive\",\"information\", \"please\",\"insurance\",\"credit\",\"orders\",\"government\",\"financial\",\n",
    "            \"company\",\"grants\",\"number\",\"within\",\"online\",\"simply\",\"color:\",\"<center>\\n\",\"report\",]\n",
    "\n",
    "ham_emails=original_training_data.loc[original_training_data['spam']==0,'email']\n",
    "#Now doing the same for ham and pick 5 words there too\n",
    "\n",
    "concat_emails_ham=[]\n",
    "def get_all_emails_ham(series):\n",
    "    for email in series:\n",
    "        concat_emails_ham.append(email)\n",
    "get_all_emails_ham(ham_emails)\n",
    "joined_ham=''.join(concat_emails_ham)\n",
    "csv_words_ham=joined_ham.split(' ')\n",
    "word_and_count_ham={}\n",
    "def count_each_word_ham(comma_sep_text):\n",
    "    for word in comma_sep_text:\n",
    "        if(len(word)>5 and word in word_and_count_ham.keys()):\n",
    "            word_and_count_ham[word]=word_and_count_ham[word]+1\n",
    "        else:\n",
    "            word_and_count_ham[word]=1\n",
    "def getMax_100_keys_ham(dict):\n",
    "    sorted=np.sort(list(dict.values()))\n",
    "    length=len(sorted)\n",
    "    max_vals_ham=sorted[length-100:]\n",
    "    max_keys_ham=[]\n",
    "    for key in dict.keys():\n",
    "        if dict[key]>=min(max_vals_ham):\n",
    "            max_keys_ham.append(key)\n",
    "    return max_keys_ham\n",
    "count_each_word_ham(csv_words_ham)\n",
    "_100hams=getMax_100_keys_ham(word_and_count_ham)\n",
    " # I pick really, because, software, mailing, message, between,\n",
    "#better, support, that's, doesn't as the ham identifying words \n",
    "#as my ham identifying words\n",
    "ham_words=[\"really\",\"software\",\"because\",\"mailing\", \"message\",\"better\",\"support\", \"that's\", \"doesn't\",\"between\",\"would\"\n",
    "           ,\"while\",\"since\",\"after\",\"their\",\"think\"]\n",
    "# making sure I did not pick words that are shared between the two top 100 words lists\n",
    "print(\"ham: \")\n",
    "print( _100hams)\n",
    "print(\"spam: \")\n",
    "print(_100spams)\n",
    "for ham in ham_words:\n",
    "    if ham in _100spams:\n",
    "        ham_words.remove(ham)\n",
    "for spam in spam_words:\n",
    "    if spam in _100hams:\n",
    "        spam_words.remove(spam)\n",
    "print(\"spam words:\",spam_words)\n",
    "print(\"ham words:\",ham_words)\n",
    "len_greater_than_4_ham={}\n",
    "def count_each_word_ham_len4(comma_sep_text):\n",
    "    for word in comma_sep_text:\n",
    "        if(len(word)>4 and word in len_greater_than_4_ham.keys()):\n",
    "            len_greater_than_4_ham[word]=len_greater_than_4_ham[word]+1\n",
    "        else:\n",
    "            len_greater_than_4_ham[word]=1\n",
    "count_each_word_ham_len4(csv_words_ham)\n",
    "def getMax_100_keys_ham_len4(dict):\n",
    "    sorted=np.sort(list(dict.values()))\n",
    "    length=len(sorted)\n",
    "    max_vals_ham_len4=sorted[length-100:]\n",
    "    max_keys_ham_len4=[]\n",
    "    for key in dict.keys():\n",
    "        if dict[key]>=min(max_vals_ham_len4):\n",
    "            max_keys_ham_len4.append(key)\n",
    "    return max_keys_ham_len4\n",
    "getMax_100_keys_ham_len4(len_greater_than_4_ham)\n"
   ]
  },
  {
   "cell_type": "code",
   "execution_count": 13,
   "metadata": {},
   "outputs": [
    {
     "data": {
      "text/plain": [
       "0.003460668175163051"
      ]
     },
     "execution_count": 13,
     "metadata": {},
     "output_type": "execute_result"
    }
   ],
   "source": [
    "train_exclam=train\n",
    "train_exclam['has_money']=train['subject'].str.contains('money')\n",
    "np.mean(train_exclam['has_money'])"
   ]
  },
  {
   "cell_type": "code",
   "execution_count": 14,
   "metadata": {},
   "outputs": [
    {
     "data": {
      "text/plain": [
       "0.08917875682150939"
      ]
     },
     "execution_count": 14,
     "metadata": {},
     "output_type": "execute_result"
    }
   ],
   "source": [
    "train_exclam=train\n",
    "train_exclam['subject contains !']=train['subject'].str.contains('!')\n",
    "np.mean(train_exclam['subject contains !'])"
   ]
  },
  {
   "cell_type": "code",
   "execution_count": 15,
   "metadata": {},
   "outputs": [
    {
     "data": {
      "text/plain": [
       "0.4449620657526953"
      ]
     },
     "execution_count": 15,
     "metadata": {},
     "output_type": "execute_result"
    }
   ],
   "source": [
    "train_exclam['email contains !']=train['email'].str.contains('!')\n",
    "np.mean(train_exclam['email contains !'])"
   ]
  },
  {
   "cell_type": "code",
   "execution_count": null,
   "metadata": {},
   "outputs": [],
   "source": [
    "#each_letter_ham=joined_ham.split(' ')\n",
    "#num_capital=0\n",
    "#total_letters=0\n",
    "#for word in each_letter_ham:\n",
    "    #for letter in word:\n",
    "       # total_letters=total_letters+1\n",
    "\n"
   ]
  },
  {
   "cell_type": "code",
   "execution_count": 16,
   "metadata": {},
   "outputs": [
    {
     "data": {
      "text/plain": [
       "0.0002662052442433116"
      ]
     },
     "execution_count": 16,
     "metadata": {},
     "output_type": "execute_result"
    }
   ],
   "source": [
    "train_exclam['subject contains dollar']=train['subject'].str.contains('dollar')\n",
    "#np.mean(train_exclam['email contains ?'])\n",
    "np.mean(train_exclam['subject contains dollar'])\n"
   ]
  },
  {
   "cell_type": "code",
   "execution_count": 17,
   "metadata": {},
   "outputs": [
    {
     "data": {
      "text/plain": [
       "0.003194462930919739"
      ]
     },
     "execution_count": 17,
     "metadata": {},
     "output_type": "execute_result"
    }
   ],
   "source": [
    "train_exclam['subject contains sex']=train['subject'].str.contains('sex')\n",
    "#np.mean(train_exclam['email contains ?'])\n",
    "np.mean(train_exclam['subject contains sex'])"
   ]
  },
  {
   "cell_type": "markdown",
   "metadata": {
    "nbgrader": {
     "grade": false,
     "grade_id": "feat-eng",
     "locked": true,
     "schema_version": 2,
     "solution": false
    }
   },
   "source": [
    "### Feature Engineering\n",
    "\n",
    "In order to train a logistic regression model, we need a numeric feature matrix $X$ and a vector of corresponding binary labels $y$. To address this, in homework 9, we implemented the function `words_in_texts`, which creates numeric features derived from the email text and uses those features for logistic regression. \n",
    "\n",
    "For this homework, we have provided you with an implemented version of `words_in_texts`. Remember that the function outputs a 2-dimensional NumPy array containing one row for each email text. The row should contain either a 0 or a 1 for each word in the list: 0 if the word doesn't appear in the text and 1 if the word does. "
   ]
  },
  {
   "cell_type": "code",
   "execution_count": 18,
   "metadata": {},
   "outputs": [],
   "source": [
    "def words_in_texts(words, texts):\n",
    "    '''\n",
    "    Args:\n",
    "        words (list): words to find\n",
    "        texts (Series): strings to search in\n",
    "    \n",
    "    Returns:\n",
    "        NumPy array of 0s and 1s with shape (n, p) where n is the\n",
    "        number of texts and p is the number of words.\n",
    "    '''\n",
    "    import numpy as np\n",
    "    indicator_array = 1 * np.array([texts.str.contains(word) for word in words]).T\n",
    "    return indicator_array"
   ]
  },
  {
   "cell_type": "markdown",
   "metadata": {},
   "source": [
    "Run the following cell to see how the function works on some dummy text."
   ]
  },
  {
   "cell_type": "code",
   "execution_count": 19,
   "metadata": {},
   "outputs": [
    {
     "data": {
      "text/plain": [
       "array([[1, 0, 0],\n",
       "       [1, 0, 1]])"
      ]
     },
     "execution_count": 19,
     "metadata": {},
     "output_type": "execute_result"
    }
   ],
   "source": [
    "words_in_texts(['hello', 'bye', 'world'], pd.Series(['hello', 'hello worldhello']))"
   ]
  },
  {
   "cell_type": "markdown",
   "metadata": {
    "nbgrader": {
     "grade": false,
     "grade_id": "classification",
     "locked": true,
     "schema_version": 2,
     "solution": false
    }
   },
   "source": [
    "### EDA and Basic Classification\n",
    "\n",
    "In homework 9, we proceeded to visualize the frequency of different words for both spam and ham emails, and used `words_in_texts(words, train['email'])` to directly to train a classifier. We also provided a simple set of 5 words that might be useful as features to distinguish spam/ham emails. \n",
    "\n",
    "We then built a model using the using the [`LogisticRegression`](http://scikit-learn.org/stable/modules/generated/sklearn.linear_model.LogisticRegression.html) classifier from `scikit-learn`.\n",
    "\n",
    "Run the following cell to see the performance of a simple model using these words and the `train` dataframe."
   ]
  },
  {
   "cell_type": "code",
   "execution_count": 20,
   "metadata": {
    "ExecuteTime": {
     "end_time": "2019-04-03T20:17:43.726012Z",
     "start_time": "2019-04-03T20:17:43.498088Z"
    },
    "nbgrader": {
     "grade": false,
     "grade_id": "q4-answer",
     "locked": false,
     "schema_version": 2,
     "solution": true
    },
    "tags": [
     "student"
    ]
   },
   "outputs": [
    {
     "data": {
      "text/plain": [
       "(array([[0, 0, 0, 0, 0],\n",
       "        [0, 0, 0, 0, 0],\n",
       "        [0, 0, 0, 0, 0],\n",
       "        [0, 0, 0, 0, 0],\n",
       "        [0, 0, 0, 1, 0]]),\n",
       " 0    0\n",
       " 1    0\n",
       " 2    0\n",
       " 3    0\n",
       " 4    0\n",
       " Name: spam, dtype: int64)"
      ]
     },
     "execution_count": 20,
     "metadata": {},
     "output_type": "execute_result"
    }
   ],
   "source": [
    "some_words = ['drug', 'bank', 'prescription', 'memo', 'private']\n",
    "\n",
    "X_train = words_in_texts(some_words,train['email'])# I should add the 0 0 0 1s from the contains(!) column \n",
    "#to this matrix\n",
    "Y_train = train['spam']\n",
    "\n",
    "X_train[:5], Y_train[:5]"
   ]
  },
  {
   "cell_type": "code",
   "execution_count": 21,
   "metadata": {
    "ExecuteTime": {
     "end_time": "2019-04-03T20:17:44.593918Z",
     "start_time": "2019-04-03T20:17:43.783872Z"
    },
    "nbgrader": {
     "grade": false,
     "grade_id": "q5-answer",
     "locked": false,
     "schema_version": 2,
     "solution": true
    },
    "tags": [
     "student"
    ]
   },
   "outputs": [
    {
     "name": "stdout",
     "output_type": "stream",
     "text": [
      "Training Accuracy:  0.7576201251164648\n"
     ]
    }
   ],
   "source": [
    "from sklearn.linear_model import LogisticRegression\n",
    "\n",
    "model = LogisticRegression()\n",
    "model.fit(X_train,Y_train)\n",
    "yhat=model.predict(X_train)\n",
    "training_accuracy = np.mean(yhat==Y_train)\n",
    "print(\"Training Accuracy: \", training_accuracy)"
   ]
  },
  {
   "cell_type": "code",
   "execution_count": 22,
   "metadata": {},
   "outputs": [],
   "source": [
    "identifying_words=spam_words+ham_words\n",
    "My_X_train = words_in_texts(identifying_words,train['email'])\n",
    "array_exclam=np.array(train_exclam['subject contains !'])\n",
    "array_exclam=np.array([array_exclam]).reshape(7513,1) #reshaping so that I can append it in the below cell\n",
    "\n",
    "array_exclam2=np.array(train_exclam['email contains !'])\n",
    "array_exclam2=np.array([array_exclam2]).reshape(7513,1)\n"
   ]
  },
  {
   "cell_type": "code",
   "execution_count": 23,
   "metadata": {},
   "outputs": [],
   "source": [
    "array_money=np.array([train_exclam['has_money']])\n",
    "array_money=array_money.reshape(7513,1)\n"
   ]
  },
  {
   "cell_type": "code",
   "execution_count": 24,
   "metadata": {},
   "outputs": [],
   "source": [
    "array_R=np.array([train_exclam['subject contains sex']])\n",
    "array_R=array_R.reshape(7513,1)"
   ]
  },
  {
   "cell_type": "code",
   "execution_count": 25,
   "metadata": {},
   "outputs": [],
   "source": [
    "My_X_train = np.append(My_X_train,array_exclam2,1)"
   ]
  },
  {
   "cell_type": "code",
   "execution_count": 26,
   "metadata": {},
   "outputs": [],
   "source": [
    "My_X_train = np.append(My_X_train,array_exclam,1)"
   ]
  },
  {
   "cell_type": "code",
   "execution_count": 27,
   "metadata": {},
   "outputs": [],
   "source": [
    "My_X_train=np.append(My_X_train,array_money,1)"
   ]
  },
  {
   "cell_type": "code",
   "execution_count": null,
   "metadata": {},
   "outputs": [],
   "source": [
    "#My_X_train=np.append(My_X_train,array_R,1)"
   ]
  },
  {
   "cell_type": "code",
   "execution_count": 28,
   "metadata": {},
   "outputs": [
    {
     "data": {
      "text/plain": [
       "(7513, 34)"
      ]
     },
     "execution_count": 28,
     "metadata": {},
     "output_type": "execute_result"
    }
   ],
   "source": [
    "My_X_train.shape"
   ]
  },
  {
   "cell_type": "code",
   "execution_count": 29,
   "metadata": {},
   "outputs": [
    {
     "name": "stdout",
     "output_type": "stream",
     "text": [
      "coeffs:  [[ 0.72752008  0.92106397  1.74205413  1.0967607   1.5125058   0.77609531\n",
      "   0.65000622  1.40149251  1.03701519  0.53081743  0.4483303   1.32201043\n",
      "  -0.8837529   1.23691387  0.66695595  1.26990217 -0.88981469 -1.05861548\n",
      "  -0.27316756 -0.61303315 -0.52173459 -0.97073402 -1.10655289 -1.74190324\n",
      "  -2.01003519 -0.63828338 -0.33659401  0.40286542 -0.71467023 -0.5459673\n",
      "  -0.30272358  1.30711556  2.08909158  2.10045908]]\n",
      "Training Accuracy:  0.8847331292426461\n"
     ]
    }
   ],
   "source": [
    "#fitting the modeling\n",
    "\n",
    "my_model = LogisticRegression()\n",
    "my_model.fit(My_X_train,Y_train)\n",
    "my_yhat=my_model.predict(My_X_train)\n",
    "print(\"coeffs: \", my_model.coef_)\n",
    "my_training_accuracy = np.mean(my_yhat==Y_train)\n",
    "print(\"Training Accuracy: \", my_training_accuracy)"
   ]
  },
  {
   "cell_type": "code",
   "execution_count": null,
   "metadata": {},
   "outputs": [],
   "source": [
    "val"
   ]
  },
  {
   "cell_type": "code",
   "execution_count": 30,
   "metadata": {},
   "outputs": [
    {
     "name": "stderr",
     "output_type": "stream",
     "text": [
      "<ipython-input-30-c40d5e106836>:1: SettingWithCopyWarning: \n",
      "A value is trying to be set on a copy of a slice from a DataFrame.\n",
      "Try using .loc[row_indexer,col_indexer] = value instead\n",
      "\n",
      "See the caveats in the documentation: https://pandas.pydata.org/pandas-docs/stable/user_guide/indexing.html#returning-a-view-versus-a-copy\n",
      "  val['email contains !']=val['email'].str.contains('!')\n",
      "<ipython-input-30-c40d5e106836>:2: SettingWithCopyWarning: \n",
      "A value is trying to be set on a copy of a slice from a DataFrame.\n",
      "Try using .loc[row_indexer,col_indexer] = value instead\n",
      "\n",
      "See the caveats in the documentation: https://pandas.pydata.org/pandas-docs/stable/user_guide/indexing.html#returning-a-view-versus-a-copy\n",
      "  val['subject contains !']=val['subject'].str.contains('!')\n",
      "<ipython-input-30-c40d5e106836>:3: SettingWithCopyWarning: \n",
      "A value is trying to be set on a copy of a slice from a DataFrame.\n",
      "Try using .loc[row_indexer,col_indexer] = value instead\n",
      "\n",
      "See the caveats in the documentation: https://pandas.pydata.org/pandas-docs/stable/user_guide/indexing.html#returning-a-view-versus-a-copy\n",
      "  val['has_money']=val['subject'].str.contains('money')\n"
     ]
    }
   ],
   "source": [
    "val['email contains !']=val['email'].str.contains('!')\n",
    "val['subject contains !']=val['subject'].str.contains('!')\n",
    "val['has_money']=val['subject'].str.contains('money')"
   ]
  },
  {
   "cell_type": "code",
   "execution_count": 31,
   "metadata": {},
   "outputs": [],
   "source": [
    "array_A=np.array(val['subject contains !'])\n",
    "array_A=np.array([array_A]).reshape(835,1) #reshaping so that I can append it in the below cell\n",
    "array_B=np.array(val['email contains !'])\n",
    "array_B=np.array([array_B]).reshape(835,1)\n",
    "array_C=np.array([val['has_money']])\n",
    "array_C=array_C.reshape(835,1)\n"
   ]
  },
  {
   "cell_type": "code",
   "execution_count": 32,
   "metadata": {},
   "outputs": [
    {
     "name": "stdout",
     "output_type": "stream",
     "text": [
      "Training Accuracy:  0.8694610778443114\n"
     ]
    }
   ],
   "source": [
    "identifying_words=spam_words+ham_words\n",
    "My_X_val = words_in_texts(identifying_words,val['email'])\n",
    "My_X_val = np.append(My_X_val,array_A,1)\n",
    "My_X_val = np.append(My_X_val,array_B,1)\n",
    "My_X_val = np.append(My_X_val,array_C,1)\n",
    "Y_val=val['spam']\n",
    "my_yhat_val=my_model.predict(My_X_val)\n",
    "my_val_training_accuracy = np.mean(my_yhat_val==Y_val)\n",
    "print(\"Training Accuracy: \", my_val_training_accuracy)"
   ]
  },
  {
   "cell_type": "markdown",
   "metadata": {},
   "source": []
  },
  {
   "cell_type": "markdown",
   "metadata": {},
   "source": [
    "### Evaluating Classifiers"
   ]
  },
  {
   "cell_type": "markdown",
   "metadata": {},
   "source": [
    "In our models, we are evaluating accuracy on the training set, which may provide a misleading accuracy measure. In homework 9, we calculated various metrics to lead us to consider more ways of evaluating a classifier, in addition to overall accuracy. Below is a reference to those concepts.\n",
    "\n",
    "Presumably, our classifier will be used for **filtering**, i.e. preventing messages labeled `spam` from reaching someone's inbox. There are two kinds of errors we can make:\n",
    "- False positive (FP): a ham email gets flagged as spam and filtered out of the inbox.\n",
    "- False negative (FN): a spam email gets mislabeled as ham and ends up in the inbox.\n",
    "\n",
    "To be clear, we label spam emails as 1 and ham emails as 0. These definitions depend both on the true labels and the predicted labels. False positives and false negatives may be of differing importance, leading us to consider more ways of evaluating a classifier, in addition to overall accuracy:\n",
    "\n",
    "**Precision** measures the proportion $\\frac{\\text{TP}}{\\text{TP} + \\text{FP}}$ of emails flagged as spam that are actually spam.\n",
    "\n",
    "**Recall** measures the proportion $\\frac{\\text{TP}}{\\text{TP} + \\text{FN}}$ of spam emails that were correctly flagged as spam. \n",
    "\n",
    "**False-alarm rate** measures the proportion $\\frac{\\text{FP}}{\\text{FP} + \\text{TN}}$ of ham emails that were incorrectly flagged as spam. \n",
    "\n",
    "The two graphics below may help you understand precision and recall visually:\n",
    "\n",
    "<img src=\"https://upload.wikimedia.org/wikipedia/commons/thumb/2/26/Precisionrecall.svg/700px-Precisionrecall.svg.png\" width=\"500px\">\n",
    "\n",
    "Note that a true positive (TP) is a spam email that is classified as spam, and a true negative (TN) is a ham email that is classified as ham."
   ]
  },
  {
   "cell_type": "markdown",
   "metadata": {
    "nbgrader": {
     "grade": false,
     "grade_id": "p2",
     "locked": true,
     "schema_version": 2,
     "solution": false
    }
   },
   "source": [
    "# Moving Forward - Building Your Own Model\n",
    "\n",
    "With this in mind, it is now your task to make the spam filter more accurate. In order to get full credit on the accuracy part of this assignment, you must get at least **88%** accuracy on the test set. To see your accuracy on the test set, you will use your classifier to predict every email in the `test` DataFrame and upload your predictions to Gradescope.\n",
    "\n",
    "**Gradescope limits you to four submissions per day**. This means you should start early so you have time if needed to refine your model. You will be able to see your accuracy on 70% of the test set when submitting to Gradescope, but we will be evaluating your model on the entire test set so try to score slightly above 88% on gradescope if you can.\n",
    "\n",
    "Here are some ideas for improving your model:\n",
    "\n",
    "1. Finding better features based on the email text. Some example features are:\n",
    "    1. Number of characters in the subject / body\n",
    "    1. Number of words in the subject / body\n",
    "    1. Use of punctuation (e.g., how many '!'s were there?)\n",
    "    1. Number / percentage of capital letters \n",
    "    1. Whether the email is a reply to an earlier email or a forwarded email\n",
    "1. Finding better (and/or more) words to use as features. Which words are the best at distinguishing emails? This requires digging into the email text itself. \n",
    "1. Better data processing. For example, many emails contain HTML as well as text. You can consider extracting out the text from the HTML to help you find better words. Or, you can match HTML tags themselves, or even some combination of the two.\n",
    "1. Model selection. You can adjust parameters of your model (e.g. the regularization parameter) to achieve higher accuracy. Recall that you should use cross-validation to do feature and model selection properly! Otherwise, you will likely overfit to your training data.\n",
    "\n",
    "You may use whatever method you prefer in order to create features, but **you are not allowed to import any external feature extraction libraries**. In addition, **you are only allowed to train logistic regression models**. No random forests, k-nearest-neighbors, neural nets, etc.\n",
    "\n",
    "We have not provided any code to do this, so feel free to create as many cells as you need in order to tackle this task. However, answering questions 7, 8, and 9 should help guide you.\n",
    "\n",
    "---\n",
    "\n",
    "**Note:** *You may want to use your **validation data** to evaluate your model and get a better sense of how it will perform on the test set.* Note, however, that you may overfit to your validation set if you try to optimize your validation accuracy too much.\n",
    "\n",
    "---"
   ]
  },
  {
   "cell_type": "markdown",
   "metadata": {
    "deletable": false,
    "editable": false,
    "nbgrader": {
     "grade": false,
     "grade_id": "q7",
     "locked": true,
     "schema_version": 2,
     "solution": false
    }
   },
   "source": [
    "<!-- BEGIN QUESTION -->\n",
    "\n",
    "### Question 1: Feature/Model Selection Process\n",
    "\n",
    "In this following cell, describe the process of improving your model. You should use at least 2-3 sentences each to address the follow questions:\n",
    "\n",
    "1. How did you find better features for your model?\n",
    "2. What did you try that worked or didn't work?\n",
    "3. What was surprising in your search for good features?\n",
    "\n",
    "<!--\n",
    "BEGIN QUESTION\n",
    "name: q1\n",
    "manual: True\n",
    "points: 6\n",
    "-->"
   ]
  },
  {
   "cell_type": "markdown",
   "metadata": {},
   "source": [
    "1)I found the most common words that appeared in the spam and ham emails. After that I used the words in text function to create the matrix that has a row for each email and column for each word.\n",
    "2)I found that spam emails tend to have a higher chance to have '!' in their subject so I added this to my model, which improved the accuracy.\n",
    "3)I found that words such as their, you're, should, through, words that are typically used in dail conversations appeared more in ham emails, which is surprising at first but also intuitive as a lot of the ham emails are personal."
   ]
  },
  {
   "cell_type": "markdown",
   "metadata": {
    "nbgrader": {
     "grade": false,
     "grade_id": "q8",
     "locked": true,
     "schema_version": 2,
     "solution": false
    }
   },
   "source": [
    "<!-- END QUESTION -->\n",
    "\n",
    "\n",
    "\n",
    "### Question 2: EDA\n",
    "\n",
    "In the cell below, show a visualization that you used to select features for your model. \n",
    "\n",
    "Include:\n",
    "\n",
    "1. A plot showing something meaningful about the data that helped you during feature selection, model selection, or both.\n",
    "2. Two or three sentences describing what you plotted and its implications with respect to your features.\n",
    "\n",
    "Feel free to create as many plots as you want in your process of feature selection, but select only one for the response cell below.\n",
    "\n",
    "**You should not just produce an identical visualization to question 3.** Specifically, don't show us a bar chart of proportions, or a one-dimensional class-conditional density plot. Any other plot is acceptable, **as long as it comes with thoughtful commentary.** Here are some ideas:\n",
    "\n",
    "1. Consider the correlation between multiple features (look up correlation plots and `sns.heatmap`). \n",
    "1. Try to show redundancy in a group of features (e.g. `body` and `html` might co-occur relatively frequently, or you might be able to design a feature that captures all html tags and compare it to these). \n",
    "1. Visualize which words have high or low values for some useful statistic.\n",
    "1. Visually depict whether spam emails tend to be wordier (in some sense) than ham emails."
   ]
  },
  {
   "cell_type": "markdown",
   "metadata": {
    "deletable": false,
    "editable": false
   },
   "source": [
    "<!-- BEGIN QUESTION -->\n",
    "\n",
    "Generate your visualization in the cell below and provide your description in a comment.\n",
    "\n",
    "<!--\n",
    "BEGIN QUESTION\n",
    "name: q2\n",
    "manual: True\n",
    "format: image\n",
    "points: 6\n",
    "-->"
   ]
  },
  {
   "cell_type": "code",
   "execution_count": 33,
   "metadata": {
    "ExecuteTime": {
     "end_time": "2019-04-02T00:27:36.170465Z",
     "start_time": "2019-04-02T00:27:36.167776Z"
    },
    "nbgrader": {
     "grade": true,
     "grade_id": "q8-eda",
     "locked": false,
     "points": 3,
     "schema_version": 2,
     "solution": true
    },
    "tags": [
     "student",
     "written",
     "q_eda1"
    ]
   },
   "outputs": [
    {
     "data": {
      "text/plain": [
       "<BarContainer object of 10 artists>"
      ]
     },
     "execution_count": 33,
     "metadata": {},
     "output_type": "execute_result"
    },
    {
     "data": {
      "image/png": "[encoded data removed]",
      "text/plain": [
       "<Figure size 432x288 with 2 Axes>"
      ]
     },
     "metadata": {},
     "output_type": "display_data"
    }
   ],
   "source": [
    "# Write your description (2-3 sentences) as a comment here:\n",
    "# \n",
    "#\n",
    "#\n",
    "\n",
    "# Write the code to generate your visualization here:\n",
    "spam_word_in_spam=[]\n",
    "for word in spam_words:\n",
    "    spam_word_in_spam.append(word_and_count[word])\n",
    "spam_word_in_ham=[]\n",
    "for word in spam_words:\n",
    "    spam_word_in_ham.append(word_and_count_ham[word])\n",
    "ham_word_in_spam=[]\n",
    "for word in ham_words:\n",
    "    ham_word_in_spam.append(word_and_count[word])\n",
    "ham_word_in_ham=[]\n",
    "for word in ham_words:\n",
    "    ham_word_in_ham.append(word_and_count_ham[word])\n",
    "    \n",
    "fig, ax = plt.subplots(2)\n",
    "\n",
    "ax[0].bar(spam_words[:10], spam_word_in_ham[:10])\n",
    "ax[1].bar(spam_words[:10], spam_word_in_spam[:10])\n",
    "#In the first graph the orange bars represent the spam words that appear in the spam emails\n",
    "# And the blue bars represents the spam words that appear in ham emails\n",
    "# We see that the orange bars are significantly taller, showing that the words I identified as\n",
    "#spam words appear a lot more often in the spam emails\n",
    "\n",
    "ax[0].bar(ham_words[:10], ham_word_in_ham[:10])\n",
    "ax[1].bar(ham_words[:10], ham_word_in_spam[:10])\n",
    "#In the first graph the orange bars represent the ham words that appear in the spam emails\n",
    "# And the blue bars represents the ham words that appear in ham emails\n",
    "# We see that the blue bars are significantly taller, showing that the words I identified as\n",
    "# ham words appear a lot more often in the ham emails"
   ]
  },
  {
   "cell_type": "markdown",
   "metadata": {
    "deletable": false,
    "editable": false,
    "nbgrader": {
     "grade": false,
     "grade_id": "q9",
     "locked": true,
     "schema_version": 2,
     "solution": false
    }
   },
   "source": [
    "<!-- END QUESTION -->\n",
    "\n",
    "<!-- BEGIN QUESTION -->\n",
    "\n",
    "### Question 3: ROC Curve\n",
    "\n",
    "In most cases we won't be able to get 0 false positives and 0 false negatives, so we have to compromise. For example, in the case of cancer screenings, false negatives are comparatively worse than false positives — a false negative means that a patient might not discover that they have cancer until it's too late, whereas a patient can just receive another screening for a false positive.\n",
    "\n",
    "Recall that logistic regression calculates the probability that an example belongs to a certain class. Then, to classify an example we say that an email is spam if our classifier gives it $\\ge 0.5$ probability of being spam. However, *we can adjust that cutoff*: we can say that an email is spam only if our classifier gives it $\\ge 0.7$ probability of being spam, for example. This is how we can trade off false positives and false negatives.\n",
    "\n",
    "The ROC curve shows this trade off for each possible cutoff probability. In the cell below, plot a ROC curve for your final classifier (the one you use to make predictions for Gradescope) on the training data. Refer to Lecture 20 or [Section 23.7](http://www.textbook.ds100.org/ch/23/classification_sensitivity_specificity.html?highlight=roc#roc-curves) of the course text to see how to plot an ROC curve.\n",
    "\n",
    "<!--\n",
    "BEGIN QUESTION\n",
    "name: q3\n",
    "manual: True\n",
    "points: 3\n",
    "-->"
   ]
  },
  {
   "cell_type": "code",
   "execution_count": null,
   "metadata": {},
   "outputs": [],
   "source": [
    "from sklearn.metrics import roc_curve\n",
    "\n",
    "# Note that you'll want to use the .predict_proba(...) method for your classifier\n",
    "# instead of .predict(...) so you get probabilities, not classes\n",
    "\n",
    "..."
   ]
  },
  {
   "cell_type": "markdown",
   "metadata": {
    "deletable": false,
    "editable": false,
    "nbgrader": {
     "grade": false,
     "grade_id": "q10",
     "locked": true,
     "schema_version": 2,
     "solution": false
    }
   },
   "source": [
    "<!-- END QUESTION -->\n",
    "\n",
    "# Question 4: Test Predictions\n",
    "\n",
    "The following code will write your predictions on the test dataset to a CSV file. **You will need to submit this file to the \"Homework 10 Test Predictions\" assignment on Gradescope to get credit for this question.**\n",
    "\n",
    "Save your predictions in a 1-dimensional array called `test_predictions`. **Please make sure you've saved your predictions to `test_predictions` as this is how part of your score for this question will be determined.**\n",
    "\n",
    "Remember that if you've performed transformations or featurization on the training data, you must also perform the same transformations on the test data in order to make predictions. For example, if you've created features for the words \"drug\" and \"money\" on the training data, you must also extract the same features in order to use scikit-learn's `.predict(...)` method.\n",
    "\n",
    "**Note: You may submit up to 4 times a day. If you have submitted 4 times on a day, you will need to wait until the next day for more submissions.**\n",
    "\n",
    "Note that this question is graded on an absolute scale based on the accuracy your model achieves on the overall test set, and as such, your score does not depend on your ranking on Gradescope. Your public Gradescope results are based off of your classifier's accuracy on 70% of the test dataset and your score for this question will be based off of your classifier's accuracy on 100% of the test set.\n",
    "\n",
    "*The provided tests check that your predictions are in the correct format, but you must additionally submit to Gradescope to evaluate your classifier accuracy.*\n",
    "\n",
    "<!--\n",
    "BEGIN QUESTION\n",
    "name: q4\n",
    "points: 3\n",
    "-->"
   ]
  },
  {
   "cell_type": "code",
   "execution_count": 34,
   "metadata": {},
   "outputs": [
    {
     "name": "stdout",
     "output_type": "stream",
     "text": [
      "Before imputation:\n",
      "id         0\n",
      "subject    1\n",
      "email      0\n",
      "dtype: int64\n",
      "------------\n",
      "After imputation:\n",
      "id         0\n",
      "subject    0\n",
      "email      0\n",
      "dtype: int64\n"
     ]
    }
   ],
   "source": [
    "print('Before imputation:')\n",
    "print(test.isnull().sum())\n",
    "test = test.fillna('')\n",
    "print('------------')\n",
    "print('After imputation:')\n",
    "print(test.isnull().sum())"
   ]
  },
  {
   "cell_type": "code",
   "execution_count": 35,
   "metadata": {},
   "outputs": [
    {
     "data": {
      "text/plain": [
       "array([0, 1, 0, 0, 0, 0, 0, 0, 0, 0, 0, 0, 0, 0, 0, 0, 1, 0, 0, 0, 0, 1,\n",
       "       0, 0, 0, 0, 0, 1, 1, 0, 0, 0, 0, 1, 0, 0, 0, 0, 0, 0, 0, 0, 0, 0,\n",
       "       1, 0, 0, 0, 1, 0, 0, 0, 0, 0, 0, 0, 0, 0, 0, 1, 1, 0, 1, 1, 0, 0,\n",
       "       0, 0, 0, 0, 0, 0, 0, 0, 0, 1, 0, 0, 0, 0, 0, 1, 0, 0, 0, 1, 1, 0,\n",
       "       0, 0, 0, 0, 0, 0, 1, 1, 0, 1, 0, 1, 0, 0, 0, 0, 0, 0, 0, 0, 0, 0,\n",
       "       0, 0, 0, 0, 0, 1, 1, 0, 1, 0, 0, 0, 0, 0, 0, 0, 0, 0, 0, 0, 0, 0,\n",
       "       0, 0, 0, 1, 0, 1, 0, 0, 1, 0, 0, 0, 0, 0, 0, 0, 0, 0, 0, 0, 0, 0,\n",
       "       1, 0, 0, 0, 0, 0, 0, 1, 1, 0, 0, 1, 0, 1, 0, 0, 0, 1, 0, 1, 0, 0,\n",
       "       0, 0, 0, 0, 1, 0, 0, 0, 1, 0, 1, 0, 0, 0, 0, 0, 0, 0, 1, 0, 0, 1,\n",
       "       0, 0, 0, 0, 1, 0, 0, 0, 0, 0, 0, 0, 0, 0, 0, 0, 1, 0, 1, 0, 1, 0,\n",
       "       0, 1, 0, 0, 1, 0, 0, 0, 0, 0, 0, 1, 0, 1, 0, 0, 0, 0, 0, 0, 0, 0,\n",
       "       1, 1, 0, 0, 0, 0, 1, 0, 1, 0, 0, 1, 0, 1, 0, 0, 0, 1, 0, 0, 0, 1,\n",
       "       0, 0, 0, 0, 0, 0, 0, 0, 0, 0, 0, 1, 0, 1, 0, 0, 0, 0, 0, 1, 0, 0,\n",
       "       0, 1, 0, 0, 0, 0, 0, 0, 1, 0, 0, 1, 0, 1, 0, 1, 0, 0, 0, 0, 0, 0,\n",
       "       1, 1, 0, 0, 0, 1, 1, 0, 0, 0, 0, 0, 1, 0, 0, 0, 0, 1, 0, 0, 1, 1,\n",
       "       0, 1, 0, 0, 1, 1, 0, 0, 0, 1, 0, 0, 0, 0, 0, 0, 1, 0, 1, 0, 1, 0,\n",
       "       0, 0, 0, 0, 0, 0, 1, 1, 0, 0, 0, 0, 0, 0, 0, 0, 0, 0, 0, 1, 0, 0,\n",
       "       0, 1, 0, 0, 1, 1, 0, 0, 0, 0, 0, 1, 0, 0, 1, 0, 0, 0, 0, 1, 0, 0,\n",
       "       1, 1, 0, 0, 0, 0, 1, 0, 0, 0, 0, 0, 1, 0, 0, 1, 0, 0, 0, 1, 0, 0,\n",
       "       1, 0, 0, 0, 0, 0, 0, 1, 0, 0, 0, 1, 1, 1, 1, 0, 0, 1, 0, 1, 0, 0,\n",
       "       0, 0, 1, 0, 1, 0, 0, 0, 0, 0, 0, 0, 1, 0, 0, 0, 1, 0, 1, 0, 0, 0,\n",
       "       0, 0, 1, 0, 0, 0, 0, 0, 0, 0, 0, 0, 0, 0, 0, 1, 0, 1, 0, 1, 1, 1,\n",
       "       1, 0, 0, 0, 0, 1, 0, 0, 0, 0, 0, 0, 0, 1, 0, 0, 0, 0, 0, 0, 0, 0,\n",
       "       0, 0, 0, 1, 0, 0, 0, 0, 1, 0, 0, 0, 1, 0, 1, 1, 0, 0, 0, 0, 0, 0,\n",
       "       1, 1, 0, 1, 1, 0, 0, 0, 1, 0, 0, 0, 0, 0, 0, 1, 0, 0, 0, 0, 0, 0,\n",
       "       0, 0, 0, 0, 0, 1, 1, 0, 1, 1, 0, 0, 0, 0, 0, 0, 0, 1, 0, 0, 0, 0,\n",
       "       0, 0, 0, 1, 0, 0, 0, 1, 0, 0, 0, 0, 0, 0, 0, 0, 0, 0, 0, 0, 0, 0,\n",
       "       0, 0, 0, 0, 0, 0, 0, 0, 0, 0, 0, 0, 0, 0, 0, 0, 1, 0, 0, 1, 0, 0,\n",
       "       0, 0, 1, 0, 0, 0, 1, 0, 0, 0, 0, 1, 0, 0, 0, 1, 1, 0, 0, 1, 0, 0,\n",
       "       0, 0, 0, 1, 0, 0, 0, 1, 0, 0, 0, 0, 0, 0, 0, 0, 0, 0, 0, 0, 0, 0,\n",
       "       1, 0, 0, 0, 0, 0, 0, 0, 0, 1, 0, 0, 0, 1, 0, 0, 1, 1, 0, 0, 0, 0,\n",
       "       0, 0, 0, 1, 1, 1, 0, 0, 0, 1, 0, 0, 0, 1, 0, 0, 0, 0, 0, 0, 1, 0,\n",
       "       0, 0, 0, 0, 0, 0, 0, 0, 0, 0, 0, 0, 0, 0, 1, 0, 0, 0, 0, 0, 1, 0,\n",
       "       0, 0, 0, 1, 0, 0, 0, 1, 0, 0, 0, 0, 0, 0, 0, 0, 1, 0, 0, 0, 0, 0,\n",
       "       0, 0, 1, 0, 0, 1, 0, 0, 0, 0, 0, 0, 0, 0, 0, 1, 0, 0, 0, 0, 1, 0,\n",
       "       0, 0, 0, 0, 1, 0, 0, 0, 0, 0, 1, 0, 0, 0, 0, 0, 1, 0, 0, 0, 0, 0,\n",
       "       0, 0, 0, 0, 0, 0, 0, 0, 0, 1, 0, 1, 0, 0, 1, 0, 0, 1, 1, 0, 0, 1,\n",
       "       0, 0, 1, 0, 0, 0, 0, 0, 0, 0, 0, 0, 0, 0, 0, 1, 0, 0, 1, 0, 0, 0,\n",
       "       1, 0, 0, 0, 1, 0, 0, 1, 0, 1, 0, 0, 0, 0, 0, 0, 1, 0, 0, 0, 0, 1,\n",
       "       0, 0, 0, 0, 0, 0, 0, 0, 0, 0, 0, 0, 0, 0, 1, 0, 0, 0, 1, 0, 0, 1,\n",
       "       0, 0, 1, 0, 0, 0, 0, 0, 0, 0, 0, 0, 1, 0, 0, 1, 0, 1, 0, 1, 0, 1,\n",
       "       0, 0, 1, 0, 0, 0, 0, 0, 0, 0, 0, 0, 0, 0, 0, 1, 0, 0, 0, 1, 0, 1,\n",
       "       0, 0, 0, 1, 0, 1, 0, 0, 1, 0, 1, 0, 1, 0, 0, 0, 0, 0, 0, 1, 0, 0,\n",
       "       1, 0, 0, 0, 1, 1, 0, 0, 0, 1, 0, 1, 0, 1, 0, 1, 0, 0, 0, 0, 0, 0,\n",
       "       0, 0, 0, 0, 1, 0, 0, 1, 0, 1, 1, 0, 0, 0, 1, 0, 0, 0, 0, 0, 0, 0,\n",
       "       1, 0, 0, 1, 0, 0, 0, 0, 0, 0])"
      ]
     },
     "execution_count": 35,
     "metadata": {},
     "output_type": "execute_result"
    }
   ],
   "source": [
    "test['email contains !']=test['email'].str.contains('!')\n",
    "test['subject contains !']=test['subject'].str.contains('!')\n",
    "test['has_money']=test['subject'].str.contains('money')\n",
    "array_AA=np.array(test['subject contains !'])\n",
    "array_AA=np.array([array_AA]).reshape(1000,1) #reshaping so that I can append it in the below cell\n",
    "array_BB=np.array(test['email contains !'])\n",
    "array_BB=np.array([array_BB]).reshape(1000,1)\n",
    "array_CC=np.array([test['has_money']])\n",
    "array_CC=array_CC.reshape(1000,1)\n",
    "identifying_words=spam_words+ham_words\n",
    "My_X_test = words_in_texts(identifying_words,test['email'])\n",
    "My_X_test = np.append(My_X_test,array_AA,1)\n",
    "My_X_test = np.append(My_X_test,array_BB,1)\n",
    "My_X_test = np.append(My_X_test,array_CC,1)\n",
    "my_model.predict(My_X_test)"
   ]
  },
  {
   "cell_type": "code",
   "execution_count": 47,
   "metadata": {
    "ExecuteTime": {
     "end_time": "2019-04-02T00:27:38.650695Z",
     "start_time": "2019-04-02T00:27:38.469233Z"
    },
    "nbgrader": {
     "grade": false,
     "grade_id": "q10-answer",
     "locked": false,
     "schema_version": 2,
     "solution": true
    }
   },
   "outputs": [],
   "source": [
    "test_predictions = my_model.predict(My_X_test)"
   ]
  },
  {
   "cell_type": "code",
   "execution_count": 37,
   "metadata": {
    "deletable": false,
    "editable": false
   },
   "outputs": [
    {
     "data": {
      "text/html": [
       "\n",
       "    <p><strong>q4</strong> passed!</p>\n",
       "    "
      ],
      "text/plain": [
       "q4 passed!"
      ]
     },
     "execution_count": 37,
     "metadata": {},
     "output_type": "execute_result"
    }
   ],
   "source": [
    "grader.check(\"q4\")"
   ]
  },
  {
   "cell_type": "markdown",
   "metadata": {
    "nbgrader": {
     "grade": false,
     "grade_id": "cell-d15e30e2a961277d",
     "locked": true,
     "schema_version": 2,
     "solution": false
    }
   },
   "source": [
    "The following cell generates a CSV file with your predictions. **You must submit this CSV file to the \"Homework 10 Test Predictions\" assignment on Gradescope to get credit for this question.**"
   ]
  },
  {
   "cell_type": "code",
   "execution_count": 50,
   "metadata": {
    "ExecuteTime": {
     "end_time": "2019-04-02T00:27:39.986326Z",
     "start_time": "2019-04-02T00:27:38.385Z"
    },
    "nbgrader": {
     "grade": false,
     "grade_id": "cell-8dd1bfadcbe08b00",
     "locked": true,
     "schema_version": 2,
     "solution": false
    }
   },
   "outputs": [
    {
     "name": "stdout",
     "output_type": "stream",
     "text": [
      "Created a CSV file: submission_2021-04-22T21:26:44.csv.\n",
      "You may now upload this CSV file to Gradescope for scoring.\n"
     ]
    }
   ],
   "source": [
    "from datetime import datetime\n",
    "\n",
    "# Assuming that your predictions on the test set are stored in a 1-dimensional array called\n",
    "# test_predictions. Feel free to modify this cell as long you create a CSV in the right format.\n",
    "\n",
    "# Construct and save the submission:\n",
    "submission_df = pd.DataFrame({\n",
    "    \"Id\": test['id'], \n",
    "    \"Class\": test_predictions,\n",
    "}, columns=['Id', 'Class'])\n",
    "timestamp = datetime.isoformat(datetime.now()).split(\".\")[0]\n",
    "submission_df.to_csv(\"submission_{}.csv\".format(timestamp), index=False)\n",
    "\n",
    "print('Created a CSV file: {}.'.format(\"submission_{}.csv\".format(timestamp)))\n",
    "print('You may now upload this CSV file to Gradescope for scoring.')"
   ]
  },
  {
   "cell_type": "markdown",
   "metadata": {},
   "source": [
    "## Congratulations! You have completed homework 10!"
   ]
  },
  {
   "cell_type": "markdown",
   "metadata": {
    "deletable": false,
    "editable": false
   },
   "source": [
    "---\n",
    "\n",
    "To double-check your work, the cell below will rerun all of the autograder tests."
   ]
  },
  {
   "cell_type": "code",
   "execution_count": 43,
   "metadata": {
    "deletable": false,
    "editable": false
   },
   "outputs": [
    {
     "data": {
      "text/html": [
       "\n",
       "    <p><strong>q4</strong> passed!</p>\n",
       "    \n",
       "\n"
      ],
      "text/plain": [
       "q4 passed!\n"
      ]
     },
     "execution_count": 43,
     "metadata": {},
     "output_type": "execute_result"
    }
   ],
   "source": [
    "grader.check_all()"
   ]
  },
  {
   "cell_type": "markdown",
   "metadata": {
    "deletable": false,
    "editable": false
   },
   "source": [
    "## Submission\n",
    "\n",
    "Make sure you have run all cells in your notebook in order before running the cell below, so that all images/graphs appear in the output. The cell below will generate a zip file for you to submit. **Please save before exporting!**"
   ]
  },
  {
   "cell_type": "code",
   "execution_count": 46,
   "metadata": {
    "deletable": false,
    "editable": false
   },
   "outputs": [
    {
     "data": {
      "application/javascript": [
       "Jupyter.notebook.save_checkpoint();"
      ],
      "text/plain": [
       "<IPython.core.display.Javascript object>"
      ]
     },
     "metadata": {},
     "output_type": "display_data"
    },
    {
     "data": {
      "text/html": [
       "\n",
       "                <p>Your submission has been exported. Click <a href=\"hw10.zip\" target=\"_blank\">here</a>\n",
       "                to download the zip file.</p>\n",
       "                "
      ],
      "text/plain": [
       "<IPython.core.display.HTML object>"
      ]
     },
     "metadata": {},
     "output_type": "display_data"
    }
   ],
   "source": [
    "# Save your notebook first, then run this cell to export your submission.\n",
    "grader.export()"
   ]
  },
  {
   "cell_type": "markdown",
   "metadata": {},
   "source": [
    " "
   ]
  }
 ],
 "metadata": {
  "kernelspec": {
   "display_name": "Python 3 (ipykernel)",
   "language": "python",
   "name": "python3"
  },
  "language_info": {
   "codemirror_mode": {
    "name": "ipython",
    "version": 3
   },
   "file_extension": ".py",
   "mimetype": "text/x-python",
   "name": "python",
   "nbconvert_exporter": "python",
   "pygments_lexer": "ipython3",
   "version": "3.9.7"
  }
 },
 "nbformat": 4,
 "nbformat_minor": 2
}
